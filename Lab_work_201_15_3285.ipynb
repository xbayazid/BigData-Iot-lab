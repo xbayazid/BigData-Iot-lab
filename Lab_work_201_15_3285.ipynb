{
  "cells": [
    {
      "cell_type": "code",
      "execution_count": null,
      "metadata": {
        "id": "k80DI7nljTEU"
      },
      "outputs": [],
      "source": [
        "import numpy as np\n",
        "import pandas as pd\n",
        "import matplotlib.pyplot as plt"
      ]
    },
    {
      "cell_type": "code",
      "execution_count": null,
      "metadata": {
        "id": "FwdNrmDYjTEV"
      },
      "outputs": [],
      "source": [
        "df = pd.read_csv('credit card.csv')"
      ]
    },
    {
      "cell_type": "code",
      "execution_count": null,
      "metadata": {
        "colab": {
          "base_uri": "https://localhost:8080/",
          "height": 487
        },
        "id": "vLymSc5ljTEW",
        "outputId": "606844f3-ace8-4e18-9cb6-60a836ad83f9"
      },
      "outputs": [
        {
          "output_type": "execute_result",
          "data": {
            "text/plain": [
              "          ID  LIMIT_BAL  SEX  EDUCATION  MARRIAGE   AGE  PAY_0  PAY_2  PAY_3  \\\n",
              "0          1    20000.0    2          2         1  24.0      2      2     -1   \n",
              "1          2   120000.0    2          2         2  26.0     -1      2      0   \n",
              "2          3    90000.0    2          2         2   NaN      0      0      0   \n",
              "3          4    50000.0    2          2         1   NaN      0      0      0   \n",
              "4          5    50000.0    1          2         1  57.0     -1      0     -1   \n",
              "...      ...        ...  ...        ...       ...   ...    ...    ...    ...   \n",
              "29995  29996   220000.0    1          3         1  39.0      0      0      0   \n",
              "29996  29997   150000.0    1          3         2  43.0     -1     -1     -1   \n",
              "29997  29998    30000.0    1          2         2  37.0      4      3      2   \n",
              "29998  29999    80000.0    1          3         1  41.0      1     -1      0   \n",
              "29999  30000    50000.0    1          2         1  46.0      0      0      0   \n",
              "\n",
              "       PAY_4  ...  BILL_AMT4  BILL_AMT5  BILL_AMT6  PAY_AMT1  PAY_AMT2  \\\n",
              "0         -1  ...        0.0        0.0        0.0       0.0     689.0   \n",
              "1          0  ...     3272.0     3455.0     3261.0       0.0    1000.0   \n",
              "2          0  ...    14331.0    14948.0    15549.0    1518.0    1500.0   \n",
              "3          0  ...    28314.0    28959.0    29547.0    2000.0    2018.0   \n",
              "4          0  ...    20940.0    19146.0    19131.0    2000.0   36681.0   \n",
              "...      ...  ...        ...        ...        ...       ...       ...   \n",
              "29995      0  ...    88004.0    31237.0    15980.0    8500.0   20000.0   \n",
              "29996     -1  ...     8979.0     5190.0        0.0    1837.0    3526.0   \n",
              "29997     -1  ...    20878.0    20582.0    19357.0       0.0       0.0   \n",
              "29998      0  ...    52774.0    11855.0    48944.0   85900.0    3409.0   \n",
              "29999      0  ...    36535.0    32428.0    15313.0    2078.0    1800.0   \n",
              "\n",
              "       PAY_AMT3  PAY_AMT4  PAY_AMT5  PAY_AMT6  default.payment.next.month  \n",
              "0           0.0       0.0       0.0       0.0                           1  \n",
              "1        1000.0    1000.0       0.0    2000.0                           1  \n",
              "2        1000.0    1000.0    1000.0    5000.0                           0  \n",
              "3        1200.0    1100.0    1069.0    1000.0                           0  \n",
              "4       10000.0    9000.0     689.0     679.0                           0  \n",
              "...         ...       ...       ...       ...                         ...  \n",
              "29995    5003.0    3047.0    5000.0    1000.0                           0  \n",
              "29996    8998.0     129.0       0.0       0.0                           0  \n",
              "29997   22000.0    4200.0    2000.0    3100.0                           1  \n",
              "29998    1178.0    1926.0   52964.0    1804.0                           1  \n",
              "29999    1430.0    1000.0    1000.0    1000.0                           1  \n",
              "\n",
              "[30000 rows x 25 columns]"
            ],
            "text/html": [
              "\n",
              "\n",
              "  <div id=\"df-7a1d0ebc-e837-4b3b-8186-a3f017284164\">\n",
              "    <div class=\"colab-df-container\">\n",
              "      <div>\n",
              "<style scoped>\n",
              "    .dataframe tbody tr th:only-of-type {\n",
              "        vertical-align: middle;\n",
              "    }\n",
              "\n",
              "    .dataframe tbody tr th {\n",
              "        vertical-align: top;\n",
              "    }\n",
              "\n",
              "    .dataframe thead th {\n",
              "        text-align: right;\n",
              "    }\n",
              "</style>\n",
              "<table border=\"1\" class=\"dataframe\">\n",
              "  <thead>\n",
              "    <tr style=\"text-align: right;\">\n",
              "      <th></th>\n",
              "      <th>ID</th>\n",
              "      <th>LIMIT_BAL</th>\n",
              "      <th>SEX</th>\n",
              "      <th>EDUCATION</th>\n",
              "      <th>MARRIAGE</th>\n",
              "      <th>AGE</th>\n",
              "      <th>PAY_0</th>\n",
              "      <th>PAY_2</th>\n",
              "      <th>PAY_3</th>\n",
              "      <th>PAY_4</th>\n",
              "      <th>...</th>\n",
              "      <th>BILL_AMT4</th>\n",
              "      <th>BILL_AMT5</th>\n",
              "      <th>BILL_AMT6</th>\n",
              "      <th>PAY_AMT1</th>\n",
              "      <th>PAY_AMT2</th>\n",
              "      <th>PAY_AMT3</th>\n",
              "      <th>PAY_AMT4</th>\n",
              "      <th>PAY_AMT5</th>\n",
              "      <th>PAY_AMT6</th>\n",
              "      <th>default.payment.next.month</th>\n",
              "    </tr>\n",
              "  </thead>\n",
              "  <tbody>\n",
              "    <tr>\n",
              "      <th>0</th>\n",
              "      <td>1</td>\n",
              "      <td>20000.0</td>\n",
              "      <td>2</td>\n",
              "      <td>2</td>\n",
              "      <td>1</td>\n",
              "      <td>24.0</td>\n",
              "      <td>2</td>\n",
              "      <td>2</td>\n",
              "      <td>-1</td>\n",
              "      <td>-1</td>\n",
              "      <td>...</td>\n",
              "      <td>0.0</td>\n",
              "      <td>0.0</td>\n",
              "      <td>0.0</td>\n",
              "      <td>0.0</td>\n",
              "      <td>689.0</td>\n",
              "      <td>0.0</td>\n",
              "      <td>0.0</td>\n",
              "      <td>0.0</td>\n",
              "      <td>0.0</td>\n",
              "      <td>1</td>\n",
              "    </tr>\n",
              "    <tr>\n",
              "      <th>1</th>\n",
              "      <td>2</td>\n",
              "      <td>120000.0</td>\n",
              "      <td>2</td>\n",
              "      <td>2</td>\n",
              "      <td>2</td>\n",
              "      <td>26.0</td>\n",
              "      <td>-1</td>\n",
              "      <td>2</td>\n",
              "      <td>0</td>\n",
              "      <td>0</td>\n",
              "      <td>...</td>\n",
              "      <td>3272.0</td>\n",
              "      <td>3455.0</td>\n",
              "      <td>3261.0</td>\n",
              "      <td>0.0</td>\n",
              "      <td>1000.0</td>\n",
              "      <td>1000.0</td>\n",
              "      <td>1000.0</td>\n",
              "      <td>0.0</td>\n",
              "      <td>2000.0</td>\n",
              "      <td>1</td>\n",
              "    </tr>\n",
              "    <tr>\n",
              "      <th>2</th>\n",
              "      <td>3</td>\n",
              "      <td>90000.0</td>\n",
              "      <td>2</td>\n",
              "      <td>2</td>\n",
              "      <td>2</td>\n",
              "      <td>NaN</td>\n",
              "      <td>0</td>\n",
              "      <td>0</td>\n",
              "      <td>0</td>\n",
              "      <td>0</td>\n",
              "      <td>...</td>\n",
              "      <td>14331.0</td>\n",
              "      <td>14948.0</td>\n",
              "      <td>15549.0</td>\n",
              "      <td>1518.0</td>\n",
              "      <td>1500.0</td>\n",
              "      <td>1000.0</td>\n",
              "      <td>1000.0</td>\n",
              "      <td>1000.0</td>\n",
              "      <td>5000.0</td>\n",
              "      <td>0</td>\n",
              "    </tr>\n",
              "    <tr>\n",
              "      <th>3</th>\n",
              "      <td>4</td>\n",
              "      <td>50000.0</td>\n",
              "      <td>2</td>\n",
              "      <td>2</td>\n",
              "      <td>1</td>\n",
              "      <td>NaN</td>\n",
              "      <td>0</td>\n",
              "      <td>0</td>\n",
              "      <td>0</td>\n",
              "      <td>0</td>\n",
              "      <td>...</td>\n",
              "      <td>28314.0</td>\n",
              "      <td>28959.0</td>\n",
              "      <td>29547.0</td>\n",
              "      <td>2000.0</td>\n",
              "      <td>2018.0</td>\n",
              "      <td>1200.0</td>\n",
              "      <td>1100.0</td>\n",
              "      <td>1069.0</td>\n",
              "      <td>1000.0</td>\n",
              "      <td>0</td>\n",
              "    </tr>\n",
              "    <tr>\n",
              "      <th>4</th>\n",
              "      <td>5</td>\n",
              "      <td>50000.0</td>\n",
              "      <td>1</td>\n",
              "      <td>2</td>\n",
              "      <td>1</td>\n",
              "      <td>57.0</td>\n",
              "      <td>-1</td>\n",
              "      <td>0</td>\n",
              "      <td>-1</td>\n",
              "      <td>0</td>\n",
              "      <td>...</td>\n",
              "      <td>20940.0</td>\n",
              "      <td>19146.0</td>\n",
              "      <td>19131.0</td>\n",
              "      <td>2000.0</td>\n",
              "      <td>36681.0</td>\n",
              "      <td>10000.0</td>\n",
              "      <td>9000.0</td>\n",
              "      <td>689.0</td>\n",
              "      <td>679.0</td>\n",
              "      <td>0</td>\n",
              "    </tr>\n",
              "    <tr>\n",
              "      <th>...</th>\n",
              "      <td>...</td>\n",
              "      <td>...</td>\n",
              "      <td>...</td>\n",
              "      <td>...</td>\n",
              "      <td>...</td>\n",
              "      <td>...</td>\n",
              "      <td>...</td>\n",
              "      <td>...</td>\n",
              "      <td>...</td>\n",
              "      <td>...</td>\n",
              "      <td>...</td>\n",
              "      <td>...</td>\n",
              "      <td>...</td>\n",
              "      <td>...</td>\n",
              "      <td>...</td>\n",
              "      <td>...</td>\n",
              "      <td>...</td>\n",
              "      <td>...</td>\n",
              "      <td>...</td>\n",
              "      <td>...</td>\n",
              "      <td>...</td>\n",
              "    </tr>\n",
              "    <tr>\n",
              "      <th>29995</th>\n",
              "      <td>29996</td>\n",
              "      <td>220000.0</td>\n",
              "      <td>1</td>\n",
              "      <td>3</td>\n",
              "      <td>1</td>\n",
              "      <td>39.0</td>\n",
              "      <td>0</td>\n",
              "      <td>0</td>\n",
              "      <td>0</td>\n",
              "      <td>0</td>\n",
              "      <td>...</td>\n",
              "      <td>88004.0</td>\n",
              "      <td>31237.0</td>\n",
              "      <td>15980.0</td>\n",
              "      <td>8500.0</td>\n",
              "      <td>20000.0</td>\n",
              "      <td>5003.0</td>\n",
              "      <td>3047.0</td>\n",
              "      <td>5000.0</td>\n",
              "      <td>1000.0</td>\n",
              "      <td>0</td>\n",
              "    </tr>\n",
              "    <tr>\n",
              "      <th>29996</th>\n",
              "      <td>29997</td>\n",
              "      <td>150000.0</td>\n",
              "      <td>1</td>\n",
              "      <td>3</td>\n",
              "      <td>2</td>\n",
              "      <td>43.0</td>\n",
              "      <td>-1</td>\n",
              "      <td>-1</td>\n",
              "      <td>-1</td>\n",
              "      <td>-1</td>\n",
              "      <td>...</td>\n",
              "      <td>8979.0</td>\n",
              "      <td>5190.0</td>\n",
              "      <td>0.0</td>\n",
              "      <td>1837.0</td>\n",
              "      <td>3526.0</td>\n",
              "      <td>8998.0</td>\n",
              "      <td>129.0</td>\n",
              "      <td>0.0</td>\n",
              "      <td>0.0</td>\n",
              "      <td>0</td>\n",
              "    </tr>\n",
              "    <tr>\n",
              "      <th>29997</th>\n",
              "      <td>29998</td>\n",
              "      <td>30000.0</td>\n",
              "      <td>1</td>\n",
              "      <td>2</td>\n",
              "      <td>2</td>\n",
              "      <td>37.0</td>\n",
              "      <td>4</td>\n",
              "      <td>3</td>\n",
              "      <td>2</td>\n",
              "      <td>-1</td>\n",
              "      <td>...</td>\n",
              "      <td>20878.0</td>\n",
              "      <td>20582.0</td>\n",
              "      <td>19357.0</td>\n",
              "      <td>0.0</td>\n",
              "      <td>0.0</td>\n",
              "      <td>22000.0</td>\n",
              "      <td>4200.0</td>\n",
              "      <td>2000.0</td>\n",
              "      <td>3100.0</td>\n",
              "      <td>1</td>\n",
              "    </tr>\n",
              "    <tr>\n",
              "      <th>29998</th>\n",
              "      <td>29999</td>\n",
              "      <td>80000.0</td>\n",
              "      <td>1</td>\n",
              "      <td>3</td>\n",
              "      <td>1</td>\n",
              "      <td>41.0</td>\n",
              "      <td>1</td>\n",
              "      <td>-1</td>\n",
              "      <td>0</td>\n",
              "      <td>0</td>\n",
              "      <td>...</td>\n",
              "      <td>52774.0</td>\n",
              "      <td>11855.0</td>\n",
              "      <td>48944.0</td>\n",
              "      <td>85900.0</td>\n",
              "      <td>3409.0</td>\n",
              "      <td>1178.0</td>\n",
              "      <td>1926.0</td>\n",
              "      <td>52964.0</td>\n",
              "      <td>1804.0</td>\n",
              "      <td>1</td>\n",
              "    </tr>\n",
              "    <tr>\n",
              "      <th>29999</th>\n",
              "      <td>30000</td>\n",
              "      <td>50000.0</td>\n",
              "      <td>1</td>\n",
              "      <td>2</td>\n",
              "      <td>1</td>\n",
              "      <td>46.0</td>\n",
              "      <td>0</td>\n",
              "      <td>0</td>\n",
              "      <td>0</td>\n",
              "      <td>0</td>\n",
              "      <td>...</td>\n",
              "      <td>36535.0</td>\n",
              "      <td>32428.0</td>\n",
              "      <td>15313.0</td>\n",
              "      <td>2078.0</td>\n",
              "      <td>1800.0</td>\n",
              "      <td>1430.0</td>\n",
              "      <td>1000.0</td>\n",
              "      <td>1000.0</td>\n",
              "      <td>1000.0</td>\n",
              "      <td>1</td>\n",
              "    </tr>\n",
              "  </tbody>\n",
              "</table>\n",
              "<p>30000 rows × 25 columns</p>\n",
              "</div>\n",
              "      <button class=\"colab-df-convert\" onclick=\"convertToInteractive('df-7a1d0ebc-e837-4b3b-8186-a3f017284164')\"\n",
              "              title=\"Convert this dataframe to an interactive table.\"\n",
              "              style=\"display:none;\">\n",
              "\n",
              "  <svg xmlns=\"http://www.w3.org/2000/svg\" height=\"24px\"viewBox=\"0 0 24 24\"\n",
              "       width=\"24px\">\n",
              "    <path d=\"M0 0h24v24H0V0z\" fill=\"none\"/>\n",
              "    <path d=\"M18.56 5.44l.94 2.06.94-2.06 2.06-.94-2.06-.94-.94-2.06-.94 2.06-2.06.94zm-11 1L8.5 8.5l.94-2.06 2.06-.94-2.06-.94L8.5 2.5l-.94 2.06-2.06.94zm10 10l.94 2.06.94-2.06 2.06-.94-2.06-.94-.94-2.06-.94 2.06-2.06.94z\"/><path d=\"M17.41 7.96l-1.37-1.37c-.4-.4-.92-.59-1.43-.59-.52 0-1.04.2-1.43.59L10.3 9.45l-7.72 7.72c-.78.78-.78 2.05 0 2.83L4 21.41c.39.39.9.59 1.41.59.51 0 1.02-.2 1.41-.59l7.78-7.78 2.81-2.81c.8-.78.8-2.07 0-2.86zM5.41 20L4 18.59l7.72-7.72 1.47 1.35L5.41 20z\"/>\n",
              "  </svg>\n",
              "      </button>\n",
              "\n",
              "\n",
              "\n",
              "    <div id=\"df-b10f5172-1166-471a-a730-8734c3cb0ec5\">\n",
              "      <button class=\"colab-df-quickchart\" onclick=\"quickchart('df-b10f5172-1166-471a-a730-8734c3cb0ec5')\"\n",
              "              title=\"Suggest charts.\"\n",
              "              style=\"display:none;\">\n",
              "\n",
              "<svg xmlns=\"http://www.w3.org/2000/svg\" height=\"24px\"viewBox=\"0 0 24 24\"\n",
              "     width=\"24px\">\n",
              "    <g>\n",
              "        <path d=\"M19 3H5c-1.1 0-2 .9-2 2v14c0 1.1.9 2 2 2h14c1.1 0 2-.9 2-2V5c0-1.1-.9-2-2-2zM9 17H7v-7h2v7zm4 0h-2V7h2v10zm4 0h-2v-4h2v4z\"/>\n",
              "    </g>\n",
              "</svg>\n",
              "      </button>\n",
              "    </div>\n",
              "\n",
              "<style>\n",
              "  .colab-df-quickchart {\n",
              "    background-color: #E8F0FE;\n",
              "    border: none;\n",
              "    border-radius: 50%;\n",
              "    cursor: pointer;\n",
              "    display: none;\n",
              "    fill: #1967D2;\n",
              "    height: 32px;\n",
              "    padding: 0 0 0 0;\n",
              "    width: 32px;\n",
              "  }\n",
              "\n",
              "  .colab-df-quickchart:hover {\n",
              "    background-color: #E2EBFA;\n",
              "    box-shadow: 0px 1px 2px rgba(60, 64, 67, 0.3), 0px 1px 3px 1px rgba(60, 64, 67, 0.15);\n",
              "    fill: #174EA6;\n",
              "  }\n",
              "\n",
              "  [theme=dark] .colab-df-quickchart {\n",
              "    background-color: #3B4455;\n",
              "    fill: #D2E3FC;\n",
              "  }\n",
              "\n",
              "  [theme=dark] .colab-df-quickchart:hover {\n",
              "    background-color: #434B5C;\n",
              "    box-shadow: 0px 1px 3px 1px rgba(0, 0, 0, 0.15);\n",
              "    filter: drop-shadow(0px 1px 2px rgba(0, 0, 0, 0.3));\n",
              "    fill: #FFFFFF;\n",
              "  }\n",
              "</style>\n",
              "\n",
              "    <script>\n",
              "      async function quickchart(key) {\n",
              "        const containerElement = document.querySelector('#' + key);\n",
              "        const charts = await google.colab.kernel.invokeFunction(\n",
              "            'suggestCharts', [key], {});\n",
              "      }\n",
              "    </script>\n",
              "\n",
              "      <script>\n",
              "\n",
              "function displayQuickchartButton(domScope) {\n",
              "  let quickchartButtonEl =\n",
              "    domScope.querySelector('#df-b10f5172-1166-471a-a730-8734c3cb0ec5 button.colab-df-quickchart');\n",
              "  quickchartButtonEl.style.display =\n",
              "    google.colab.kernel.accessAllowed ? 'block' : 'none';\n",
              "}\n",
              "\n",
              "        displayQuickchartButton(document);\n",
              "      </script>\n",
              "      <style>\n",
              "    .colab-df-container {\n",
              "      display:flex;\n",
              "      flex-wrap:wrap;\n",
              "      gap: 12px;\n",
              "    }\n",
              "\n",
              "    .colab-df-convert {\n",
              "      background-color: #E8F0FE;\n",
              "      border: none;\n",
              "      border-radius: 50%;\n",
              "      cursor: pointer;\n",
              "      display: none;\n",
              "      fill: #1967D2;\n",
              "      height: 32px;\n",
              "      padding: 0 0 0 0;\n",
              "      width: 32px;\n",
              "    }\n",
              "\n",
              "    .colab-df-convert:hover {\n",
              "      background-color: #E2EBFA;\n",
              "      box-shadow: 0px 1px 2px rgba(60, 64, 67, 0.3), 0px 1px 3px 1px rgba(60, 64, 67, 0.15);\n",
              "      fill: #174EA6;\n",
              "    }\n",
              "\n",
              "    [theme=dark] .colab-df-convert {\n",
              "      background-color: #3B4455;\n",
              "      fill: #D2E3FC;\n",
              "    }\n",
              "\n",
              "    [theme=dark] .colab-df-convert:hover {\n",
              "      background-color: #434B5C;\n",
              "      box-shadow: 0px 1px 3px 1px rgba(0, 0, 0, 0.15);\n",
              "      filter: drop-shadow(0px 1px 2px rgba(0, 0, 0, 0.3));\n",
              "      fill: #FFFFFF;\n",
              "    }\n",
              "  </style>\n",
              "\n",
              "      <script>\n",
              "        const buttonEl =\n",
              "          document.querySelector('#df-7a1d0ebc-e837-4b3b-8186-a3f017284164 button.colab-df-convert');\n",
              "        buttonEl.style.display =\n",
              "          google.colab.kernel.accessAllowed ? 'block' : 'none';\n",
              "\n",
              "        async function convertToInteractive(key) {\n",
              "          const element = document.querySelector('#df-7a1d0ebc-e837-4b3b-8186-a3f017284164');\n",
              "          const dataTable =\n",
              "            await google.colab.kernel.invokeFunction('convertToInteractive',\n",
              "                                                     [key], {});\n",
              "          if (!dataTable) return;\n",
              "\n",
              "          const docLinkHtml = 'Like what you see? Visit the ' +\n",
              "            '<a target=\"_blank\" href=https://colab.research.google.com/notebooks/data_table.ipynb>data table notebook</a>'\n",
              "            + ' to learn more about interactive tables.';\n",
              "          element.innerHTML = '';\n",
              "          dataTable['output_type'] = 'display_data';\n",
              "          await google.colab.output.renderOutput(dataTable, element);\n",
              "          const docLink = document.createElement('div');\n",
              "          docLink.innerHTML = docLinkHtml;\n",
              "          element.appendChild(docLink);\n",
              "        }\n",
              "      </script>\n",
              "    </div>\n",
              "  </div>\n"
            ]
          },
          "metadata": {},
          "execution_count": 18
        }
      ],
      "source": [
        "df"
      ]
    },
    {
      "cell_type": "code",
      "execution_count": null,
      "metadata": {
        "colab": {
          "base_uri": "https://localhost:8080/"
        },
        "id": "M4-rS4HZjTEX",
        "outputId": "9a8f60e9-6d3c-48de-814a-4ea935e7edbd"
      },
      "outputs": [
        {
          "output_type": "execute_result",
          "data": {
            "text/plain": [
              "(30000, 25)"
            ]
          },
          "metadata": {},
          "execution_count": 21
        }
      ],
      "source": [
        "df.shape"
      ]
    },
    {
      "cell_type": "code",
      "execution_count": null,
      "metadata": {
        "colab": {
          "base_uri": "https://localhost:8080/"
        },
        "id": "DyqAdlVGjTEX",
        "outputId": "c91965bc-a072-46b9-8fe9-936eacd725fc"
      },
      "outputs": [
        {
          "output_type": "execute_result",
          "data": {
            "text/plain": [
              "ID                            0\n",
              "LIMIT_BAL                     0\n",
              "SEX                           0\n",
              "EDUCATION                     0\n",
              "MARRIAGE                      0\n",
              "AGE                           2\n",
              "PAY_0                         0\n",
              "PAY_2                         0\n",
              "PAY_3                         0\n",
              "PAY_4                         0\n",
              "PAY_5                         0\n",
              "PAY_6                         0\n",
              "BILL_AMT1                     0\n",
              "BILL_AMT2                     0\n",
              "BILL_AMT3                     0\n",
              "BILL_AMT4                     0\n",
              "BILL_AMT5                     0\n",
              "BILL_AMT6                     0\n",
              "PAY_AMT1                      0\n",
              "PAY_AMT2                      0\n",
              "PAY_AMT3                      0\n",
              "PAY_AMT4                      0\n",
              "PAY_AMT5                      0\n",
              "PAY_AMT6                      0\n",
              "default.payment.next.month    0\n",
              "dtype: int64"
            ]
          },
          "metadata": {},
          "execution_count": 22
        }
      ],
      "source": [
        "df.isnull().sum()"
      ]
    },
    {
      "cell_type": "code",
      "execution_count": null,
      "metadata": {
        "id": "LKULs7RpjTEX"
      },
      "outputs": [],
      "source": [
        "fill= df['AGE'].median()"
      ]
    },
    {
      "cell_type": "code",
      "execution_count": null,
      "metadata": {
        "id": "nXtdx_qYjTEY"
      },
      "outputs": [],
      "source": [
        "df.AGE = df.AGE.fillna(fill)"
      ]
    },
    {
      "cell_type": "code",
      "execution_count": null,
      "metadata": {
        "colab": {
          "base_uri": "https://localhost:8080/"
        },
        "id": "a5nQuCwkjTEY",
        "outputId": "91ce707a-3be7-4c35-cef8-568b443d7d34"
      },
      "outputs": [
        {
          "output_type": "execute_result",
          "data": {
            "text/plain": [
              "0        24.0\n",
              "1        26.0\n",
              "2        34.0\n",
              "3        34.0\n",
              "4        57.0\n",
              "         ... \n",
              "29995    39.0\n",
              "29996    43.0\n",
              "29997    37.0\n",
              "29998    41.0\n",
              "29999    46.0\n",
              "Name: AGE, Length: 30000, dtype: float64"
            ]
          },
          "metadata": {},
          "execution_count": 25
        }
      ],
      "source": [
        "df.AGE"
      ]
    },
    {
      "cell_type": "code",
      "execution_count": null,
      "metadata": {
        "id": "h9HZ2BFWjTEY"
      },
      "outputs": [],
      "source": [
        "X = df.drop(['default.payment.next.month'],axis=1)"
      ]
    },
    {
      "cell_type": "code",
      "execution_count": null,
      "metadata": {
        "colab": {
          "base_uri": "https://localhost:8080/",
          "height": 487
        },
        "id": "VdDORM_ujTEY",
        "outputId": "a789b3a4-c9ec-4cdd-9130-8da71654eac9"
      },
      "outputs": [
        {
          "output_type": "execute_result",
          "data": {
            "text/plain": [
              "          ID  LIMIT_BAL  SEX  EDUCATION  MARRIAGE   AGE  PAY_0  PAY_2  PAY_3  \\\n",
              "0          1    20000.0    2          2         1  24.0      2      2     -1   \n",
              "1          2   120000.0    2          2         2  26.0     -1      2      0   \n",
              "2          3    90000.0    2          2         2  34.0      0      0      0   \n",
              "3          4    50000.0    2          2         1  34.0      0      0      0   \n",
              "4          5    50000.0    1          2         1  57.0     -1      0     -1   \n",
              "...      ...        ...  ...        ...       ...   ...    ...    ...    ...   \n",
              "29995  29996   220000.0    1          3         1  39.0      0      0      0   \n",
              "29996  29997   150000.0    1          3         2  43.0     -1     -1     -1   \n",
              "29997  29998    30000.0    1          2         2  37.0      4      3      2   \n",
              "29998  29999    80000.0    1          3         1  41.0      1     -1      0   \n",
              "29999  30000    50000.0    1          2         1  46.0      0      0      0   \n",
              "\n",
              "       PAY_4  ...  BILL_AMT3  BILL_AMT4  BILL_AMT5  BILL_AMT6  PAY_AMT1  \\\n",
              "0         -1  ...      689.0        0.0        0.0        0.0       0.0   \n",
              "1          0  ...     2682.0     3272.0     3455.0     3261.0       0.0   \n",
              "2          0  ...    13559.0    14331.0    14948.0    15549.0    1518.0   \n",
              "3          0  ...    49291.0    28314.0    28959.0    29547.0    2000.0   \n",
              "4          0  ...    35835.0    20940.0    19146.0    19131.0    2000.0   \n",
              "...      ...  ...        ...        ...        ...        ...       ...   \n",
              "29995      0  ...   208365.0    88004.0    31237.0    15980.0    8500.0   \n",
              "29996     -1  ...     3502.0     8979.0     5190.0        0.0    1837.0   \n",
              "29997     -1  ...     2758.0    20878.0    20582.0    19357.0       0.0   \n",
              "29998      0  ...    76304.0    52774.0    11855.0    48944.0   85900.0   \n",
              "29999      0  ...    49764.0    36535.0    32428.0    15313.0    2078.0   \n",
              "\n",
              "       PAY_AMT2  PAY_AMT3  PAY_AMT4  PAY_AMT5  PAY_AMT6  \n",
              "0         689.0       0.0       0.0       0.0       0.0  \n",
              "1        1000.0    1000.0    1000.0       0.0    2000.0  \n",
              "2        1500.0    1000.0    1000.0    1000.0    5000.0  \n",
              "3        2018.0    1200.0    1100.0    1069.0    1000.0  \n",
              "4       36681.0   10000.0    9000.0     689.0     679.0  \n",
              "...         ...       ...       ...       ...       ...  \n",
              "29995   20000.0    5003.0    3047.0    5000.0    1000.0  \n",
              "29996    3526.0    8998.0     129.0       0.0       0.0  \n",
              "29997       0.0   22000.0    4200.0    2000.0    3100.0  \n",
              "29998    3409.0    1178.0    1926.0   52964.0    1804.0  \n",
              "29999    1800.0    1430.0    1000.0    1000.0    1000.0  \n",
              "\n",
              "[30000 rows x 24 columns]"
            ],
            "text/html": [
              "\n",
              "\n",
              "  <div id=\"df-5c848886-faac-427d-b5d4-2e25ed81e396\">\n",
              "    <div class=\"colab-df-container\">\n",
              "      <div>\n",
              "<style scoped>\n",
              "    .dataframe tbody tr th:only-of-type {\n",
              "        vertical-align: middle;\n",
              "    }\n",
              "\n",
              "    .dataframe tbody tr th {\n",
              "        vertical-align: top;\n",
              "    }\n",
              "\n",
              "    .dataframe thead th {\n",
              "        text-align: right;\n",
              "    }\n",
              "</style>\n",
              "<table border=\"1\" class=\"dataframe\">\n",
              "  <thead>\n",
              "    <tr style=\"text-align: right;\">\n",
              "      <th></th>\n",
              "      <th>ID</th>\n",
              "      <th>LIMIT_BAL</th>\n",
              "      <th>SEX</th>\n",
              "      <th>EDUCATION</th>\n",
              "      <th>MARRIAGE</th>\n",
              "      <th>AGE</th>\n",
              "      <th>PAY_0</th>\n",
              "      <th>PAY_2</th>\n",
              "      <th>PAY_3</th>\n",
              "      <th>PAY_4</th>\n",
              "      <th>...</th>\n",
              "      <th>BILL_AMT3</th>\n",
              "      <th>BILL_AMT4</th>\n",
              "      <th>BILL_AMT5</th>\n",
              "      <th>BILL_AMT6</th>\n",
              "      <th>PAY_AMT1</th>\n",
              "      <th>PAY_AMT2</th>\n",
              "      <th>PAY_AMT3</th>\n",
              "      <th>PAY_AMT4</th>\n",
              "      <th>PAY_AMT5</th>\n",
              "      <th>PAY_AMT6</th>\n",
              "    </tr>\n",
              "  </thead>\n",
              "  <tbody>\n",
              "    <tr>\n",
              "      <th>0</th>\n",
              "      <td>1</td>\n",
              "      <td>20000.0</td>\n",
              "      <td>2</td>\n",
              "      <td>2</td>\n",
              "      <td>1</td>\n",
              "      <td>24.0</td>\n",
              "      <td>2</td>\n",
              "      <td>2</td>\n",
              "      <td>-1</td>\n",
              "      <td>-1</td>\n",
              "      <td>...</td>\n",
              "      <td>689.0</td>\n",
              "      <td>0.0</td>\n",
              "      <td>0.0</td>\n",
              "      <td>0.0</td>\n",
              "      <td>0.0</td>\n",
              "      <td>689.0</td>\n",
              "      <td>0.0</td>\n",
              "      <td>0.0</td>\n",
              "      <td>0.0</td>\n",
              "      <td>0.0</td>\n",
              "    </tr>\n",
              "    <tr>\n",
              "      <th>1</th>\n",
              "      <td>2</td>\n",
              "      <td>120000.0</td>\n",
              "      <td>2</td>\n",
              "      <td>2</td>\n",
              "      <td>2</td>\n",
              "      <td>26.0</td>\n",
              "      <td>-1</td>\n",
              "      <td>2</td>\n",
              "      <td>0</td>\n",
              "      <td>0</td>\n",
              "      <td>...</td>\n",
              "      <td>2682.0</td>\n",
              "      <td>3272.0</td>\n",
              "      <td>3455.0</td>\n",
              "      <td>3261.0</td>\n",
              "      <td>0.0</td>\n",
              "      <td>1000.0</td>\n",
              "      <td>1000.0</td>\n",
              "      <td>1000.0</td>\n",
              "      <td>0.0</td>\n",
              "      <td>2000.0</td>\n",
              "    </tr>\n",
              "    <tr>\n",
              "      <th>2</th>\n",
              "      <td>3</td>\n",
              "      <td>90000.0</td>\n",
              "      <td>2</td>\n",
              "      <td>2</td>\n",
              "      <td>2</td>\n",
              "      <td>34.0</td>\n",
              "      <td>0</td>\n",
              "      <td>0</td>\n",
              "      <td>0</td>\n",
              "      <td>0</td>\n",
              "      <td>...</td>\n",
              "      <td>13559.0</td>\n",
              "      <td>14331.0</td>\n",
              "      <td>14948.0</td>\n",
              "      <td>15549.0</td>\n",
              "      <td>1518.0</td>\n",
              "      <td>1500.0</td>\n",
              "      <td>1000.0</td>\n",
              "      <td>1000.0</td>\n",
              "      <td>1000.0</td>\n",
              "      <td>5000.0</td>\n",
              "    </tr>\n",
              "    <tr>\n",
              "      <th>3</th>\n",
              "      <td>4</td>\n",
              "      <td>50000.0</td>\n",
              "      <td>2</td>\n",
              "      <td>2</td>\n",
              "      <td>1</td>\n",
              "      <td>34.0</td>\n",
              "      <td>0</td>\n",
              "      <td>0</td>\n",
              "      <td>0</td>\n",
              "      <td>0</td>\n",
              "      <td>...</td>\n",
              "      <td>49291.0</td>\n",
              "      <td>28314.0</td>\n",
              "      <td>28959.0</td>\n",
              "      <td>29547.0</td>\n",
              "      <td>2000.0</td>\n",
              "      <td>2018.0</td>\n",
              "      <td>1200.0</td>\n",
              "      <td>1100.0</td>\n",
              "      <td>1069.0</td>\n",
              "      <td>1000.0</td>\n",
              "    </tr>\n",
              "    <tr>\n",
              "      <th>4</th>\n",
              "      <td>5</td>\n",
              "      <td>50000.0</td>\n",
              "      <td>1</td>\n",
              "      <td>2</td>\n",
              "      <td>1</td>\n",
              "      <td>57.0</td>\n",
              "      <td>-1</td>\n",
              "      <td>0</td>\n",
              "      <td>-1</td>\n",
              "      <td>0</td>\n",
              "      <td>...</td>\n",
              "      <td>35835.0</td>\n",
              "      <td>20940.0</td>\n",
              "      <td>19146.0</td>\n",
              "      <td>19131.0</td>\n",
              "      <td>2000.0</td>\n",
              "      <td>36681.0</td>\n",
              "      <td>10000.0</td>\n",
              "      <td>9000.0</td>\n",
              "      <td>689.0</td>\n",
              "      <td>679.0</td>\n",
              "    </tr>\n",
              "    <tr>\n",
              "      <th>...</th>\n",
              "      <td>...</td>\n",
              "      <td>...</td>\n",
              "      <td>...</td>\n",
              "      <td>...</td>\n",
              "      <td>...</td>\n",
              "      <td>...</td>\n",
              "      <td>...</td>\n",
              "      <td>...</td>\n",
              "      <td>...</td>\n",
              "      <td>...</td>\n",
              "      <td>...</td>\n",
              "      <td>...</td>\n",
              "      <td>...</td>\n",
              "      <td>...</td>\n",
              "      <td>...</td>\n",
              "      <td>...</td>\n",
              "      <td>...</td>\n",
              "      <td>...</td>\n",
              "      <td>...</td>\n",
              "      <td>...</td>\n",
              "      <td>...</td>\n",
              "    </tr>\n",
              "    <tr>\n",
              "      <th>29995</th>\n",
              "      <td>29996</td>\n",
              "      <td>220000.0</td>\n",
              "      <td>1</td>\n",
              "      <td>3</td>\n",
              "      <td>1</td>\n",
              "      <td>39.0</td>\n",
              "      <td>0</td>\n",
              "      <td>0</td>\n",
              "      <td>0</td>\n",
              "      <td>0</td>\n",
              "      <td>...</td>\n",
              "      <td>208365.0</td>\n",
              "      <td>88004.0</td>\n",
              "      <td>31237.0</td>\n",
              "      <td>15980.0</td>\n",
              "      <td>8500.0</td>\n",
              "      <td>20000.0</td>\n",
              "      <td>5003.0</td>\n",
              "      <td>3047.0</td>\n",
              "      <td>5000.0</td>\n",
              "      <td>1000.0</td>\n",
              "    </tr>\n",
              "    <tr>\n",
              "      <th>29996</th>\n",
              "      <td>29997</td>\n",
              "      <td>150000.0</td>\n",
              "      <td>1</td>\n",
              "      <td>3</td>\n",
              "      <td>2</td>\n",
              "      <td>43.0</td>\n",
              "      <td>-1</td>\n",
              "      <td>-1</td>\n",
              "      <td>-1</td>\n",
              "      <td>-1</td>\n",
              "      <td>...</td>\n",
              "      <td>3502.0</td>\n",
              "      <td>8979.0</td>\n",
              "      <td>5190.0</td>\n",
              "      <td>0.0</td>\n",
              "      <td>1837.0</td>\n",
              "      <td>3526.0</td>\n",
              "      <td>8998.0</td>\n",
              "      <td>129.0</td>\n",
              "      <td>0.0</td>\n",
              "      <td>0.0</td>\n",
              "    </tr>\n",
              "    <tr>\n",
              "      <th>29997</th>\n",
              "      <td>29998</td>\n",
              "      <td>30000.0</td>\n",
              "      <td>1</td>\n",
              "      <td>2</td>\n",
              "      <td>2</td>\n",
              "      <td>37.0</td>\n",
              "      <td>4</td>\n",
              "      <td>3</td>\n",
              "      <td>2</td>\n",
              "      <td>-1</td>\n",
              "      <td>...</td>\n",
              "      <td>2758.0</td>\n",
              "      <td>20878.0</td>\n",
              "      <td>20582.0</td>\n",
              "      <td>19357.0</td>\n",
              "      <td>0.0</td>\n",
              "      <td>0.0</td>\n",
              "      <td>22000.0</td>\n",
              "      <td>4200.0</td>\n",
              "      <td>2000.0</td>\n",
              "      <td>3100.0</td>\n",
              "    </tr>\n",
              "    <tr>\n",
              "      <th>29998</th>\n",
              "      <td>29999</td>\n",
              "      <td>80000.0</td>\n",
              "      <td>1</td>\n",
              "      <td>3</td>\n",
              "      <td>1</td>\n",
              "      <td>41.0</td>\n",
              "      <td>1</td>\n",
              "      <td>-1</td>\n",
              "      <td>0</td>\n",
              "      <td>0</td>\n",
              "      <td>...</td>\n",
              "      <td>76304.0</td>\n",
              "      <td>52774.0</td>\n",
              "      <td>11855.0</td>\n",
              "      <td>48944.0</td>\n",
              "      <td>85900.0</td>\n",
              "      <td>3409.0</td>\n",
              "      <td>1178.0</td>\n",
              "      <td>1926.0</td>\n",
              "      <td>52964.0</td>\n",
              "      <td>1804.0</td>\n",
              "    </tr>\n",
              "    <tr>\n",
              "      <th>29999</th>\n",
              "      <td>30000</td>\n",
              "      <td>50000.0</td>\n",
              "      <td>1</td>\n",
              "      <td>2</td>\n",
              "      <td>1</td>\n",
              "      <td>46.0</td>\n",
              "      <td>0</td>\n",
              "      <td>0</td>\n",
              "      <td>0</td>\n",
              "      <td>0</td>\n",
              "      <td>...</td>\n",
              "      <td>49764.0</td>\n",
              "      <td>36535.0</td>\n",
              "      <td>32428.0</td>\n",
              "      <td>15313.0</td>\n",
              "      <td>2078.0</td>\n",
              "      <td>1800.0</td>\n",
              "      <td>1430.0</td>\n",
              "      <td>1000.0</td>\n",
              "      <td>1000.0</td>\n",
              "      <td>1000.0</td>\n",
              "    </tr>\n",
              "  </tbody>\n",
              "</table>\n",
              "<p>30000 rows × 24 columns</p>\n",
              "</div>\n",
              "      <button class=\"colab-df-convert\" onclick=\"convertToInteractive('df-5c848886-faac-427d-b5d4-2e25ed81e396')\"\n",
              "              title=\"Convert this dataframe to an interactive table.\"\n",
              "              style=\"display:none;\">\n",
              "\n",
              "  <svg xmlns=\"http://www.w3.org/2000/svg\" height=\"24px\"viewBox=\"0 0 24 24\"\n",
              "       width=\"24px\">\n",
              "    <path d=\"M0 0h24v24H0V0z\" fill=\"none\"/>\n",
              "    <path d=\"M18.56 5.44l.94 2.06.94-2.06 2.06-.94-2.06-.94-.94-2.06-.94 2.06-2.06.94zm-11 1L8.5 8.5l.94-2.06 2.06-.94-2.06-.94L8.5 2.5l-.94 2.06-2.06.94zm10 10l.94 2.06.94-2.06 2.06-.94-2.06-.94-.94-2.06-.94 2.06-2.06.94z\"/><path d=\"M17.41 7.96l-1.37-1.37c-.4-.4-.92-.59-1.43-.59-.52 0-1.04.2-1.43.59L10.3 9.45l-7.72 7.72c-.78.78-.78 2.05 0 2.83L4 21.41c.39.39.9.59 1.41.59.51 0 1.02-.2 1.41-.59l7.78-7.78 2.81-2.81c.8-.78.8-2.07 0-2.86zM5.41 20L4 18.59l7.72-7.72 1.47 1.35L5.41 20z\"/>\n",
              "  </svg>\n",
              "      </button>\n",
              "\n",
              "\n",
              "\n",
              "    <div id=\"df-d8893ea1-372b-4d51-88bc-2c86ae5dc4ba\">\n",
              "      <button class=\"colab-df-quickchart\" onclick=\"quickchart('df-d8893ea1-372b-4d51-88bc-2c86ae5dc4ba')\"\n",
              "              title=\"Suggest charts.\"\n",
              "              style=\"display:none;\">\n",
              "\n",
              "<svg xmlns=\"http://www.w3.org/2000/svg\" height=\"24px\"viewBox=\"0 0 24 24\"\n",
              "     width=\"24px\">\n",
              "    <g>\n",
              "        <path d=\"M19 3H5c-1.1 0-2 .9-2 2v14c0 1.1.9 2 2 2h14c1.1 0 2-.9 2-2V5c0-1.1-.9-2-2-2zM9 17H7v-7h2v7zm4 0h-2V7h2v10zm4 0h-2v-4h2v4z\"/>\n",
              "    </g>\n",
              "</svg>\n",
              "      </button>\n",
              "    </div>\n",
              "\n",
              "<style>\n",
              "  .colab-df-quickchart {\n",
              "    background-color: #E8F0FE;\n",
              "    border: none;\n",
              "    border-radius: 50%;\n",
              "    cursor: pointer;\n",
              "    display: none;\n",
              "    fill: #1967D2;\n",
              "    height: 32px;\n",
              "    padding: 0 0 0 0;\n",
              "    width: 32px;\n",
              "  }\n",
              "\n",
              "  .colab-df-quickchart:hover {\n",
              "    background-color: #E2EBFA;\n",
              "    box-shadow: 0px 1px 2px rgba(60, 64, 67, 0.3), 0px 1px 3px 1px rgba(60, 64, 67, 0.15);\n",
              "    fill: #174EA6;\n",
              "  }\n",
              "\n",
              "  [theme=dark] .colab-df-quickchart {\n",
              "    background-color: #3B4455;\n",
              "    fill: #D2E3FC;\n",
              "  }\n",
              "\n",
              "  [theme=dark] .colab-df-quickchart:hover {\n",
              "    background-color: #434B5C;\n",
              "    box-shadow: 0px 1px 3px 1px rgba(0, 0, 0, 0.15);\n",
              "    filter: drop-shadow(0px 1px 2px rgba(0, 0, 0, 0.3));\n",
              "    fill: #FFFFFF;\n",
              "  }\n",
              "</style>\n",
              "\n",
              "    <script>\n",
              "      async function quickchart(key) {\n",
              "        const containerElement = document.querySelector('#' + key);\n",
              "        const charts = await google.colab.kernel.invokeFunction(\n",
              "            'suggestCharts', [key], {});\n",
              "      }\n",
              "    </script>\n",
              "\n",
              "      <script>\n",
              "\n",
              "function displayQuickchartButton(domScope) {\n",
              "  let quickchartButtonEl =\n",
              "    domScope.querySelector('#df-d8893ea1-372b-4d51-88bc-2c86ae5dc4ba button.colab-df-quickchart');\n",
              "  quickchartButtonEl.style.display =\n",
              "    google.colab.kernel.accessAllowed ? 'block' : 'none';\n",
              "}\n",
              "\n",
              "        displayQuickchartButton(document);\n",
              "      </script>\n",
              "      <style>\n",
              "    .colab-df-container {\n",
              "      display:flex;\n",
              "      flex-wrap:wrap;\n",
              "      gap: 12px;\n",
              "    }\n",
              "\n",
              "    .colab-df-convert {\n",
              "      background-color: #E8F0FE;\n",
              "      border: none;\n",
              "      border-radius: 50%;\n",
              "      cursor: pointer;\n",
              "      display: none;\n",
              "      fill: #1967D2;\n",
              "      height: 32px;\n",
              "      padding: 0 0 0 0;\n",
              "      width: 32px;\n",
              "    }\n",
              "\n",
              "    .colab-df-convert:hover {\n",
              "      background-color: #E2EBFA;\n",
              "      box-shadow: 0px 1px 2px rgba(60, 64, 67, 0.3), 0px 1px 3px 1px rgba(60, 64, 67, 0.15);\n",
              "      fill: #174EA6;\n",
              "    }\n",
              "\n",
              "    [theme=dark] .colab-df-convert {\n",
              "      background-color: #3B4455;\n",
              "      fill: #D2E3FC;\n",
              "    }\n",
              "\n",
              "    [theme=dark] .colab-df-convert:hover {\n",
              "      background-color: #434B5C;\n",
              "      box-shadow: 0px 1px 3px 1px rgba(0, 0, 0, 0.15);\n",
              "      filter: drop-shadow(0px 1px 2px rgba(0, 0, 0, 0.3));\n",
              "      fill: #FFFFFF;\n",
              "    }\n",
              "  </style>\n",
              "\n",
              "      <script>\n",
              "        const buttonEl =\n",
              "          document.querySelector('#df-5c848886-faac-427d-b5d4-2e25ed81e396 button.colab-df-convert');\n",
              "        buttonEl.style.display =\n",
              "          google.colab.kernel.accessAllowed ? 'block' : 'none';\n",
              "\n",
              "        async function convertToInteractive(key) {\n",
              "          const element = document.querySelector('#df-5c848886-faac-427d-b5d4-2e25ed81e396');\n",
              "          const dataTable =\n",
              "            await google.colab.kernel.invokeFunction('convertToInteractive',\n",
              "                                                     [key], {});\n",
              "          if (!dataTable) return;\n",
              "\n",
              "          const docLinkHtml = 'Like what you see? Visit the ' +\n",
              "            '<a target=\"_blank\" href=https://colab.research.google.com/notebooks/data_table.ipynb>data table notebook</a>'\n",
              "            + ' to learn more about interactive tables.';\n",
              "          element.innerHTML = '';\n",
              "          dataTable['output_type'] = 'display_data';\n",
              "          await google.colab.output.renderOutput(dataTable, element);\n",
              "          const docLink = document.createElement('div');\n",
              "          docLink.innerHTML = docLinkHtml;\n",
              "          element.appendChild(docLink);\n",
              "        }\n",
              "      </script>\n",
              "    </div>\n",
              "  </div>\n"
            ]
          },
          "metadata": {},
          "execution_count": 27
        }
      ],
      "source": [
        "X"
      ]
    },
    {
      "cell_type": "code",
      "execution_count": null,
      "metadata": {
        "id": "00DS1aKCjTEY"
      },
      "outputs": [],
      "source": [
        "y= df['default.payment.next.month']"
      ]
    },
    {
      "cell_type": "code",
      "execution_count": null,
      "metadata": {
        "colab": {
          "base_uri": "https://localhost:8080/"
        },
        "id": "BV2krB78jTEZ",
        "outputId": "5f72ef70-8f28-4dd8-f617-e4531871f021"
      },
      "outputs": [
        {
          "output_type": "execute_result",
          "data": {
            "text/plain": [
              "0        1\n",
              "1        1\n",
              "2        0\n",
              "3        0\n",
              "4        0\n",
              "        ..\n",
              "29995    0\n",
              "29996    0\n",
              "29997    1\n",
              "29998    1\n",
              "29999    1\n",
              "Name: default.payment.next.month, Length: 30000, dtype: int64"
            ]
          },
          "metadata": {},
          "execution_count": 29
        }
      ],
      "source": [
        "y"
      ]
    },
    {
      "cell_type": "code",
      "execution_count": null,
      "metadata": {
        "id": "BnQtXnJxjTEZ"
      },
      "outputs": [],
      "source": [
        "#Dataset splitting\n",
        "from sklearn.model_selection import train_test_split\n",
        "X_train,X_test,y_train,y_test=train_test_split(X,y,test_size=.30,random_state=1)"
      ]
    },
    {
      "cell_type": "code",
      "execution_count": null,
      "metadata": {
        "colab": {
          "base_uri": "https://localhost:8080/",
          "height": 74
        },
        "id": "KM67zuQVjTEZ",
        "outputId": "ca75be02-5dd1-4154-9b7d-8e41a030142b"
      },
      "outputs": [
        {
          "output_type": "execute_result",
          "data": {
            "text/plain": [
              "SVC(gamma='auto')"
            ],
            "text/html": [
              "<style>#sk-container-id-1 {color: black;background-color: white;}#sk-container-id-1 pre{padding: 0;}#sk-container-id-1 div.sk-toggleable {background-color: white;}#sk-container-id-1 label.sk-toggleable__label {cursor: pointer;display: block;width: 100%;margin-bottom: 0;padding: 0.3em;box-sizing: border-box;text-align: center;}#sk-container-id-1 label.sk-toggleable__label-arrow:before {content: \"▸\";float: left;margin-right: 0.25em;color: #696969;}#sk-container-id-1 label.sk-toggleable__label-arrow:hover:before {color: black;}#sk-container-id-1 div.sk-estimator:hover label.sk-toggleable__label-arrow:before {color: black;}#sk-container-id-1 div.sk-toggleable__content {max-height: 0;max-width: 0;overflow: hidden;text-align: left;background-color: #f0f8ff;}#sk-container-id-1 div.sk-toggleable__content pre {margin: 0.2em;color: black;border-radius: 0.25em;background-color: #f0f8ff;}#sk-container-id-1 input.sk-toggleable__control:checked~div.sk-toggleable__content {max-height: 200px;max-width: 100%;overflow: auto;}#sk-container-id-1 input.sk-toggleable__control:checked~label.sk-toggleable__label-arrow:before {content: \"▾\";}#sk-container-id-1 div.sk-estimator input.sk-toggleable__control:checked~label.sk-toggleable__label {background-color: #d4ebff;}#sk-container-id-1 div.sk-label input.sk-toggleable__control:checked~label.sk-toggleable__label {background-color: #d4ebff;}#sk-container-id-1 input.sk-hidden--visually {border: 0;clip: rect(1px 1px 1px 1px);clip: rect(1px, 1px, 1px, 1px);height: 1px;margin: -1px;overflow: hidden;padding: 0;position: absolute;width: 1px;}#sk-container-id-1 div.sk-estimator {font-family: monospace;background-color: #f0f8ff;border: 1px dotted black;border-radius: 0.25em;box-sizing: border-box;margin-bottom: 0.5em;}#sk-container-id-1 div.sk-estimator:hover {background-color: #d4ebff;}#sk-container-id-1 div.sk-parallel-item::after {content: \"\";width: 100%;border-bottom: 1px solid gray;flex-grow: 1;}#sk-container-id-1 div.sk-label:hover label.sk-toggleable__label {background-color: #d4ebff;}#sk-container-id-1 div.sk-serial::before {content: \"\";position: absolute;border-left: 1px solid gray;box-sizing: border-box;top: 0;bottom: 0;left: 50%;z-index: 0;}#sk-container-id-1 div.sk-serial {display: flex;flex-direction: column;align-items: center;background-color: white;padding-right: 0.2em;padding-left: 0.2em;position: relative;}#sk-container-id-1 div.sk-item {position: relative;z-index: 1;}#sk-container-id-1 div.sk-parallel {display: flex;align-items: stretch;justify-content: center;background-color: white;position: relative;}#sk-container-id-1 div.sk-item::before, #sk-container-id-1 div.sk-parallel-item::before {content: \"\";position: absolute;border-left: 1px solid gray;box-sizing: border-box;top: 0;bottom: 0;left: 50%;z-index: -1;}#sk-container-id-1 div.sk-parallel-item {display: flex;flex-direction: column;z-index: 1;position: relative;background-color: white;}#sk-container-id-1 div.sk-parallel-item:first-child::after {align-self: flex-end;width: 50%;}#sk-container-id-1 div.sk-parallel-item:last-child::after {align-self: flex-start;width: 50%;}#sk-container-id-1 div.sk-parallel-item:only-child::after {width: 0;}#sk-container-id-1 div.sk-dashed-wrapped {border: 1px dashed gray;margin: 0 0.4em 0.5em 0.4em;box-sizing: border-box;padding-bottom: 0.4em;background-color: white;}#sk-container-id-1 div.sk-label label {font-family: monospace;font-weight: bold;display: inline-block;line-height: 1.2em;}#sk-container-id-1 div.sk-label-container {text-align: center;}#sk-container-id-1 div.sk-container {/* jupyter's `normalize.less` sets `[hidden] { display: none; }` but bootstrap.min.css set `[hidden] { display: none !important; }` so we also need the `!important` here to be able to override the default hidden behavior on the sphinx rendered scikit-learn.org. See: https://github.com/scikit-learn/scikit-learn/issues/21755 */display: inline-block !important;position: relative;}#sk-container-id-1 div.sk-text-repr-fallback {display: none;}</style><div id=\"sk-container-id-1\" class=\"sk-top-container\"><div class=\"sk-text-repr-fallback\"><pre>SVC(gamma=&#x27;auto&#x27;)</pre><b>In a Jupyter environment, please rerun this cell to show the HTML representation or trust the notebook. <br />On GitHub, the HTML representation is unable to render, please try loading this page with nbviewer.org.</b></div><div class=\"sk-container\" hidden><div class=\"sk-item\"><div class=\"sk-estimator sk-toggleable\"><input class=\"sk-toggleable__control sk-hidden--visually\" id=\"sk-estimator-id-1\" type=\"checkbox\" checked><label for=\"sk-estimator-id-1\" class=\"sk-toggleable__label sk-toggleable__label-arrow\">SVC</label><div class=\"sk-toggleable__content\"><pre>SVC(gamma=&#x27;auto&#x27;)</pre></div></div></div></div></div>"
            ]
          },
          "metadata": {},
          "execution_count": 31
        }
      ],
      "source": [
        "#Train Model\n",
        "import seaborn\n",
        "from sklearn.svm import SVC\n",
        "r=SVC(gamma='auto')\n",
        "r.fit(X_train, y_train)"
      ]
    },
    {
      "cell_type": "code",
      "execution_count": null,
      "metadata": {
        "id": "gX5ppxzvjTEZ"
      },
      "outputs": [],
      "source": [
        "#predict\n",
        "pred2= r.predict(X_test)"
      ]
    },
    {
      "cell_type": "code",
      "execution_count": null,
      "metadata": {
        "colab": {
          "base_uri": "https://localhost:8080/"
        },
        "id": "VBZSFV1XjTEZ",
        "outputId": "90953bf8-e32a-4dfb-e5c1-ad32ebb69d2a"
      },
      "outputs": [
        {
          "output_type": "execute_result",
          "data": {
            "text/plain": [
              "0.7777777777777778"
            ]
          },
          "metadata": {},
          "execution_count": 33
        }
      ],
      "source": [
        "r.score(X_test,y_test)"
      ]
    },
    {
      "cell_type": "code",
      "source": [
        "from sklearn import tree"
      ],
      "metadata": {
        "id": "I5cuLKXNtT7q"
      },
      "execution_count": null,
      "outputs": []
    },
    {
      "cell_type": "code",
      "source": [],
      "metadata": {
        "id": "-KSt-h1QtfcO"
      },
      "execution_count": null,
      "outputs": []
    },
    {
      "cell_type": "code",
      "execution_count": null,
      "metadata": {
        "colab": {
          "base_uri": "https://localhost:8080/"
        },
        "id": "FkvnIugTjTEZ",
        "outputId": "fce708d2-0618-4843-d2b5-00a7807650e0"
      },
      "outputs": [
        {
          "output_type": "execute_result",
          "data": {
            "text/plain": [
              "0.7777777777777778"
            ]
          },
          "metadata": {},
          "execution_count": 34
        }
      ],
      "source": [
        "from sklearn.metrics import accuracy_score,confusion_matrix\n",
        "from sklearn.metrics import classification_report\n",
        "accuracy_score(y_test,pred2)"
      ]
    },
    {
      "cell_type": "code",
      "execution_count": null,
      "metadata": {
        "colab": {
          "base_uri": "https://localhost:8080/"
        },
        "id": "_4_ecKkZjTEZ",
        "outputId": "11a2c0ee-1b6c-4dbd-9dd1-4c2ac2e8b7a4"
      },
      "outputs": [
        {
          "output_type": "execute_result",
          "data": {
            "text/plain": [
              "array([[7000,    0],\n",
              "       [2000,    0]])"
            ]
          },
          "metadata": {},
          "execution_count": 35
        }
      ],
      "source": [
        "confusion_matrix(y_test,pred2)"
      ]
    },
    {
      "cell_type": "code",
      "execution_count": null,
      "metadata": {
        "colab": {
          "base_uri": "https://localhost:8080/",
          "height": 194
        },
        "id": "_705cb5mjTEZ",
        "outputId": "4bef509f-e3c6-4013-e760-755d8a227c0d"
      },
      "outputs": [
        {
          "output_type": "stream",
          "name": "stderr",
          "text": [
            "/usr/local/lib/python3.10/dist-packages/sklearn/metrics/_classification.py:1344: UndefinedMetricWarning: Precision and F-score are ill-defined and being set to 0.0 in labels with no predicted samples. Use `zero_division` parameter to control this behavior.\n",
            "  _warn_prf(average, modifier, msg_start, len(result))\n",
            "/usr/local/lib/python3.10/dist-packages/sklearn/metrics/_classification.py:1344: UndefinedMetricWarning: Precision and F-score are ill-defined and being set to 0.0 in labels with no predicted samples. Use `zero_division` parameter to control this behavior.\n",
            "  _warn_prf(average, modifier, msg_start, len(result))\n",
            "/usr/local/lib/python3.10/dist-packages/sklearn/metrics/_classification.py:1344: UndefinedMetricWarning: Precision and F-score are ill-defined and being set to 0.0 in labels with no predicted samples. Use `zero_division` parameter to control this behavior.\n",
            "  _warn_prf(average, modifier, msg_start, len(result))\n"
          ]
        },
        {
          "output_type": "execute_result",
          "data": {
            "text/plain": [
              "'              precision    recall  f1-score   support\\n\\n           0       0.78      1.00      0.88      7000\\n           1       0.00      0.00      0.00      2000\\n\\n    accuracy                           0.78      9000\\n   macro avg       0.39      0.50      0.44      9000\\nweighted avg       0.60      0.78      0.68      9000\\n'"
            ],
            "application/vnd.google.colaboratory.intrinsic+json": {
              "type": "string"
            }
          },
          "metadata": {},
          "execution_count": 37
        }
      ],
      "source": [
        "classification_report(y_test,pred2)"
      ]
    },
    {
      "cell_type": "code",
      "execution_count": null,
      "metadata": {
        "colab": {
          "base_uri": "https://localhost:8080/"
        },
        "id": "lcmCPklujTEZ",
        "outputId": "b72f0921-19b6-49c6-ab33-f59a40ffdfff"
      },
      "outputs": [
        {
          "output_type": "stream",
          "name": "stdout",
          "text": [
            "              precision    recall  f1-score   support\n",
            "\n",
            "           0       0.78      1.00      0.88      7000\n",
            "           1       0.00      0.00      0.00      2000\n",
            "\n",
            "    accuracy                           0.78      9000\n",
            "   macro avg       0.39      0.50      0.44      9000\n",
            "weighted avg       0.60      0.78      0.68      9000\n",
            "\n"
          ]
        },
        {
          "output_type": "stream",
          "name": "stderr",
          "text": [
            "/usr/local/lib/python3.10/dist-packages/sklearn/metrics/_classification.py:1344: UndefinedMetricWarning: Precision and F-score are ill-defined and being set to 0.0 in labels with no predicted samples. Use `zero_division` parameter to control this behavior.\n",
            "  _warn_prf(average, modifier, msg_start, len(result))\n",
            "/usr/local/lib/python3.10/dist-packages/sklearn/metrics/_classification.py:1344: UndefinedMetricWarning: Precision and F-score are ill-defined and being set to 0.0 in labels with no predicted samples. Use `zero_division` parameter to control this behavior.\n",
            "  _warn_prf(average, modifier, msg_start, len(result))\n",
            "/usr/local/lib/python3.10/dist-packages/sklearn/metrics/_classification.py:1344: UndefinedMetricWarning: Precision and F-score are ill-defined and being set to 0.0 in labels with no predicted samples. Use `zero_division` parameter to control this behavior.\n",
            "  _warn_prf(average, modifier, msg_start, len(result))\n"
          ]
        }
      ],
      "source": [
        "print(classification_report(y_test,pred2))"
      ]
    },
    {
      "cell_type": "code",
      "source": [
        "from sklearn.metrics import confusion_matrix\n",
        "\n",
        "# Your code here\n",
        "\n",
        "# Now you can use confusion_matrix or cnf_matrix here\n",
        "\n",
        "cnf_matrix=confusion_matrix(y_test,pred2)\n",
        "cnf_matrix"
      ],
      "metadata": {
        "colab": {
          "base_uri": "https://localhost:8080/"
        },
        "id": "V-yx9M8tnc4A",
        "outputId": "ef23365d-a0e4-4375-b965-b625c8a31097"
      },
      "execution_count": null,
      "outputs": [
        {
          "output_type": "execute_result",
          "data": {
            "text/plain": [
              "array([[7000,    0],\n",
              "       [2000,    0]])"
            ]
          },
          "metadata": {},
          "execution_count": 76
        }
      ]
    },
    {
      "cell_type": "code",
      "source": [
        "import seaborn as sns\n",
        "%matplotlib inline\n",
        "\n",
        "class_names=[0,1] # name  of classes\n",
        "fig, ax = plt.subplots()\n",
        "tick_marks = np.arange(len(class_names))\n",
        "plt.xticks(tick_marks, class_names)\n",
        "plt.yticks(tick_marks, class_names)\n",
        "# create heatmap\n",
        "sns.heatmap(pd.DataFrame(cnf_matrix), annot=True, cmap=\"YlGnBu\" ,fmt='g')\n",
        "ax.xaxis.set_label_position(\"top\")\n",
        "plt.tight_layout()\n",
        "plt.title('Confusion matrix', y=1.1)\n",
        "plt.ylabel('Actual label')\n",
        "plt.xlabel('Predicted label')\n"
      ],
      "metadata": {
        "colab": {
          "base_uri": "https://localhost:8080/",
          "height": 562
        },
        "id": "6OAbY_-enhxX",
        "outputId": "81852362-6958-44ea-82c9-ed82a2a04c56"
      },
      "execution_count": null,
      "outputs": [
        {
          "output_type": "execute_result",
          "data": {
            "text/plain": [
              "Text(0.5, 427.9555555555555, 'Predicted label')"
            ]
          },
          "metadata": {},
          "execution_count": 77
        },
        {
          "output_type": "display_data",
          "data": {
            "text/plain": [
              "<Figure size 640x480 with 2 Axes>"
            ],
            "image/png": "[encoded data removed]"
          },
          "metadata": {}
        }
      ]
    },
    {
      "cell_type": "code",
      "execution_count": null,
      "metadata": {
        "colab": {
          "base_uri": "https://localhost:8080/",
          "height": 74
        },
        "id": "ChgkHfW-jTEZ",
        "outputId": "823a518b-a07d-4db3-8dcc-e7a4689d096a"
      },
      "outputs": [
        {
          "output_type": "execute_result",
          "data": {
            "text/plain": [
              "RandomForestClassifier(n_estimators=50)"
            ],
            "text/html": [
              "<style>#sk-container-id-2 {color: black;background-color: white;}#sk-container-id-2 pre{padding: 0;}#sk-container-id-2 div.sk-toggleable {background-color: white;}#sk-container-id-2 label.sk-toggleable__label {cursor: pointer;display: block;width: 100%;margin-bottom: 0;padding: 0.3em;box-sizing: border-box;text-align: center;}#sk-container-id-2 label.sk-toggleable__label-arrow:before {content: \"▸\";float: left;margin-right: 0.25em;color: #696969;}#sk-container-id-2 label.sk-toggleable__label-arrow:hover:before {color: black;}#sk-container-id-2 div.sk-estimator:hover label.sk-toggleable__label-arrow:before {color: black;}#sk-container-id-2 div.sk-toggleable__content {max-height: 0;max-width: 0;overflow: hidden;text-align: left;background-color: #f0f8ff;}#sk-container-id-2 div.sk-toggleable__content pre {margin: 0.2em;color: black;border-radius: 0.25em;background-color: #f0f8ff;}#sk-container-id-2 input.sk-toggleable__control:checked~div.sk-toggleable__content {max-height: 200px;max-width: 100%;overflow: auto;}#sk-container-id-2 input.sk-toggleable__control:checked~label.sk-toggleable__label-arrow:before {content: \"▾\";}#sk-container-id-2 div.sk-estimator input.sk-toggleable__control:checked~label.sk-toggleable__label {background-color: #d4ebff;}#sk-container-id-2 div.sk-label input.sk-toggleable__control:checked~label.sk-toggleable__label {background-color: #d4ebff;}#sk-container-id-2 input.sk-hidden--visually {border: 0;clip: rect(1px 1px 1px 1px);clip: rect(1px, 1px, 1px, 1px);height: 1px;margin: -1px;overflow: hidden;padding: 0;position: absolute;width: 1px;}#sk-container-id-2 div.sk-estimator {font-family: monospace;background-color: #f0f8ff;border: 1px dotted black;border-radius: 0.25em;box-sizing: border-box;margin-bottom: 0.5em;}#sk-container-id-2 div.sk-estimator:hover {background-color: #d4ebff;}#sk-container-id-2 div.sk-parallel-item::after {content: \"\";width: 100%;border-bottom: 1px solid gray;flex-grow: 1;}#sk-container-id-2 div.sk-label:hover label.sk-toggleable__label {background-color: #d4ebff;}#sk-container-id-2 div.sk-serial::before {content: \"\";position: absolute;border-left: 1px solid gray;box-sizing: border-box;top: 0;bottom: 0;left: 50%;z-index: 0;}#sk-container-id-2 div.sk-serial {display: flex;flex-direction: column;align-items: center;background-color: white;padding-right: 0.2em;padding-left: 0.2em;position: relative;}#sk-container-id-2 div.sk-item {position: relative;z-index: 1;}#sk-container-id-2 div.sk-parallel {display: flex;align-items: stretch;justify-content: center;background-color: white;position: relative;}#sk-container-id-2 div.sk-item::before, #sk-container-id-2 div.sk-parallel-item::before {content: \"\";position: absolute;border-left: 1px solid gray;box-sizing: border-box;top: 0;bottom: 0;left: 50%;z-index: -1;}#sk-container-id-2 div.sk-parallel-item {display: flex;flex-direction: column;z-index: 1;position: relative;background-color: white;}#sk-container-id-2 div.sk-parallel-item:first-child::after {align-self: flex-end;width: 50%;}#sk-container-id-2 div.sk-parallel-item:last-child::after {align-self: flex-start;width: 50%;}#sk-container-id-2 div.sk-parallel-item:only-child::after {width: 0;}#sk-container-id-2 div.sk-dashed-wrapped {border: 1px dashed gray;margin: 0 0.4em 0.5em 0.4em;box-sizing: border-box;padding-bottom: 0.4em;background-color: white;}#sk-container-id-2 div.sk-label label {font-family: monospace;font-weight: bold;display: inline-block;line-height: 1.2em;}#sk-container-id-2 div.sk-label-container {text-align: center;}#sk-container-id-2 div.sk-container {/* jupyter's `normalize.less` sets `[hidden] { display: none; }` but bootstrap.min.css set `[hidden] { display: none !important; }` so we also need the `!important` here to be able to override the default hidden behavior on the sphinx rendered scikit-learn.org. See: https://github.com/scikit-learn/scikit-learn/issues/21755 */display: inline-block !important;position: relative;}#sk-container-id-2 div.sk-text-repr-fallback {display: none;}</style><div id=\"sk-container-id-2\" class=\"sk-top-container\"><div class=\"sk-text-repr-fallback\"><pre>RandomForestClassifier(n_estimators=50)</pre><b>In a Jupyter environment, please rerun this cell to show the HTML representation or trust the notebook. <br />On GitHub, the HTML representation is unable to render, please try loading this page with nbviewer.org.</b></div><div class=\"sk-container\" hidden><div class=\"sk-item\"><div class=\"sk-estimator sk-toggleable\"><input class=\"sk-toggleable__control sk-hidden--visually\" id=\"sk-estimator-id-2\" type=\"checkbox\" checked><label for=\"sk-estimator-id-2\" class=\"sk-toggleable__label sk-toggleable__label-arrow\">RandomForestClassifier</label><div class=\"sk-toggleable__content\"><pre>RandomForestClassifier(n_estimators=50)</pre></div></div></div></div></div>"
            ]
          },
          "metadata": {},
          "execution_count": 40
        }
      ],
      "source": [
        "from sklearn.metrics import accuracy_score,confusion_matrix\n",
        "from sklearn.metrics import classification_report\n",
        "from sklearn.ensemble import RandomForestClassifier\n",
        "\n",
        "rf=RandomForestClassifier(n_estimators=50)\n",
        "rf.fit(X_train, y_train)\n"
      ]
    },
    {
      "cell_type": "code",
      "source": [],
      "metadata": {
        "colab": {
          "base_uri": "https://localhost:8080/",
          "height": 710
        },
        "id": "fOsE-z7mtri3",
        "outputId": "e895673a-3faf-4622-f7fd-feff6b7fb11c"
      },
      "execution_count": null,
      "outputs": [
        {
          "output_type": "error",
          "ename": "AttributeError",
          "evalue": "ignored",
          "traceback": [
            "\u001b[0;31m---------------------------------------------------------------------------\u001b[0m",
            "\u001b[0;31mAttributeError\u001b[0m                            Traceback (most recent call last)",
            "\u001b[0;32m<ipython-input-90-e2cd1ab59e2c>\u001b[0m in \u001b[0;36m<cell line: 1>\u001b[0;34m()\u001b[0m\n\u001b[0;32m----> 1\u001b[0;31m \u001b[0mtree\u001b[0m\u001b[0;34m.\u001b[0m\u001b[0mplot_tree\u001b[0m\u001b[0;34m(\u001b[0m\u001b[0mrf\u001b[0m\u001b[0;34m)\u001b[0m\u001b[0;34m\u001b[0m\u001b[0;34m\u001b[0m\u001b[0m\n\u001b[0m",
            "\u001b[0;32m/usr/local/lib/python3.10/dist-packages/sklearn/tree/_export.py\u001b[0m in \u001b[0;36mplot_tree\u001b[0;34m(decision_tree, max_depth, feature_names, class_names, label, filled, impurity, node_ids, proportion, rounded, precision, ax, fontsize)\u001b[0m\n\u001b[1;32m    192\u001b[0m         \u001b[0mfontsize\u001b[0m\u001b[0;34m=\u001b[0m\u001b[0mfontsize\u001b[0m\u001b[0;34m,\u001b[0m\u001b[0;34m\u001b[0m\u001b[0;34m\u001b[0m\u001b[0m\n\u001b[1;32m    193\u001b[0m     )\n\u001b[0;32m--> 194\u001b[0;31m     \u001b[0;32mreturn\u001b[0m \u001b[0mexporter\u001b[0m\u001b[0;34m.\u001b[0m\u001b[0mexport\u001b[0m\u001b[0;34m(\u001b[0m\u001b[0mdecision_tree\u001b[0m\u001b[0;34m,\u001b[0m \u001b[0max\u001b[0m\u001b[0;34m=\u001b[0m\u001b[0max\u001b[0m\u001b[0;34m)\u001b[0m\u001b[0;34m\u001b[0m\u001b[0;34m\u001b[0m\u001b[0m\n\u001b[0m\u001b[1;32m    195\u001b[0m \u001b[0;34m\u001b[0m\u001b[0m\n\u001b[1;32m    196\u001b[0m \u001b[0;34m\u001b[0m\u001b[0m\n",
            "\u001b[0;32m/usr/local/lib/python3.10/dist-packages/sklearn/tree/_export.py\u001b[0m in \u001b[0;36mexport\u001b[0;34m(self, decision_tree, ax)\u001b[0m\n\u001b[1;32m    653\u001b[0m         \u001b[0max\u001b[0m\u001b[0;34m.\u001b[0m\u001b[0mclear\u001b[0m\u001b[0;34m(\u001b[0m\u001b[0;34m)\u001b[0m\u001b[0;34m\u001b[0m\u001b[0;34m\u001b[0m\u001b[0m\n\u001b[1;32m    654\u001b[0m         \u001b[0max\u001b[0m\u001b[0;34m.\u001b[0m\u001b[0mset_axis_off\u001b[0m\u001b[0;34m(\u001b[0m\u001b[0;34m)\u001b[0m\u001b[0;34m\u001b[0m\u001b[0;34m\u001b[0m\u001b[0m\n\u001b[0;32m--> 655\u001b[0;31m         \u001b[0mmy_tree\u001b[0m \u001b[0;34m=\u001b[0m \u001b[0mself\u001b[0m\u001b[0;34m.\u001b[0m\u001b[0m_make_tree\u001b[0m\u001b[0;34m(\u001b[0m\u001b[0;36m0\u001b[0m\u001b[0;34m,\u001b[0m \u001b[0mdecision_tree\u001b[0m\u001b[0;34m.\u001b[0m\u001b[0mtree_\u001b[0m\u001b[0;34m,\u001b[0m \u001b[0mdecision_tree\u001b[0m\u001b[0;34m.\u001b[0m\u001b[0mcriterion\u001b[0m\u001b[0;34m)\u001b[0m\u001b[0;34m\u001b[0m\u001b[0;34m\u001b[0m\u001b[0m\n\u001b[0m\u001b[1;32m    656\u001b[0m         \u001b[0mdraw_tree\u001b[0m \u001b[0;34m=\u001b[0m \u001b[0mbuchheim\u001b[0m\u001b[0;34m(\u001b[0m\u001b[0mmy_tree\u001b[0m\u001b[0;34m)\u001b[0m\u001b[0;34m\u001b[0m\u001b[0;34m\u001b[0m\u001b[0m\n\u001b[1;32m    657\u001b[0m \u001b[0;34m\u001b[0m\u001b[0m\n",
            "\u001b[0;31mAttributeError\u001b[0m: 'RandomForestClassifier' object has no attribute 'tree_'"
          ]
        },
        {
          "output_type": "display_data",
          "data": {
            "text/plain": [
              "<Figure size 640x480 with 1 Axes>"
            ],
            "image/png": "[encoded data removed]"
          },
          "metadata": {}
        }
      ]
    },
    {
      "cell_type": "code",
      "execution_count": null,
      "metadata": {
        "colab": {
          "base_uri": "https://localhost:8080/"
        },
        "id": "PMPTrpA6jTEZ",
        "outputId": "d4901eb1-c68f-4741-ee78-5b68d872c529"
      },
      "outputs": [
        {
          "output_type": "execute_result",
          "data": {
            "text/plain": [
              "0.8138888888888889"
            ]
          },
          "metadata": {},
          "execution_count": 41
        }
      ],
      "source": [
        "pred1 = rf.predict(X_test)\n",
        "rf.score(X_test,y_test)"
      ]
    },
    {
      "cell_type": "code",
      "execution_count": null,
      "metadata": {
        "colab": {
          "base_uri": "https://localhost:8080/"
        },
        "id": "_qXyN8wCjTEZ",
        "outputId": "853f3117-74b0-475b-f58f-db7bd5de2bdb"
      },
      "outputs": [
        {
          "output_type": "execute_result",
          "data": {
            "text/plain": [
              "0.8138888888888889"
            ]
          },
          "metadata": {},
          "execution_count": 42
        }
      ],
      "source": [
        "accuracy_score(y_test,pred1)"
      ]
    },
    {
      "cell_type": "code",
      "execution_count": null,
      "metadata": {
        "colab": {
          "base_uri": "https://localhost:8080/"
        },
        "id": "lqupslghjTEZ",
        "outputId": "8c8274b9-d742-4f33-a725-c850bbd52dd7"
      },
      "outputs": [
        {
          "output_type": "execute_result",
          "data": {
            "text/plain": [
              "array([[6629,  371],\n",
              "       [1304,  696]])"
            ]
          },
          "metadata": {},
          "execution_count": 43
        }
      ],
      "source": [
        "confusion_matrix(y_test,pred1)"
      ]
    },
    {
      "cell_type": "code",
      "execution_count": null,
      "metadata": {
        "colab": {
          "base_uri": "https://localhost:8080/",
          "height": 70
        },
        "id": "ladxrbXYjTEZ",
        "outputId": "0e2fedc6-8dfe-4024-a4d3-b875e77e9bce"
      },
      "outputs": [
        {
          "output_type": "execute_result",
          "data": {
            "text/plain": [
              "'              precision    recall  f1-score   support\\n\\n           0       0.84      0.95      0.89      7000\\n           1       0.65      0.35      0.45      2000\\n\\n    accuracy                           0.81      9000\\n   macro avg       0.74      0.65      0.67      9000\\nweighted avg       0.79      0.81      0.79      9000\\n'"
            ],
            "application/vnd.google.colaboratory.intrinsic+json": {
              "type": "string"
            }
          },
          "metadata": {},
          "execution_count": 44
        }
      ],
      "source": [
        "classification_report(y_test,pred1)"
      ]
    },
    {
      "cell_type": "code",
      "execution_count": null,
      "metadata": {
        "colab": {
          "base_uri": "https://localhost:8080/"
        },
        "id": "WgVmERSpjTEa",
        "outputId": "bea2defd-e519-4801-e98e-f5494e91d310"
      },
      "outputs": [
        {
          "output_type": "stream",
          "name": "stdout",
          "text": [
            "              precision    recall  f1-score   support\n",
            "\n",
            "           0       0.84      0.95      0.89      7000\n",
            "           1       0.65      0.35      0.45      2000\n",
            "\n",
            "    accuracy                           0.81      9000\n",
            "   macro avg       0.74      0.65      0.67      9000\n",
            "weighted avg       0.79      0.81      0.79      9000\n",
            "\n"
          ]
        }
      ],
      "source": [
        "print(classification_report(y_test,pred1))"
      ]
    },
    {
      "cell_type": "code",
      "source": [
        "from sklearn.metrics import confusion_matrix\n",
        "\n",
        "# Your code here\n",
        "\n",
        "# Now you can use confusion_matrix or cnf_matrix here\n",
        "\n",
        "cnf_matrix=confusion_matrix(y_test,pred2)\n",
        "cnf_matrix"
      ],
      "metadata": {
        "colab": {
          "base_uri": "https://localhost:8080/"
        },
        "id": "6SmaGBnznQVt",
        "outputId": "6217426c-0f01-4bf2-fe19-e50c71af352a"
      },
      "execution_count": null,
      "outputs": [
        {
          "output_type": "execute_result",
          "data": {
            "text/plain": [
              "array([[7000,    0],\n",
              "       [2000,    0]])"
            ]
          },
          "metadata": {},
          "execution_count": 74
        }
      ]
    },
    {
      "cell_type": "code",
      "source": [
        "import seaborn as sns\n",
        "%matplotlib inline\n",
        "\n",
        "class_names=[0,1] # name  of classes\n",
        "fig, ax = plt.subplots()\n",
        "tick_marks = np.arange(len(class_names))\n",
        "plt.xticks(tick_marks, class_names)\n",
        "plt.yticks(tick_marks, class_names)\n",
        "# create heatmap\n",
        "sns.heatmap(pd.DataFrame(cnf_matrix), annot=True, cmap=\"YlGnBu\" ,fmt='g')\n",
        "ax.xaxis.set_label_position(\"top\")\n",
        "plt.tight_layout()\n",
        "plt.title('Confusion matrix', y=1.1)\n",
        "plt.ylabel('Actual label')\n",
        "plt.xlabel('Predicted label')\n"
      ],
      "metadata": {
        "colab": {
          "base_uri": "https://localhost:8080/",
          "height": 562
        },
        "id": "KvugSYFsnVXs",
        "outputId": "ceb64288-421e-4cce-e3a4-0a80df2d1b35"
      },
      "execution_count": null,
      "outputs": [
        {
          "output_type": "execute_result",
          "data": {
            "text/plain": [
              "Text(0.5, 427.9555555555555, 'Predicted label')"
            ]
          },
          "metadata": {},
          "execution_count": 75
        },
        {
          "output_type": "display_data",
          "data": {
            "text/plain": [
              "<Figure size 640x480 with 2 Axes>"
            ],
            "image/png": "[encoded data removed]"
          },
          "metadata": {}
        }
      ]
    },
    {
      "cell_type": "code",
      "execution_count": null,
      "metadata": {
        "colab": {
          "base_uri": "https://localhost:8080/",
          "height": 74
        },
        "id": "aS8JrkX0jTEa",
        "outputId": "7ef97f50-f77a-499e-f169-c4f9d6cffdf8"
      },
      "outputs": [
        {
          "output_type": "execute_result",
          "data": {
            "text/plain": [
              "DecisionTreeClassifier()"
            ],
            "text/html": [
              "<style>#sk-container-id-4 {color: black;background-color: white;}#sk-container-id-4 pre{padding: 0;}#sk-container-id-4 div.sk-toggleable {background-color: white;}#sk-container-id-4 label.sk-toggleable__label {cursor: pointer;display: block;width: 100%;margin-bottom: 0;padding: 0.3em;box-sizing: border-box;text-align: center;}#sk-container-id-4 label.sk-toggleable__label-arrow:before {content: \"▸\";float: left;margin-right: 0.25em;color: #696969;}#sk-container-id-4 label.sk-toggleable__label-arrow:hover:before {color: black;}#sk-container-id-4 div.sk-estimator:hover label.sk-toggleable__label-arrow:before {color: black;}#sk-container-id-4 div.sk-toggleable__content {max-height: 0;max-width: 0;overflow: hidden;text-align: left;background-color: #f0f8ff;}#sk-container-id-4 div.sk-toggleable__content pre {margin: 0.2em;color: black;border-radius: 0.25em;background-color: #f0f8ff;}#sk-container-id-4 input.sk-toggleable__control:checked~div.sk-toggleable__content {max-height: 200px;max-width: 100%;overflow: auto;}#sk-container-id-4 input.sk-toggleable__control:checked~label.sk-toggleable__label-arrow:before {content: \"▾\";}#sk-container-id-4 div.sk-estimator input.sk-toggleable__control:checked~label.sk-toggleable__label {background-color: #d4ebff;}#sk-container-id-4 div.sk-label input.sk-toggleable__control:checked~label.sk-toggleable__label {background-color: #d4ebff;}#sk-container-id-4 input.sk-hidden--visually {border: 0;clip: rect(1px 1px 1px 1px);clip: rect(1px, 1px, 1px, 1px);height: 1px;margin: -1px;overflow: hidden;padding: 0;position: absolute;width: 1px;}#sk-container-id-4 div.sk-estimator {font-family: monospace;background-color: #f0f8ff;border: 1px dotted black;border-radius: 0.25em;box-sizing: border-box;margin-bottom: 0.5em;}#sk-container-id-4 div.sk-estimator:hover {background-color: #d4ebff;}#sk-container-id-4 div.sk-parallel-item::after {content: \"\";width: 100%;border-bottom: 1px solid gray;flex-grow: 1;}#sk-container-id-4 div.sk-label:hover label.sk-toggleable__label {background-color: #d4ebff;}#sk-container-id-4 div.sk-serial::before {content: \"\";position: absolute;border-left: 1px solid gray;box-sizing: border-box;top: 0;bottom: 0;left: 50%;z-index: 0;}#sk-container-id-4 div.sk-serial {display: flex;flex-direction: column;align-items: center;background-color: white;padding-right: 0.2em;padding-left: 0.2em;position: relative;}#sk-container-id-4 div.sk-item {position: relative;z-index: 1;}#sk-container-id-4 div.sk-parallel {display: flex;align-items: stretch;justify-content: center;background-color: white;position: relative;}#sk-container-id-4 div.sk-item::before, #sk-container-id-4 div.sk-parallel-item::before {content: \"\";position: absolute;border-left: 1px solid gray;box-sizing: border-box;top: 0;bottom: 0;left: 50%;z-index: -1;}#sk-container-id-4 div.sk-parallel-item {display: flex;flex-direction: column;z-index: 1;position: relative;background-color: white;}#sk-container-id-4 div.sk-parallel-item:first-child::after {align-self: flex-end;width: 50%;}#sk-container-id-4 div.sk-parallel-item:last-child::after {align-self: flex-start;width: 50%;}#sk-container-id-4 div.sk-parallel-item:only-child::after {width: 0;}#sk-container-id-4 div.sk-dashed-wrapped {border: 1px dashed gray;margin: 0 0.4em 0.5em 0.4em;box-sizing: border-box;padding-bottom: 0.4em;background-color: white;}#sk-container-id-4 div.sk-label label {font-family: monospace;font-weight: bold;display: inline-block;line-height: 1.2em;}#sk-container-id-4 div.sk-label-container {text-align: center;}#sk-container-id-4 div.sk-container {/* jupyter's `normalize.less` sets `[hidden] { display: none; }` but bootstrap.min.css set `[hidden] { display: none !important; }` so we also need the `!important` here to be able to override the default hidden behavior on the sphinx rendered scikit-learn.org. See: https://github.com/scikit-learn/scikit-learn/issues/21755 */display: inline-block !important;position: relative;}#sk-container-id-4 div.sk-text-repr-fallback {display: none;}</style><div id=\"sk-container-id-4\" class=\"sk-top-container\"><div class=\"sk-text-repr-fallback\"><pre>DecisionTreeClassifier()</pre><b>In a Jupyter environment, please rerun this cell to show the HTML representation or trust the notebook. <br />On GitHub, the HTML representation is unable to render, please try loading this page with nbviewer.org.</b></div><div class=\"sk-container\" hidden><div class=\"sk-item\"><div class=\"sk-estimator sk-toggleable\"><input class=\"sk-toggleable__control sk-hidden--visually\" id=\"sk-estimator-id-4\" type=\"checkbox\" checked><label for=\"sk-estimator-id-4\" class=\"sk-toggleable__label sk-toggleable__label-arrow\">DecisionTreeClassifier</label><div class=\"sk-toggleable__content\"><pre>DecisionTreeClassifier()</pre></div></div></div></div></div>"
            ]
          },
          "metadata": {},
          "execution_count": 86
        }
      ],
      "source": [
        "from sklearn.tree import DecisionTreeClassifier\n",
        "d = DecisionTreeClassifier()\n",
        "d.fit(X_train, y_train)"
      ]
    },
    {
      "cell_type": "code",
      "source": [
        "tree.plot_tree(d)"
      ],
      "metadata": {
        "colab": {
          "base_uri": "https://localhost:8080/",
          "height": 1000
        },
        "id": "UEZm-a0uqN_7",
        "outputId": "5b4b246c-cc30-4449-faca-b1ef7ce98dbc"
      },
      "execution_count": null,
      "outputs": [
        {
          "output_type": "execute_result",
          "data": {
            "text/plain": [
              "[Text(0.756284841698147, 0.9886363636363636, 'x[6] <= 1.5\\ngini = 0.344\\nsamples = 21000\\nvalue = [16364, 4636]'),\n",
              " Text(0.6041770867985222, 0.9659090909090909, 'x[7] <= 1.5\\ngini = 0.275\\nsamples = 18773\\nvalue = [15683, 3090]'),\n",
              " Text(0.3988706753898187, 0.9431818181818182, 'x[20] <= 850.5\\ngini = 0.242\\nsamples = 17161\\nvalue = [14744, 2417]'),\n",
              " Text(0.19105063222384638, 0.9204545454545454, 'x[12] <= 530.0\\ngini = 0.332\\nsamples = 5100\\nvalue = [4028, 1072]'),\n",
              " Text(0.11342548715522305, 0.8977272727272727, 'x[20] <= 1.5\\ngini = 0.399\\nsamples = 1934\\nvalue = [1402, 532]'),\n",
              " Text(0.09723992296763931, 0.875, 'x[15] <= 393.0\\ngini = 0.422\\nsamples = 1379\\nvalue = [961, 418]'),\n",
              " Text(0.08349120484651279, 0.8522727272727273, 'x[23] <= 164.0\\ngini = 0.412\\nsamples = 1287\\nvalue = [914, 373]'),\n",
              " Text(0.06497661473424372, 0.8295454545454546, 'x[1] <= 315000.0\\ngini = 0.436\\nsamples = 987\\nvalue = [670, 317]'),\n",
              " Text(0.040863988423282795, 0.8068181818181818, 'x[6] <= 0.5\\ngini = 0.41\\nsamples = 785\\nvalue = [559, 226]'),\n",
              " Text(0.011502877678848401, 0.7840909090909091, 'x[0] <= 13186.5\\ngini = 0.354\\nsamples = 335\\nvalue = [258, 77]'),\n",
              " Text(0.003946908145283181, 0.7613636363636364, 'x[15] <= -9.5\\ngini = 0.247\\nsamples = 125\\nvalue = [107, 18]'),\n",
              " Text(0.0012672347222313892, 0.7386363636363636, 'x[14] <= -24.5\\ngini = 0.494\\nsamples = 9\\nvalue = [5, 4]'),\n",
              " Text(0.0008448231481542594, 0.7159090909090909, 'x[5] <= 23.5\\ngini = 0.278\\nsamples = 6\\nvalue = [5, 1]'),\n",
              " Text(0.0004224115740771297, 0.6931818181818182, 'gini = 0.0\\nsamples = 1\\nvalue = [0, 1]'),\n",
              " Text(0.0012672347222313892, 0.6931818181818182, 'gini = 0.0\\nsamples = 5\\nvalue = [5, 0]'),\n",
              " Text(0.001689646296308519, 0.7159090909090909, 'gini = 0.0\\nsamples = 3\\nvalue = [0, 3]'),\n",
              " Text(0.006626581568334972, 0.7386363636363636, 'x[22] <= 1317.0\\ngini = 0.212\\nsamples = 116\\nvalue = [102, 14]'),\n",
              " Text(0.004699328761608068, 0.7159090909090909, 'x[0] <= 8787.5\\ngini = 0.191\\nsamples = 112\\nvalue = [100, 12]'),\n",
              " Text(0.0021120578703856486, 0.6931818181818182, 'x[0] <= 43.5\\ngini = 0.136\\nsamples = 82\\nvalue = [76, 6]'),\n",
              " Text(0.0009504260416735419, 0.6704545454545454, 'x[21] <= 6819.5\\ngini = 0.5\\nsamples = 2\\nvalue = [1, 1]'),\n",
              " Text(0.0005280144675964122, 0.6477272727272727, 'gini = 0.0\\nsamples = 1\\nvalue = [0, 1]'),\n",
              " Text(0.0013728376157506716, 0.6477272727272727, 'gini = 0.0\\nsamples = 1\\nvalue = [1, 0]'),\n",
              " Text(0.003273689699097755, 0.6704545454545454, 'x[12] <= 229.5\\ngini = 0.117\\nsamples = 80\\nvalue = [75, 5]'),\n",
              " Text(0.002217660763904931, 0.6477272727272727, 'x[18] <= 991.5\\ngini = 0.067\\nsamples = 58\\nvalue = [56, 2]'),\n",
              " Text(0.0013728376157506716, 0.625, 'x[5] <= 26.5\\ngini = 0.037\\nsamples = 53\\nvalue = [52, 1]'),\n",
              " Text(0.0009504260416735419, 0.6022727272727273, 'x[4] <= 1.5\\ngini = 0.165\\nsamples = 11\\nvalue = [10, 1]'),\n",
              " Text(0.0005280144675964122, 0.5795454545454546, 'gini = 0.0\\nsamples = 1\\nvalue = [0, 1]'),\n",
              " Text(0.0013728376157506716, 0.5795454545454546, 'gini = 0.0\\nsamples = 10\\nvalue = [10, 0]'),\n",
              " Text(0.0017952491898278013, 0.6022727272727273, 'gini = 0.0\\nsamples = 42\\nvalue = [42, 0]'),\n",
              " Text(0.0030624839120591903, 0.625, 'x[18] <= 1059.5\\ngini = 0.32\\nsamples = 5\\nvalue = [4, 1]'),\n",
              " Text(0.0026400723379820606, 0.6022727272727273, 'gini = 0.0\\nsamples = 1\\nvalue = [0, 1]'),\n",
              " Text(0.00348489548613632, 0.6022727272727273, 'gini = 0.0\\nsamples = 4\\nvalue = [4, 0]'),\n",
              " Text(0.00432971863429058, 0.6477272727272727, 'x[12] <= 268.0\\ngini = 0.236\\nsamples = 22\\nvalue = [19, 3]'),\n",
              " Text(0.00390730706021345, 0.625, 'gini = 0.0\\nsamples = 1\\nvalue = [0, 1]'),\n",
              " Text(0.00475213020836771, 0.625, 'x[0] <= 7241.5\\ngini = 0.172\\nsamples = 21\\nvalue = [19, 2]'),\n",
              " Text(0.00432971863429058, 0.6022727272727273, 'gini = 0.0\\nsamples = 11\\nvalue = [11, 0]'),\n",
              " Text(0.005174541782444839, 0.6022727272727273, 'x[0] <= 7272.0\\ngini = 0.32\\nsamples = 10\\nvalue = [8, 2]'),\n",
              " Text(0.00475213020836771, 0.5795454545454546, 'gini = 0.0\\nsamples = 1\\nvalue = [0, 1]'),\n",
              " Text(0.005596953356521969, 0.5795454545454546, 'x[16] <= 539.0\\ngini = 0.198\\nsamples = 9\\nvalue = [8, 1]'),\n",
              " Text(0.005174541782444839, 0.5568181818181818, 'gini = 0.0\\nsamples = 8\\nvalue = [8, 0]'),\n",
              " Text(0.006019364930599099, 0.5568181818181818, 'gini = 0.0\\nsamples = 1\\nvalue = [0, 1]'),\n",
              " Text(0.007286599652830488, 0.6931818181818182, 'x[0] <= 9655.0\\ngini = 0.32\\nsamples = 30\\nvalue = [24, 6]'),\n",
              " Text(0.0064417765046762285, 0.6704545454545454, 'x[17] <= 302.5\\ngini = 0.375\\nsamples = 4\\nvalue = [1, 3]'),\n",
              " Text(0.006019364930599099, 0.6477272727272727, 'gini = 0.0\\nsamples = 3\\nvalue = [0, 3]'),\n",
              " Text(0.006864188078753358, 0.6477272727272727, 'gini = 0.0\\nsamples = 1\\nvalue = [1, 0]'),\n",
              " Text(0.008131422800984747, 0.6704545454545454, 'x[1] <= 15000.0\\ngini = 0.204\\nsamples = 26\\nvalue = [23, 3]'),\n",
              " Text(0.007709011226907618, 0.6477272727272727, 'gini = 0.0\\nsamples = 1\\nvalue = [0, 1]'),\n",
              " Text(0.008553834375061877, 0.6477272727272727, 'x[3] <= 1.5\\ngini = 0.147\\nsamples = 25\\nvalue = [23, 2]'),\n",
              " Text(0.008131422800984747, 0.625, 'x[12] <= 83.5\\ngini = 0.26\\nsamples = 13\\nvalue = [11, 2]'),\n",
              " Text(0.007709011226907618, 0.6022727272727273, 'x[5] <= 34.5\\ngini = 0.375\\nsamples = 8\\nvalue = [6, 2]'),\n",
              " Text(0.007286599652830488, 0.5795454545454546, 'x[5] <= 28.0\\ngini = 0.5\\nsamples = 4\\nvalue = [2, 2]'),\n",
              " Text(0.006864188078753358, 0.5568181818181818, 'gini = 0.0\\nsamples = 2\\nvalue = [2, 0]'),\n",
              " Text(0.007709011226907618, 0.5568181818181818, 'gini = 0.0\\nsamples = 2\\nvalue = [0, 2]'),\n",
              " Text(0.008131422800984747, 0.5795454545454546, 'gini = 0.0\\nsamples = 4\\nvalue = [4, 0]'),\n",
              " Text(0.008553834375061877, 0.6022727272727273, 'gini = 0.0\\nsamples = 5\\nvalue = [5, 0]'),\n",
              " Text(0.008976245949139006, 0.625, 'gini = 0.0\\nsamples = 12\\nvalue = [12, 0]'),\n",
              " Text(0.008553834375061877, 0.7159090909090909, 'x[17] <= 3347.5\\ngini = 0.5\\nsamples = 4\\nvalue = [2, 2]'),\n",
              " Text(0.008131422800984747, 0.6931818181818182, 'gini = 0.0\\nsamples = 2\\nvalue = [0, 2]'),\n",
              " Text(0.008976245949139006, 0.6931818181818182, 'gini = 0.0\\nsamples = 2\\nvalue = [2, 0]'),\n",
              " Text(0.01905884721241362, 0.7613636363636364, 'x[1] <= 235000.0\\ngini = 0.404\\nsamples = 210\\nvalue = [151, 59]'),\n",
              " Text(0.0146210506167869, 0.7386363636363636, 'x[0] <= 13916.0\\ngini = 0.346\\nsamples = 153\\nvalue = [119, 34]'),\n",
              " Text(0.012507342701190013, 0.7159090909090909, 'x[5] <= 32.0\\ngini = 0.32\\nsamples = 5\\nvalue = [1, 4]'),\n",
              " Text(0.012084931127112883, 0.6931818181818182, 'x[5] <= 29.0\\ngini = 0.5\\nsamples = 2\\nvalue = [1, 1]'),\n",
              " Text(0.011662519553035754, 0.6704545454545454, 'gini = 0.0\\nsamples = 1\\nvalue = [0, 1]'),\n",
              " Text(0.012507342701190013, 0.6704545454545454, 'gini = 0.0\\nsamples = 1\\nvalue = [1, 0]'),\n",
              " Text(0.012929754275267142, 0.6931818181818182, 'gini = 0.0\\nsamples = 3\\nvalue = [0, 3]'),\n",
              " Text(0.01673475853238379, 0.7159090909090909, 'x[5] <= 40.5\\ngini = 0.323\\nsamples = 148\\nvalue = [118, 30]'),\n",
              " Text(0.013774577423421402, 0.6931818181818182, 'x[12] <= -1197.0\\ngini = 0.233\\nsamples = 104\\nvalue = [90, 14]'),\n",
              " Text(0.013352165849344271, 0.6704545454545454, 'gini = 0.0\\nsamples = 1\\nvalue = [0, 1]'),\n",
              " Text(0.01419698899749853, 0.6704545454545454, 'x[1] <= 215000.0\\ngini = 0.221\\nsamples = 103\\nvalue = [90, 13]'),\n",
              " Text(0.011655919372190798, 0.6477272727272727, 'x[19] <= 5137.5\\ngini = 0.19\\nsamples = 94\\nvalue = [84, 10]'),\n",
              " Text(0.011233507798113669, 0.625, 'x[0] <= 15237.0\\ngini = 0.175\\nsamples = 93\\nvalue = [84, 9]'),\n",
              " Text(0.009398657523216137, 0.6022727272727273, 'x[0] <= 14765.5\\ngini = 0.48\\nsamples = 5\\nvalue = [3, 2]'),\n",
              " Text(0.008976245949139006, 0.5795454545454546, 'gini = 0.0\\nsamples = 3\\nvalue = [3, 0]'),\n",
              " Text(0.009821069097293265, 0.5795454545454546, 'gini = 0.0\\nsamples = 2\\nvalue = [0, 2]'),\n",
              " Text(0.0130683580730112, 0.6022727272727273, 'x[0] <= 28446.5\\ngini = 0.146\\nsamples = 88\\nvalue = [81, 7]'),\n",
              " Text(0.010665892245447525, 0.5795454545454546, 'x[1] <= 155000.0\\ngini = 0.113\\nsamples = 83\\nvalue = [78, 5]'),\n",
              " Text(0.008712238715340801, 0.5568181818181818, 'x[10] <= -1.5\\ngini = 0.042\\nsamples = 47\\nvalue = [46, 1]'),\n",
              " Text(0.00828982714126367, 0.5340909090909091, 'gini = 0.0\\nsamples = 42\\nvalue = [42, 0]'),\n",
              " Text(0.00913465028941793, 0.5340909090909091, 'x[5] <= 29.0\\ngini = 0.32\\nsamples = 5\\nvalue = [4, 1]'),\n",
              " Text(0.008712238715340801, 0.5113636363636364, 'x[19] <= 195.0\\ngini = 0.5\\nsamples = 2\\nvalue = [1, 1]'),\n",
              " Text(0.00828982714126367, 0.48863636363636365, 'gini = 0.0\\nsamples = 1\\nvalue = [1, 0]'),\n",
              " Text(0.00913465028941793, 0.48863636363636365, 'gini = 0.0\\nsamples = 1\\nvalue = [0, 1]'),\n",
              " Text(0.00955706186349506, 0.5113636363636364, 'gini = 0.0\\nsamples = 3\\nvalue = [3, 0]'),\n",
              " Text(0.01261954577555425, 0.5568181818181818, 'x[5] <= 39.5\\ngini = 0.198\\nsamples = 36\\nvalue = [32, 4]'),\n",
              " Text(0.011457913946842143, 0.5340909090909091, 'x[1] <= 165000.0\\ngini = 0.165\\nsamples = 33\\nvalue = [30, 3]'),\n",
              " Text(0.01040188501164932, 0.5113636363636364, 'x[19] <= 1004.5\\ngini = 0.444\\nsamples = 3\\nvalue = [2, 1]'),\n",
              " Text(0.00997947343757219, 0.48863636363636365, 'gini = 0.0\\nsamples = 2\\nvalue = [2, 0]'),\n",
              " Text(0.010824296585726449, 0.48863636363636365, 'gini = 0.0\\nsamples = 1\\nvalue = [0, 1]'),\n",
              " Text(0.012513942882034968, 0.5113636363636364, 'x[0] <= 27758.5\\ngini = 0.124\\nsamples = 30\\nvalue = [28, 2]'),\n",
              " Text(0.011669119733880708, 0.48863636363636365, 'x[5] <= 35.5\\ngini = 0.071\\nsamples = 27\\nvalue = [26, 1]'),\n",
              " Text(0.01124670815980358, 0.4659090909090909, 'gini = 0.0\\nsamples = 17\\nvalue = [17, 0]'),\n",
              " Text(0.012091531307957839, 0.4659090909090909, 'x[4] <= 1.5\\ngini = 0.18\\nsamples = 10\\nvalue = [9, 1]'),\n",
              " Text(0.011669119733880708, 0.4431818181818182, 'gini = 0.0\\nsamples = 6\\nvalue = [6, 0]'),\n",
              " Text(0.012513942882034968, 0.4431818181818182, 'x[0] <= 21210.0\\ngini = 0.375\\nsamples = 4\\nvalue = [3, 1]'),\n",
              " Text(0.012091531307957839, 0.42045454545454547, 'gini = 0.0\\nsamples = 3\\nvalue = [3, 0]'),\n",
              " Text(0.012936354456112097, 0.42045454545454547, 'gini = 0.0\\nsamples = 1\\nvalue = [0, 1]'),\n",
              " Text(0.013358766030189227, 0.48863636363636365, 'x[0] <= 27939.0\\ngini = 0.444\\nsamples = 3\\nvalue = [2, 1]'),\n",
              " Text(0.012936354456112097, 0.4659090909090909, 'gini = 0.0\\nsamples = 1\\nvalue = [0, 1]'),\n",
              " Text(0.013781177604266356, 0.4659090909090909, 'gini = 0.0\\nsamples = 2\\nvalue = [2, 0]'),\n",
              " Text(0.013781177604266356, 0.5340909090909091, 'x[1] <= 190000.0\\ngini = 0.444\\nsamples = 3\\nvalue = [2, 1]'),\n",
              " Text(0.013358766030189227, 0.5113636363636364, 'gini = 0.0\\nsamples = 1\\nvalue = [0, 1]'),\n",
              " Text(0.014203589178343487, 0.5113636363636364, 'gini = 0.0\\nsamples = 2\\nvalue = [2, 0]'),\n",
              " Text(0.015470823900574875, 0.5795454545454546, 'x[1] <= 125000.0\\ngini = 0.48\\nsamples = 5\\nvalue = [3, 2]'),\n",
              " Text(0.015048412326497746, 0.5568181818181818, 'x[3] <= 2.5\\ngini = 0.444\\nsamples = 3\\nvalue = [1, 2]'),\n",
              " Text(0.014626000752420616, 0.5340909090909091, 'gini = 0.0\\nsamples = 2\\nvalue = [0, 2]'),\n",
              " Text(0.015470823900574875, 0.5340909090909091, 'gini = 0.0\\nsamples = 1\\nvalue = [1, 0]'),\n",
              " Text(0.015893235474652004, 0.5568181818181818, 'gini = 0.0\\nsamples = 2\\nvalue = [2, 0]'),\n",
              " Text(0.012078330946267929, 0.625, 'gini = 0.0\\nsamples = 1\\nvalue = [0, 1]'),\n",
              " Text(0.016738058622806265, 0.6477272727272727, 'x[21] <= 50.0\\ngini = 0.444\\nsamples = 9\\nvalue = [6, 3]'),\n",
              " Text(0.016315647048729134, 0.625, 'x[4] <= 1.5\\ngini = 0.5\\nsamples = 6\\nvalue = [3, 3]'),\n",
              " Text(0.015893235474652004, 0.6022727272727273, 'gini = 0.0\\nsamples = 2\\nvalue = [2, 0]'),\n",
              " Text(0.016738058622806265, 0.6022727272727273, 'x[11] <= -1.5\\ngini = 0.375\\nsamples = 4\\nvalue = [1, 3]'),\n",
              " Text(0.016315647048729134, 0.5795454545454546, 'gini = 0.0\\nsamples = 3\\nvalue = [0, 3]'),\n",
              " Text(0.017160470196883396, 0.5795454545454546, 'gini = 0.0\\nsamples = 1\\nvalue = [1, 0]'),\n",
              " Text(0.017160470196883396, 0.625, 'gini = 0.0\\nsamples = 3\\nvalue = [3, 0]'),\n",
              " Text(0.019694939641346172, 0.6931818181818182, 'x[10] <= -1.5\\ngini = 0.463\\nsamples = 44\\nvalue = [28, 16]'),\n",
              " Text(0.01927252806726904, 0.6704545454545454, 'x[0] <= 17561.0\\ngini = 0.42\\nsamples = 40\\nvalue = [28, 12]'),\n",
              " Text(0.018850116493191914, 0.6477272727272727, 'gini = 0.0\\nsamples = 7\\nvalue = [7, 0]'),\n",
              " Text(0.019694939641346172, 0.6477272727272727, 'x[0] <= 21331.5\\ngini = 0.463\\nsamples = 33\\nvalue = [21, 12]'),\n",
              " Text(0.018850116493191914, 0.625, 'x[5] <= 45.0\\ngini = 0.444\\nsamples = 9\\nvalue = [3, 6]'),\n",
              " Text(0.018427704919114784, 0.6022727272727273, 'x[5] <= 41.5\\ngini = 0.48\\nsamples = 5\\nvalue = [3, 2]'),\n",
              " Text(0.018005293345037653, 0.5795454545454546, 'gini = 0.0\\nsamples = 2\\nvalue = [0, 2]'),\n",
              " Text(0.018850116493191914, 0.5795454545454546, 'gini = 0.0\\nsamples = 3\\nvalue = [3, 0]'),\n",
              " Text(0.01927252806726904, 0.6022727272727273, 'gini = 0.0\\nsamples = 4\\nvalue = [0, 4]'),\n",
              " Text(0.020539762789500433, 0.625, 'x[19] <= 250.0\\ngini = 0.375\\nsamples = 24\\nvalue = [18, 6]'),\n",
              " Text(0.020117351215423303, 0.6022727272727273, 'x[12] <= 93.0\\ngini = 0.457\\nsamples = 17\\nvalue = [11, 6]'),\n",
              " Text(0.019694939641346172, 0.5795454545454546, 'x[0] <= 23629.0\\ngini = 0.497\\nsamples = 13\\nvalue = [7, 6]'),\n",
              " Text(0.01927252806726904, 0.5568181818181818, 'gini = 0.0\\nsamples = 3\\nvalue = [3, 0]'),\n",
              " Text(0.020117351215423303, 0.5568181818181818, 'x[0] <= 27275.0\\ngini = 0.48\\nsamples = 10\\nvalue = [4, 6]'),\n",
              " Text(0.019694939641346172, 0.5340909090909091, 'x[5] <= 49.5\\ngini = 0.375\\nsamples = 8\\nvalue = [2, 6]'),\n",
              " Text(0.01927252806726904, 0.5113636363636364, 'gini = 0.0\\nsamples = 5\\nvalue = [0, 5]'),\n",
              " Text(0.020117351215423303, 0.5113636363636364, 'x[0] <= 23755.0\\ngini = 0.444\\nsamples = 3\\nvalue = [2, 1]'),\n",
              " Text(0.019694939641346172, 0.48863636363636365, 'gini = 0.0\\nsamples = 1\\nvalue = [0, 1]'),\n",
              " Text(0.020539762789500433, 0.48863636363636365, 'gini = 0.0\\nsamples = 2\\nvalue = [2, 0]'),\n",
              " Text(0.020539762789500433, 0.5340909090909091, 'gini = 0.0\\nsamples = 2\\nvalue = [2, 0]'),\n",
              " Text(0.020539762789500433, 0.5795454545454546, 'gini = 0.0\\nsamples = 4\\nvalue = [4, 0]'),\n",
              " Text(0.02096217436357756, 0.6022727272727273, 'gini = 0.0\\nsamples = 7\\nvalue = [7, 0]'),\n",
              " Text(0.020117351215423303, 0.6704545454545454, 'gini = 0.0\\nsamples = 4\\nvalue = [0, 4]'),\n",
              " Text(0.02349664380804034, 0.7386363636363636, 'x[5] <= 27.5\\ngini = 0.492\\nsamples = 57\\nvalue = [32, 25]'),\n",
              " Text(0.02307423223396321, 0.7159090909090909, 'gini = 0.0\\nsamples = 6\\nvalue = [6, 0]'),\n",
              " Text(0.02391905538211747, 0.7159090909090909, 'x[5] <= 32.5\\ngini = 0.5\\nsamples = 51\\nvalue = [26, 25]'),\n",
              " Text(0.02138458593765469, 0.6931818181818182, 'x[0] <= 15507.0\\ngini = 0.397\\nsamples = 11\\nvalue = [3, 8]'),\n",
              " Text(0.02096217436357756, 0.6704545454545454, 'gini = 0.0\\nsamples = 2\\nvalue = [2, 0]'),\n",
              " Text(0.02180699751173182, 0.6704545454545454, 'x[0] <= 26901.5\\ngini = 0.198\\nsamples = 9\\nvalue = [1, 8]'),\n",
              " Text(0.02138458593765469, 0.6477272727272727, 'gini = 0.0\\nsamples = 7\\nvalue = [0, 7]'),\n",
              " Text(0.022229409085808952, 0.6477272727272727, 'x[5] <= 28.5\\ngini = 0.5\\nsamples = 2\\nvalue = [1, 1]'),\n",
              " Text(0.02180699751173182, 0.625, 'gini = 0.0\\nsamples = 1\\nvalue = [1, 0]'),\n",
              " Text(0.02265182065988608, 0.625, 'gini = 0.0\\nsamples = 1\\nvalue = [0, 1]'),\n",
              " Text(0.026453524826580248, 0.6931818181818182, 'x[5] <= 35.5\\ngini = 0.489\\nsamples = 40\\nvalue = [23, 17]'),\n",
              " Text(0.02476387853027173, 0.6704545454545454, 'x[3] <= 2.5\\ngini = 0.337\\nsamples = 14\\nvalue = [11, 3]'),\n",
              " Text(0.02391905538211747, 0.6477272727272727, 'x[5] <= 33.5\\ngini = 0.18\\nsamples = 10\\nvalue = [9, 1]'),\n",
              " Text(0.02349664380804034, 0.625, 'x[0] <= 21337.0\\ngini = 0.5\\nsamples = 2\\nvalue = [1, 1]'),\n",
              " Text(0.02307423223396321, 0.6022727272727273, 'gini = 0.0\\nsamples = 1\\nvalue = [1, 0]'),\n",
              " Text(0.02391905538211747, 0.6022727272727273, 'gini = 0.0\\nsamples = 1\\nvalue = [0, 1]'),\n",
              " Text(0.0243414669561946, 0.625, 'gini = 0.0\\nsamples = 8\\nvalue = [8, 0]'),\n",
              " Text(0.02560870167842599, 0.6477272727272727, 'x[1] <= 260000.0\\ngini = 0.5\\nsamples = 4\\nvalue = [2, 2]'),\n",
              " Text(0.02518629010434886, 0.625, 'gini = 0.0\\nsamples = 2\\nvalue = [0, 2]'),\n",
              " Text(0.026031113252503117, 0.625, 'gini = 0.0\\nsamples = 2\\nvalue = [2, 0]'),\n",
              " Text(0.028143171122888767, 0.6704545454545454, 'x[13] <= 287.5\\ngini = 0.497\\nsamples = 26\\nvalue = [12, 14]'),\n",
              " Text(0.027720759548811636, 0.6477272727272727, 'x[5] <= 46.5\\ngini = 0.476\\nsamples = 23\\nvalue = [9, 14]'),\n",
              " Text(0.02687593640065738, 0.625, 'x[1] <= 305000.0\\ngini = 0.298\\nsamples = 11\\nvalue = [2, 9]'),\n",
              " Text(0.026453524826580248, 0.6022727272727273, 'x[5] <= 39.0\\ngini = 0.18\\nsamples = 10\\nvalue = [1, 9]'),\n",
              " Text(0.026031113252503117, 0.5795454545454546, 'x[3] <= 1.5\\ngini = 0.375\\nsamples = 4\\nvalue = [1, 3]'),\n",
              " Text(0.02560870167842599, 0.5568181818181818, 'gini = 0.0\\nsamples = 2\\nvalue = [0, 2]'),\n",
              " Text(0.026453524826580248, 0.5568181818181818, 'x[0] <= 23213.5\\ngini = 0.5\\nsamples = 2\\nvalue = [1, 1]'),\n",
              " Text(0.026031113252503117, 0.5340909090909091, 'gini = 0.0\\nsamples = 1\\nvalue = [0, 1]'),\n",
              " Text(0.02687593640065738, 0.5340909090909091, 'gini = 0.0\\nsamples = 1\\nvalue = [1, 0]'),\n",
              " Text(0.02687593640065738, 0.5795454545454546, 'gini = 0.0\\nsamples = 6\\nvalue = [0, 6]'),\n",
              " Text(0.02729834797473451, 0.6022727272727273, 'gini = 0.0\\nsamples = 1\\nvalue = [1, 0]'),\n",
              " Text(0.028565582696965897, 0.625, 'x[7] <= -1.5\\ngini = 0.486\\nsamples = 12\\nvalue = [7, 5]'),\n",
              " Text(0.028143171122888767, 0.6022727272727273, 'x[5] <= 50.5\\ngini = 0.42\\nsamples = 10\\nvalue = [7, 3]'),\n",
              " Text(0.027720759548811636, 0.5795454545454546, 'gini = 0.0\\nsamples = 4\\nvalue = [4, 0]'),\n",
              " Text(0.028565582696965897, 0.5795454545454546, 'x[0] <= 20794.0\\ngini = 0.5\\nsamples = 6\\nvalue = [3, 3]'),\n",
              " Text(0.028143171122888767, 0.5568181818181818, 'gini = 0.0\\nsamples = 2\\nvalue = [2, 0]'),\n",
              " Text(0.028987994271043028, 0.5568181818181818, 'x[4] <= 0.5\\ngini = 0.375\\nsamples = 4\\nvalue = [1, 3]'),\n",
              " Text(0.028565582696965897, 0.5340909090909091, 'gini = 0.0\\nsamples = 1\\nvalue = [1, 0]'),\n",
              " Text(0.029410405845120155, 0.5340909090909091, 'gini = 0.0\\nsamples = 3\\nvalue = [0, 3]'),\n",
              " Text(0.028987994271043028, 0.6022727272727273, 'gini = 0.0\\nsamples = 2\\nvalue = [0, 2]'),\n",
              " Text(0.028565582696965897, 0.6477272727272727, 'gini = 0.0\\nsamples = 3\\nvalue = [3, 0]'),\n",
              " Text(0.0702250991677172, 0.7840909090909091, 'x[21] <= 96.5\\ngini = 0.443\\nsamples = 450\\nvalue = [301, 149]'),\n",
              " Text(0.06161763832329006, 0.7613636363636364, 'x[5] <= 52.5\\ngini = 0.463\\nsamples = 388\\nvalue = [247, 141]'),\n",
              " Text(0.04999966999095775, 0.7386363636363636, 'x[0] <= 13894.5\\ngini = 0.449\\nsamples = 365\\nvalue = [241, 124]'),\n",
              " Text(0.037165618337942456, 0.7159090909090909, 'x[5] <= 26.5\\ngini = 0.48\\nsamples = 180\\nvalue = [108, 72]'),\n",
              " Text(0.03278969843773719, 0.6931818181818182, 'x[1] <= 135000.0\\ngini = 0.488\\nsamples = 26\\nvalue = [11, 15]'),\n",
              " Text(0.03236728686366006, 0.6704545454545454, 'x[12] <= -174.5\\ngini = 0.499\\nsamples = 23\\nvalue = [11, 12]'),\n",
              " Text(0.03194487528958293, 0.6477272727272727, 'gini = 0.0\\nsamples = 3\\nvalue = [0, 3]'),\n",
              " Text(0.03278969843773719, 0.6477272727272727, 'x[1] <= 110000.0\\ngini = 0.495\\nsamples = 20\\nvalue = [11, 9]'),\n",
              " Text(0.03236728686366006, 0.625, 'x[0] <= 9945.5\\ngini = 0.498\\nsamples = 17\\nvalue = [8, 9]'),\n",
              " Text(0.03194487528958293, 0.6022727272727273, 'x[0] <= 5403.0\\ngini = 0.49\\nsamples = 14\\nvalue = [8, 6]'),\n",
              " Text(0.031100052141428674, 0.5795454545454546, 'x[0] <= 3135.5\\ngini = 0.469\\nsamples = 8\\nvalue = [3, 5]'),\n",
              " Text(0.030677640567351547, 0.5568181818181818, 'x[5] <= 22.5\\ngini = 0.375\\nsamples = 4\\nvalue = [3, 1]'),\n",
              " Text(0.030255228993274416, 0.5340909090909091, 'gini = 0.0\\nsamples = 1\\nvalue = [0, 1]'),\n",
              " Text(0.031100052141428674, 0.5340909090909091, 'gini = 0.0\\nsamples = 3\\nvalue = [3, 0]'),\n",
              " Text(0.03152246371550581, 0.5568181818181818, 'gini = 0.0\\nsamples = 4\\nvalue = [0, 4]'),\n",
              " Text(0.03278969843773719, 0.5795454545454546, 'x[0] <= 8403.5\\ngini = 0.278\\nsamples = 6\\nvalue = [5, 1]'),\n",
              " Text(0.03236728686366006, 0.5568181818181818, 'gini = 0.0\\nsamples = 3\\nvalue = [3, 0]'),\n",
              " Text(0.03321211001181432, 0.5568181818181818, 'x[0] <= 8584.5\\ngini = 0.444\\nsamples = 3\\nvalue = [2, 1]'),\n",
              " Text(0.03278969843773719, 0.5340909090909091, 'gini = 0.0\\nsamples = 1\\nvalue = [0, 1]'),\n",
              " Text(0.033634521585891454, 0.5340909090909091, 'gini = 0.0\\nsamples = 2\\nvalue = [2, 0]'),\n",
              " Text(0.03278969843773719, 0.6022727272727273, 'gini = 0.0\\nsamples = 3\\nvalue = [0, 3]'),\n",
              " Text(0.03321211001181432, 0.625, 'gini = 0.0\\nsamples = 3\\nvalue = [3, 0]'),\n",
              " Text(0.03321211001181432, 0.6704545454545454, 'gini = 0.0\\nsamples = 3\\nvalue = [0, 3]'),\n",
              " Text(0.04154153823814773, 0.6931818181818182, 'x[1] <= 145000.0\\ngini = 0.466\\nsamples = 154\\nvalue = [97, 57]'),\n",
              " Text(0.037594630092864546, 0.6704545454545454, 'x[1] <= 35000.0\\ngini = 0.38\\nsamples = 55\\nvalue = [41, 14]'),\n",
              " Text(0.0357465794562771, 0.6477272727272727, 'x[2] <= 1.5\\ngini = 0.444\\nsamples = 9\\nvalue = [3, 6]'),\n",
              " Text(0.03532416788219997, 0.625, 'x[3] <= 2.5\\ngini = 0.375\\nsamples = 8\\nvalue = [2, 6]'),\n",
              " Text(0.034901756308122846, 0.6022727272727273, 'x[3] <= 1.5\\ngini = 0.245\\nsamples = 7\\nvalue = [1, 6]'),\n",
              " Text(0.034479344734045715, 0.5795454545454546, 'x[0] <= 6026.0\\ngini = 0.5\\nsamples = 2\\nvalue = [1, 1]'),\n",
              " Text(0.034056933159968585, 0.5568181818181818, 'gini = 0.0\\nsamples = 1\\nvalue = [1, 0]'),\n",
              " Text(0.034901756308122846, 0.5568181818181818, 'gini = 0.0\\nsamples = 1\\nvalue = [0, 1]'),\n",
              " Text(0.03532416788219997, 0.5795454545454546, 'gini = 0.0\\nsamples = 5\\nvalue = [0, 5]'),\n",
              " Text(0.0357465794562771, 0.6022727272727273, 'gini = 0.0\\nsamples = 1\\nvalue = [1, 0]'),\n",
              " Text(0.03616899103035423, 0.625, 'gini = 0.0\\nsamples = 1\\nvalue = [1, 0]'),\n",
              " Text(0.039442680729451986, 0.6477272727272727, 'x[0] <= 3760.5\\ngini = 0.287\\nsamples = 46\\nvalue = [38, 8]'),\n",
              " Text(0.03743622575258562, 0.625, 'x[1] <= 125000.0\\ngini = 0.459\\nsamples = 14\\nvalue = [9, 5]'),\n",
              " Text(0.03701381417850849, 0.6022727272727273, 'x[5] <= 42.5\\ngini = 0.375\\nsamples = 12\\nvalue = [9, 3]'),\n",
              " Text(0.03616899103035423, 0.5795454545454546, 'x[0] <= 2033.5\\ngini = 0.198\\nsamples = 9\\nvalue = [8, 1]'),\n",
              " Text(0.0357465794562771, 0.5568181818181818, 'x[0] <= 1769.0\\ngini = 0.375\\nsamples = 4\\nvalue = [3, 1]'),\n",
              " Text(0.03532416788219997, 0.5340909090909091, 'gini = 0.0\\nsamples = 3\\nvalue = [3, 0]'),\n",
              " Text(0.03616899103035423, 0.5340909090909091, 'gini = 0.0\\nsamples = 1\\nvalue = [0, 1]'),\n",
              " Text(0.03659140260443136, 0.5568181818181818, 'gini = 0.0\\nsamples = 5\\nvalue = [5, 0]'),\n",
              " Text(0.03785863732666275, 0.5795454545454546, 'x[5] <= 47.0\\ngini = 0.444\\nsamples = 3\\nvalue = [1, 2]'),\n",
              " Text(0.03743622575258562, 0.5568181818181818, 'gini = 0.0\\nsamples = 2\\nvalue = [0, 2]'),\n",
              " Text(0.038281048900739884, 0.5568181818181818, 'gini = 0.0\\nsamples = 1\\nvalue = [1, 0]'),\n",
              " Text(0.03785863732666275, 0.6022727272727273, 'gini = 0.0\\nsamples = 2\\nvalue = [0, 2]'),\n",
              " Text(0.041449135706318356, 0.625, 'x[5] <= 48.5\\ngini = 0.17\\nsamples = 32\\nvalue = [29, 3]'),\n",
              " Text(0.04039310677112553, 0.6022727272727273, 'x[17] <= 140.5\\ngini = 0.124\\nsamples = 30\\nvalue = [28, 2]'),\n",
              " Text(0.03954828362297127, 0.5795454545454546, 'x[0] <= 11291.5\\ngini = 0.069\\nsamples = 28\\nvalue = [27, 1]'),\n",
              " Text(0.03912587204889414, 0.5568181818181818, 'gini = 0.0\\nsamples = 21\\nvalue = [21, 0]'),\n",
              " Text(0.0399706951970484, 0.5568181818181818, 'x[0] <= 11446.0\\ngini = 0.245\\nsamples = 7\\nvalue = [6, 1]'),\n",
              " Text(0.03954828362297127, 0.5340909090909091, 'gini = 0.0\\nsamples = 1\\nvalue = [0, 1]'),\n",
              " Text(0.04039310677112553, 0.5340909090909091, 'gini = 0.0\\nsamples = 6\\nvalue = [6, 0]'),\n",
              " Text(0.04123792991927979, 0.5795454545454546, 'x[17] <= 391.0\\ngini = 0.5\\nsamples = 2\\nvalue = [1, 1]'),\n",
              " Text(0.04081551834520266, 0.5568181818181818, 'gini = 0.0\\nsamples = 1\\nvalue = [0, 1]'),\n",
              " Text(0.04166034149335692, 0.5568181818181818, 'gini = 0.0\\nsamples = 1\\nvalue = [1, 0]'),\n",
              " Text(0.042505164641511176, 0.6022727272727273, 'x[5] <= 50.5\\ngini = 0.5\\nsamples = 2\\nvalue = [1, 1]'),\n",
              " Text(0.042082753067434045, 0.5795454545454546, 'gini = 0.0\\nsamples = 1\\nvalue = [0, 1]'),\n",
              " Text(0.042927576215588306, 0.5795454545454546, 'gini = 0.0\\nsamples = 1\\nvalue = [1, 0]'),\n",
              " Text(0.04548844638343091, 0.6704545454545454, 'x[5] <= 28.5\\ngini = 0.491\\nsamples = 99\\nvalue = [56, 43]'),\n",
              " Text(0.04334998778966544, 0.6477272727272727, 'x[0] <= 8126.5\\ngini = 0.198\\nsamples = 9\\nvalue = [8, 1]'),\n",
              " Text(0.042927576215588306, 0.625, 'gini = 0.0\\nsamples = 6\\nvalue = [6, 0]'),\n",
              " Text(0.04377239936374257, 0.625, 'x[0] <= 11496.0\\ngini = 0.444\\nsamples = 3\\nvalue = [2, 1]'),\n",
              " Text(0.04334998778966544, 0.6022727272727273, 'gini = 0.0\\nsamples = 1\\nvalue = [0, 1]'),\n",
              " Text(0.0441948109378197, 0.6022727272727273, 'gini = 0.0\\nsamples = 2\\nvalue = [2, 0]'),\n",
              " Text(0.04762690497719638, 0.6477272727272727, 'x[5] <= 48.5\\ngini = 0.498\\nsamples = 90\\nvalue = [48, 42]'),\n",
              " Text(0.047204493403119246, 0.625, 'x[0] <= 4006.0\\ngini = 0.5\\nsamples = 85\\nvalue = [43, 42]'),\n",
              " Text(0.04503963408597396, 0.6022727272727273, 'x[0] <= 1995.5\\ngini = 0.435\\nsamples = 25\\nvalue = [17, 8]'),\n",
              " Text(0.04461722251189683, 0.5795454545454546, 'x[5] <= 35.5\\ngini = 0.49\\nsamples = 14\\nvalue = [6, 8]'),\n",
              " Text(0.04377239936374257, 0.5568181818181818, 'x[1] <= 245000.0\\ngini = 0.32\\nsamples = 5\\nvalue = [4, 1]'),\n",
              " Text(0.04334998778966544, 0.5340909090909091, 'gini = 0.0\\nsamples = 4\\nvalue = [4, 0]'),\n",
              " Text(0.0441948109378197, 0.5340909090909091, 'gini = 0.0\\nsamples = 1\\nvalue = [0, 1]'),\n",
              " Text(0.04546204566005108, 0.5568181818181818, 'x[1] <= 250000.0\\ngini = 0.346\\nsamples = 9\\nvalue = [2, 7]'),\n",
              " Text(0.04503963408597396, 0.5340909090909091, 'gini = 0.0\\nsamples = 6\\nvalue = [0, 6]'),\n",
              " Text(0.04588445723412821, 0.5340909090909091, 'x[0] <= 1371.0\\ngini = 0.444\\nsamples = 3\\nvalue = [2, 1]'),\n",
              " Text(0.04546204566005108, 0.5113636363636364, 'gini = 0.0\\nsamples = 2\\nvalue = [2, 0]'),\n",
              " Text(0.046306868808205344, 0.5113636363636364, 'gini = 0.0\\nsamples = 1\\nvalue = [0, 1]'),\n",
              " Text(0.04546204566005108, 0.5795454545454546, 'gini = 0.0\\nsamples = 11\\nvalue = [11, 0]'),\n",
              " Text(0.049369352720264534, 0.6022727272727273, 'x[14] <= 428.0\\ngini = 0.491\\nsamples = 60\\nvalue = [26, 34]'),\n",
              " Text(0.0489469411461874, 0.5795454545454546, 'x[12] <= -20.5\\ngini = 0.497\\nsamples = 56\\nvalue = [26, 30]'),\n",
              " Text(0.04852452957211027, 0.5568181818181818, 'gini = 0.0\\nsamples = 2\\nvalue = [2, 0]'),\n",
              " Text(0.049369352720264534, 0.5568181818181818, 'x[0] <= 12724.5\\ngini = 0.494\\nsamples = 54\\nvalue = [24, 30]'),\n",
              " Text(0.04820772089155243, 0.5340909090909091, 'x[5] <= 30.5\\ngini = 0.499\\nsamples = 48\\nvalue = [23, 25]'),\n",
              " Text(0.047151691956359605, 0.5113636363636364, 'x[22] <= 5046.0\\ngini = 0.32\\nsamples = 10\\nvalue = [2, 8]'),\n",
              " Text(0.046729280382282475, 0.48863636363636365, 'x[1] <= 245000.0\\ngini = 0.198\\nsamples = 9\\nvalue = [1, 8]'),\n",
              " Text(0.046306868808205344, 0.4659090909090909, 'gini = 0.0\\nsamples = 8\\nvalue = [0, 8]'),\n",
              " Text(0.047151691956359605, 0.4659090909090909, 'gini = 0.0\\nsamples = 1\\nvalue = [1, 0]'),\n",
              " Text(0.047574103530436736, 0.48863636363636365, 'gini = 0.0\\nsamples = 1\\nvalue = [1, 0]'),\n",
              " Text(0.04926374982674525, 0.5113636363636364, 'x[0] <= 4716.0\\ngini = 0.494\\nsamples = 38\\nvalue = [21, 17]'),\n",
              " Text(0.04841892667859099, 0.48863636363636365, 'x[5] <= 34.0\\ngini = 0.278\\nsamples = 6\\nvalue = [1, 5]'),\n",
              " Text(0.047996515104513866, 0.4659090909090909, 'gini = 0.0\\nsamples = 1\\nvalue = [1, 0]'),\n",
              " Text(0.04884133825266812, 0.4659090909090909, 'gini = 0.0\\nsamples = 5\\nvalue = [0, 5]'),\n",
              " Text(0.05010857297489951, 0.48863636363636365, 'x[1] <= 155000.0\\ngini = 0.469\\nsamples = 32\\nvalue = [20, 12]'),\n",
              " Text(0.04968616140082238, 0.4659090909090909, 'gini = 0.0\\nsamples = 2\\nvalue = [0, 2]'),\n",
              " Text(0.05053098454897664, 0.4659090909090909, 'x[12] <= -2.5\\ngini = 0.444\\nsamples = 30\\nvalue = [20, 10]'),\n",
              " Text(0.05010857297489951, 0.4431818181818182, 'gini = 0.0\\nsamples = 1\\nvalue = [0, 1]'),\n",
              " Text(0.050953396123053774, 0.4431818181818182, 'x[1] <= 170000.0\\ngini = 0.428\\nsamples = 29\\nvalue = [20, 9]'),\n",
              " Text(0.05053098454897664, 0.42045454545454547, 'gini = 0.0\\nsamples = 5\\nvalue = [5, 0]'),\n",
              " Text(0.051375807697130904, 0.42045454545454547, 'x[5] <= 31.5\\ngini = 0.469\\nsamples = 24\\nvalue = [15, 9]'),\n",
              " Text(0.050953396123053774, 0.3977272727272727, 'gini = 0.0\\nsamples = 1\\nvalue = [0, 1]'),\n",
              " Text(0.05179821927120803, 0.3977272727272727, 'x[4] <= 1.5\\ngini = 0.454\\nsamples = 23\\nvalue = [15, 8]'),\n",
              " Text(0.050953396123053774, 0.375, 'x[1] <= 250000.0\\ngini = 0.498\\nsamples = 15\\nvalue = [8, 7]'),\n",
              " Text(0.05053098454897664, 0.3522727272727273, 'x[5] <= 43.5\\ngini = 0.486\\nsamples = 12\\nvalue = [5, 7]'),\n",
              " Text(0.05010857297489951, 0.32954545454545453, 'x[0] <= 12138.0\\ngini = 0.42\\nsamples = 10\\nvalue = [3, 7]'),\n",
              " Text(0.04968616140082238, 0.3068181818181818, 'x[1] <= 225000.0\\ngini = 0.346\\nsamples = 9\\nvalue = [2, 7]'),\n",
              " Text(0.04926374982674525, 0.2840909090909091, 'gini = 0.0\\nsamples = 5\\nvalue = [0, 5]'),\n",
              " Text(0.05010857297489951, 0.2840909090909091, 'x[0] <= 11106.0\\ngini = 0.5\\nsamples = 4\\nvalue = [2, 2]'),\n",
              " Text(0.04968616140082238, 0.26136363636363635, 'gini = 0.0\\nsamples = 2\\nvalue = [2, 0]'),\n",
              " Text(0.05053098454897664, 0.26136363636363635, 'gini = 0.0\\nsamples = 2\\nvalue = [0, 2]'),\n",
              " Text(0.05053098454897664, 0.3068181818181818, 'gini = 0.0\\nsamples = 1\\nvalue = [1, 0]'),\n",
              " Text(0.050953396123053774, 0.32954545454545453, 'gini = 0.0\\nsamples = 2\\nvalue = [2, 0]'),\n",
              " Text(0.051375807697130904, 0.3522727272727273, 'gini = 0.0\\nsamples = 3\\nvalue = [3, 0]'),\n",
              " Text(0.05264304241936229, 0.375, 'x[5] <= 41.5\\ngini = 0.219\\nsamples = 8\\nvalue = [7, 1]'),\n",
              " Text(0.05222063084528516, 0.3522727272727273, 'gini = 0.0\\nsamples = 7\\nvalue = [7, 0]'),\n",
              " Text(0.05306545399343942, 0.3522727272727273, 'gini = 0.0\\nsamples = 1\\nvalue = [0, 1]'),\n",
              " Text(0.05053098454897664, 0.5340909090909091, 'x[19] <= 153.0\\ngini = 0.278\\nsamples = 6\\nvalue = [1, 5]'),\n",
              " Text(0.05010857297489951, 0.5113636363636364, 'gini = 0.0\\nsamples = 5\\nvalue = [0, 5]'),\n",
              " Text(0.050953396123053774, 0.5113636363636364, 'gini = 0.0\\nsamples = 1\\nvalue = [1, 0]'),\n",
              " Text(0.049791764294341664, 0.5795454545454546, 'gini = 0.0\\nsamples = 4\\nvalue = [0, 4]'),\n",
              " Text(0.04804931655127351, 0.625, 'gini = 0.0\\nsamples = 5\\nvalue = [5, 0]'),\n",
              " Text(0.06283372164397305, 0.7159090909090909, 'x[1] <= 125000.0\\ngini = 0.404\\nsamples = 185\\nvalue = [133, 52]'),\n",
              " Text(0.05538871765086363, 0.6931818181818182, 'x[5] <= 24.5\\ngini = 0.479\\nsamples = 73\\nvalue = [44, 29]'),\n",
              " Text(0.05496630607678651, 0.6704545454545454, 'gini = 0.0\\nsamples = 7\\nvalue = [7, 0]'),\n",
              " Text(0.05581112922494076, 0.6704545454545454, 'x[11] <= -1.5\\ngini = 0.493\\nsamples = 66\\nvalue = [37, 29]'),\n",
              " Text(0.05538871765086363, 0.6477272727272727, 'x[12] <= -97.0\\ngini = 0.498\\nsamples = 62\\nvalue = [33, 29]'),\n",
              " Text(0.05496630607678651, 0.625, 'gini = 0.0\\nsamples = 3\\nvalue = [3, 0]'),\n",
              " Text(0.05581112922494076, 0.625, 'x[3] <= 1.5\\ngini = 0.5\\nsamples = 59\\nvalue = [30, 29]'),\n",
              " Text(0.05179821927120803, 0.6022727272727273, 'x[0] <= 14752.0\\ngini = 0.444\\nsamples = 21\\nvalue = [14, 7]'),\n",
              " Text(0.051375807697130904, 0.5795454545454546, 'gini = 0.0\\nsamples = 2\\nvalue = [0, 2]'),\n",
              " Text(0.05222063084528516, 0.5795454545454546, 'x[0] <= 20849.5\\ngini = 0.388\\nsamples = 19\\nvalue = [14, 5]'),\n",
              " Text(0.05179821927120803, 0.5568181818181818, 'gini = 0.0\\nsamples = 8\\nvalue = [8, 0]'),\n",
              " Text(0.05264304241936229, 0.5568181818181818, 'x[5] <= 39.0\\ngini = 0.496\\nsamples = 11\\nvalue = [6, 5]'),\n",
              " Text(0.05222063084528516, 0.5340909090909091, 'x[13] <= -9.0\\ngini = 0.469\\nsamples = 8\\nvalue = [3, 5]'),\n",
              " Text(0.05179821927120803, 0.5113636363636364, 'gini = 0.0\\nsamples = 1\\nvalue = [1, 0]'),\n",
              " Text(0.05264304241936229, 0.5113636363636364, 'x[1] <= 85000.0\\ngini = 0.408\\nsamples = 7\\nvalue = [2, 5]'),\n",
              " Text(0.05222063084528516, 0.48863636363636365, 'gini = 0.0\\nsamples = 3\\nvalue = [0, 3]'),\n",
              " Text(0.05306545399343942, 0.48863636363636365, 'x[1] <= 95000.0\\ngini = 0.5\\nsamples = 4\\nvalue = [2, 2]'),\n",
              " Text(0.05264304241936229, 0.4659090909090909, 'gini = 0.0\\nsamples = 2\\nvalue = [2, 0]'),\n",
              " Text(0.05348786556751655, 0.4659090909090909, 'gini = 0.0\\nsamples = 2\\nvalue = [0, 2]'),\n",
              " Text(0.05306545399343942, 0.5340909090909091, 'gini = 0.0\\nsamples = 3\\nvalue = [3, 0]'),\n",
              " Text(0.059824039178673495, 0.6022727272727273, 'x[1] <= 85000.0\\ngini = 0.488\\nsamples = 38\\nvalue = [16, 22]'),\n",
              " Text(0.05771198130828785, 0.5795454545454546, 'x[5] <= 35.5\\ngini = 0.497\\nsamples = 26\\nvalue = [14, 12]'),\n",
              " Text(0.05602233501197933, 0.5568181818181818, 'x[2] <= 1.5\\ngini = 0.43\\nsamples = 16\\nvalue = [11, 5]'),\n",
              " Text(0.05475510028974794, 0.5340909090909091, 'x[1] <= 65000.0\\ngini = 0.219\\nsamples = 8\\nvalue = [7, 1]'),\n",
              " Text(0.05433268871567081, 0.5113636363636364, 'gini = 0.0\\nsamples = 4\\nvalue = [4, 0]'),\n",
              " Text(0.055177511863825066, 0.5113636363636364, 'x[5] <= 29.0\\ngini = 0.375\\nsamples = 4\\nvalue = [3, 1]'),\n",
              " Text(0.05475510028974794, 0.48863636363636365, 'x[0] <= 23598.5\\ngini = 0.5\\nsamples = 2\\nvalue = [1, 1]'),\n",
              " Text(0.05433268871567081, 0.4659090909090909, 'gini = 0.0\\nsamples = 1\\nvalue = [0, 1]'),\n",
              " Text(0.055177511863825066, 0.4659090909090909, 'gini = 0.0\\nsamples = 1\\nvalue = [1, 0]'),\n",
              " Text(0.055599923437902196, 0.48863636363636365, 'gini = 0.0\\nsamples = 2\\nvalue = [2, 0]'),\n",
              " Text(0.05728956973421072, 0.5340909090909091, 'x[1] <= 40000.0\\ngini = 0.5\\nsamples = 8\\nvalue = [4, 4]'),\n",
              " Text(0.05686715816013359, 0.5113636363636364, 'x[1] <= 15000.0\\ngini = 0.32\\nsamples = 5\\nvalue = [1, 4]'),\n",
              " Text(0.05644474658605646, 0.48863636363636365, 'gini = 0.0\\nsamples = 1\\nvalue = [1, 0]'),\n",
              " Text(0.05728956973421072, 0.48863636363636365, 'gini = 0.0\\nsamples = 4\\nvalue = [0, 4]'),\n",
              " Text(0.05771198130828785, 0.5113636363636364, 'gini = 0.0\\nsamples = 3\\nvalue = [3, 0]'),\n",
              " Text(0.059401627604596365, 0.5568181818181818, 'x[14] <= 170.0\\ngini = 0.42\\nsamples = 10\\nvalue = [3, 7]'),\n",
              " Text(0.058979216030519234, 0.5340909090909091, 'x[4] <= 1.5\\ngini = 0.346\\nsamples = 9\\nvalue = [2, 7]'),\n",
              " Text(0.0585568044564421, 0.5113636363636364, 'gini = 0.0\\nsamples = 5\\nvalue = [0, 5]'),\n",
              " Text(0.059401627604596365, 0.5113636363636364, 'x[1] <= 40000.0\\ngini = 0.5\\nsamples = 4\\nvalue = [2, 2]'),\n",
              " Text(0.058979216030519234, 0.48863636363636365, 'x[5] <= 39.5\\ngini = 0.444\\nsamples = 3\\nvalue = [2, 1]'),\n",
              " Text(0.0585568044564421, 0.4659090909090909, 'gini = 0.0\\nsamples = 1\\nvalue = [0, 1]'),\n",
              " Text(0.059401627604596365, 0.4659090909090909, 'gini = 0.0\\nsamples = 2\\nvalue = [2, 0]'),\n",
              " Text(0.059824039178673495, 0.48863636363636365, 'gini = 0.0\\nsamples = 1\\nvalue = [0, 1]'),\n",
              " Text(0.059824039178673495, 0.5340909090909091, 'gini = 0.0\\nsamples = 1\\nvalue = [1, 0]'),\n",
              " Text(0.06193609704905914, 0.5795454545454546, 'x[5] <= 46.5\\ngini = 0.278\\nsamples = 12\\nvalue = [2, 10]'),\n",
              " Text(0.06109127390090489, 0.5568181818181818, 'x[0] <= 22407.5\\ngini = 0.18\\nsamples = 10\\nvalue = [1, 9]'),\n",
              " Text(0.060668862326827756, 0.5340909090909091, 'gini = 0.0\\nsamples = 6\\nvalue = [0, 6]'),\n",
              " Text(0.06151368547498202, 0.5340909090909091, 'x[5] <= 30.0\\ngini = 0.375\\nsamples = 4\\nvalue = [1, 3]'),\n",
              " Text(0.06109127390090489, 0.5113636363636364, 'gini = 0.0\\nsamples = 1\\nvalue = [1, 0]'),\n",
              " Text(0.06193609704905914, 0.5113636363636364, 'gini = 0.0\\nsamples = 3\\nvalue = [0, 3]'),\n",
              " Text(0.0627809201972134, 0.5568181818181818, 'x[4] <= 2.0\\ngini = 0.5\\nsamples = 2\\nvalue = [1, 1]'),\n",
              " Text(0.06235850862313627, 0.5340909090909091, 'gini = 0.0\\nsamples = 1\\nvalue = [1, 0]'),\n",
              " Text(0.06320333177129053, 0.5340909090909091, 'gini = 0.0\\nsamples = 1\\nvalue = [0, 1]'),\n",
              " Text(0.05623354079901789, 0.6477272727272727, 'gini = 0.0\\nsamples = 4\\nvalue = [4, 0]'),\n",
              " Text(0.07027872563708246, 0.6931818181818182, 'x[23] <= 75.0\\ngini = 0.326\\nsamples = 112\\nvalue = [89, 23]'),\n",
              " Text(0.06985631406300533, 0.6704545454545454, 'x[0] <= 23368.5\\ngini = 0.309\\nsamples = 110\\nvalue = [89, 21]'),\n",
              " Text(0.0670050359379847, 0.6477272727272727, 'x[2] <= 1.5\\ngini = 0.18\\nsamples = 60\\nvalue = [54, 6]'),\n",
              " Text(0.06616021278983045, 0.625, 'x[5] <= 39.5\\ngini = 0.375\\nsamples = 16\\nvalue = [12, 4]'),\n",
              " Text(0.06573780121575332, 0.6022727272727273, 'x[0] <= 17396.5\\ngini = 0.48\\nsamples = 10\\nvalue = [6, 4]'),\n",
              " Text(0.06489297806759906, 0.5795454545454546, 'x[5] <= 34.5\\ngini = 0.48\\nsamples = 5\\nvalue = [2, 3]'),\n",
              " Text(0.06447056649352192, 0.5568181818181818, 'x[8] <= -1.5\\ngini = 0.444\\nsamples = 3\\nvalue = [2, 1]'),\n",
              " Text(0.0640481549194448, 0.5340909090909091, 'gini = 0.0\\nsamples = 2\\nvalue = [2, 0]'),\n",
              " Text(0.06489297806759906, 0.5340909090909091, 'gini = 0.0\\nsamples = 1\\nvalue = [0, 1]'),\n",
              " Text(0.06531538964167619, 0.5568181818181818, 'gini = 0.0\\nsamples = 2\\nvalue = [0, 2]'),\n",
              " Text(0.06658262436390758, 0.5795454545454546, 'x[0] <= 20881.0\\ngini = 0.32\\nsamples = 5\\nvalue = [4, 1]'),\n",
              " Text(0.06616021278983045, 0.5568181818181818, 'gini = 0.0\\nsamples = 4\\nvalue = [4, 0]'),\n",
              " Text(0.0670050359379847, 0.5568181818181818, 'gini = 0.0\\nsamples = 1\\nvalue = [0, 1]'),\n",
              " Text(0.06658262436390758, 0.6022727272727273, 'gini = 0.0\\nsamples = 6\\nvalue = [6, 0]'),\n",
              " Text(0.06784985908613896, 0.625, 'x[5] <= 38.5\\ngini = 0.087\\nsamples = 44\\nvalue = [42, 2]'),\n",
              " Text(0.06742744751206182, 0.6022727272727273, 'gini = 0.0\\nsamples = 30\\nvalue = [30, 0]'),\n",
              " Text(0.06827227066021609, 0.6022727272727273, 'x[0] <= 19335.5\\ngini = 0.245\\nsamples = 14\\nvalue = [12, 2]'),\n",
              " Text(0.06784985908613896, 0.5795454545454546, 'gini = 0.0\\nsamples = 8\\nvalue = [8, 0]'),\n",
              " Text(0.06869468223429322, 0.5795454545454546, 'x[0] <= 22587.5\\ngini = 0.444\\nsamples = 6\\nvalue = [4, 2]'),\n",
              " Text(0.06827227066021609, 0.5568181818181818, 'x[5] <= 49.0\\ngini = 0.444\\nsamples = 3\\nvalue = [1, 2]'),\n",
              " Text(0.06784985908613896, 0.5340909090909091, 'gini = 0.0\\nsamples = 2\\nvalue = [0, 2]'),\n",
              " Text(0.06869468223429322, 0.5340909090909091, 'gini = 0.0\\nsamples = 1\\nvalue = [1, 0]'),\n",
              " Text(0.06911709380837035, 0.5568181818181818, 'gini = 0.0\\nsamples = 3\\nvalue = [3, 0]'),\n",
              " Text(0.07270759218802596, 0.6477272727272727, 'x[0] <= 27369.5\\ngini = 0.42\\nsamples = 50\\nvalue = [35, 15]'),\n",
              " Text(0.07080674010467887, 0.625, 'x[16] <= -57.0\\ngini = 0.49\\nsamples = 28\\nvalue = [16, 12]'),\n",
              " Text(0.07038432853060174, 0.6022727272727273, 'gini = 0.0\\nsamples = 4\\nvalue = [4, 0]'),\n",
              " Text(0.071229151678756, 0.6022727272727273, 'x[1] <= 170000.0\\ngini = 0.5\\nsamples = 24\\nvalue = [12, 12]'),\n",
              " Text(0.07038432853060174, 0.5795454545454546, 'x[0] <= 24303.5\\ngini = 0.32\\nsamples = 5\\nvalue = [1, 4]'),\n",
              " Text(0.06996191695652461, 0.5568181818181818, 'gini = 0.0\\nsamples = 1\\nvalue = [1, 0]'),\n",
              " Text(0.07080674010467887, 0.5568181818181818, 'gini = 0.0\\nsamples = 4\\nvalue = [0, 4]'),\n",
              " Text(0.07207397482691026, 0.5795454545454546, 'x[0] <= 27030.5\\ngini = 0.488\\nsamples = 19\\nvalue = [11, 8]'),\n",
              " Text(0.07165156325283313, 0.5568181818181818, 'x[0] <= 26254.0\\ngini = 0.457\\nsamples = 17\\nvalue = [11, 6]'),\n",
              " Text(0.071229151678756, 0.5340909090909091, 'x[14] <= 237.0\\ngini = 0.497\\nsamples = 13\\nvalue = [7, 6]'),\n",
              " Text(0.07080674010467887, 0.5113636363636364, 'x[5] <= 38.5\\ngini = 0.496\\nsamples = 11\\nvalue = [5, 6]'),\n",
              " Text(0.06996191695652461, 0.48863636363636365, 'x[0] <= 26044.5\\ngini = 0.408\\nsamples = 7\\nvalue = [2, 5]'),\n",
              " Text(0.06953950538244748, 0.4659090909090909, 'x[2] <= 1.5\\ngini = 0.278\\nsamples = 6\\nvalue = [1, 5]'),\n",
              " Text(0.06911709380837035, 0.4431818181818182, 'x[5] <= 33.0\\ngini = 0.5\\nsamples = 2\\nvalue = [1, 1]'),\n",
              " Text(0.06869468223429322, 0.42045454545454547, 'gini = 0.0\\nsamples = 1\\nvalue = [0, 1]'),\n",
              " Text(0.06953950538244748, 0.42045454545454547, 'gini = 0.0\\nsamples = 1\\nvalue = [1, 0]'),\n",
              " Text(0.06996191695652461, 0.4431818181818182, 'gini = 0.0\\nsamples = 4\\nvalue = [0, 4]'),\n",
              " Text(0.07038432853060174, 0.4659090909090909, 'gini = 0.0\\nsamples = 1\\nvalue = [1, 0]'),\n",
              " Text(0.07165156325283313, 0.48863636363636365, 'x[3] <= 2.5\\ngini = 0.375\\nsamples = 4\\nvalue = [3, 1]'),\n",
              " Text(0.071229151678756, 0.4659090909090909, 'gini = 0.0\\nsamples = 3\\nvalue = [3, 0]'),\n",
              " Text(0.07207397482691026, 0.4659090909090909, 'gini = 0.0\\nsamples = 1\\nvalue = [0, 1]'),\n",
              " Text(0.07165156325283313, 0.5113636363636364, 'gini = 0.0\\nsamples = 2\\nvalue = [2, 0]'),\n",
              " Text(0.07207397482691026, 0.5340909090909091, 'gini = 0.0\\nsamples = 4\\nvalue = [4, 0]'),\n",
              " Text(0.07249638640098739, 0.5568181818181818, 'gini = 0.0\\nsamples = 2\\nvalue = [0, 2]'),\n",
              " Text(0.07460844427137303, 0.625, 'x[0] <= 29948.5\\ngini = 0.236\\nsamples = 22\\nvalue = [19, 3]'),\n",
              " Text(0.0741860326972959, 0.6022727272727273, 'x[5] <= 28.5\\ngini = 0.172\\nsamples = 21\\nvalue = [19, 2]'),\n",
              " Text(0.07376362112321877, 0.5795454545454546, 'x[0] <= 28296.5\\ngini = 0.5\\nsamples = 4\\nvalue = [2, 2]'),\n",
              " Text(0.07334120954914165, 0.5568181818181818, 'gini = 0.0\\nsamples = 1\\nvalue = [1, 0]'),\n",
              " Text(0.0741860326972959, 0.5568181818181818, 'x[3] <= 1.5\\ngini = 0.444\\nsamples = 3\\nvalue = [1, 2]'),\n",
              " Text(0.07376362112321877, 0.5340909090909091, 'x[5] <= 27.5\\ngini = 0.5\\nsamples = 2\\nvalue = [1, 1]'),\n",
              " Text(0.07334120954914165, 0.5113636363636364, 'gini = 0.0\\nsamples = 1\\nvalue = [1, 0]'),\n",
              " Text(0.0741860326972959, 0.5113636363636364, 'gini = 0.0\\nsamples = 1\\nvalue = [0, 1]'),\n",
              " Text(0.07460844427137303, 0.5340909090909091, 'gini = 0.0\\nsamples = 1\\nvalue = [0, 1]'),\n",
              " Text(0.07460844427137303, 0.5795454545454546, 'gini = 0.0\\nsamples = 17\\nvalue = [17, 0]'),\n",
              " Text(0.07503085584545016, 0.6022727272727273, 'gini = 0.0\\nsamples = 1\\nvalue = [0, 1]'),\n",
              " Text(0.07070113721115959, 0.6704545454545454, 'gini = 0.0\\nsamples = 2\\nvalue = [0, 2]'),\n",
              " Text(0.07323560665562237, 0.7386363636363636, 'x[0] <= 21306.0\\ngini = 0.386\\nsamples = 23\\nvalue = [6, 17]'),\n",
              " Text(0.07239078350746811, 0.7159090909090909, 'x[0] <= 6319.0\\ngini = 0.208\\nsamples = 17\\nvalue = [2, 15]'),\n",
              " Text(0.07196837193339098, 0.6931818181818182, 'x[0] <= 2959.5\\ngini = 0.48\\nsamples = 5\\nvalue = [2, 3]'),\n",
              " Text(0.07154596035931385, 0.6704545454545454, 'gini = 0.0\\nsamples = 3\\nvalue = [0, 3]'),\n",
              " Text(0.07239078350746811, 0.6704545454545454, 'gini = 0.0\\nsamples = 2\\nvalue = [2, 0]'),\n",
              " Text(0.07281319508154524, 0.6931818181818182, 'gini = 0.0\\nsamples = 12\\nvalue = [0, 12]'),\n",
              " Text(0.07408042980377662, 0.7159090909090909, 'x[0] <= 27036.0\\ngini = 0.444\\nsamples = 6\\nvalue = [4, 2]'),\n",
              " Text(0.07365801822969949, 0.6931818181818182, 'gini = 0.0\\nsamples = 4\\nvalue = [4, 0]'),\n",
              " Text(0.07450284137785375, 0.6931818181818182, 'gini = 0.0\\nsamples = 2\\nvalue = [0, 2]'),\n",
              " Text(0.07883256001214434, 0.7613636363636364, 'x[13] <= 4006.5\\ngini = 0.225\\nsamples = 62\\nvalue = [54, 8]'),\n",
              " Text(0.07798773686399008, 0.7386363636363636, 'x[15] <= 35.5\\ngini = 0.158\\nsamples = 58\\nvalue = [53, 5]'),\n",
              " Text(0.07756532528991295, 0.7159090909090909, 'x[5] <= 30.5\\ngini = 0.131\\nsamples = 57\\nvalue = [53, 4]'),\n",
              " Text(0.07714291371583581, 0.6931818181818182, 'x[11] <= -0.5\\ngini = 0.332\\nsamples = 19\\nvalue = [15, 4]'),\n",
              " Text(0.07672050214175868, 0.6704545454545454, 'x[0] <= 2143.5\\ngini = 0.208\\nsamples = 17\\nvalue = [15, 2]'),\n",
              " Text(0.07587567899360442, 0.6477272727272727, 'x[21] <= 25305.5\\ngini = 0.5\\nsamples = 2\\nvalue = [1, 1]'),\n",
              " Text(0.07545326741952729, 0.625, 'gini = 0.0\\nsamples = 1\\nvalue = [1, 0]'),\n",
              " Text(0.07629809056768155, 0.625, 'gini = 0.0\\nsamples = 1\\nvalue = [0, 1]'),\n",
              " Text(0.07756532528991295, 0.6477272727272727, 'x[5] <= 23.5\\ngini = 0.124\\nsamples = 15\\nvalue = [14, 1]'),\n",
              " Text(0.07714291371583581, 0.625, 'x[21] <= 613.0\\ngini = 0.5\\nsamples = 2\\nvalue = [1, 1]'),\n",
              " Text(0.07672050214175868, 0.6022727272727273, 'gini = 0.0\\nsamples = 1\\nvalue = [1, 0]'),\n",
              " Text(0.07756532528991295, 0.6022727272727273, 'gini = 0.0\\nsamples = 1\\nvalue = [0, 1]'),\n",
              " Text(0.07798773686399008, 0.625, 'gini = 0.0\\nsamples = 13\\nvalue = [13, 0]'),\n",
              " Text(0.07756532528991295, 0.6704545454545454, 'gini = 0.0\\nsamples = 2\\nvalue = [0, 2]'),\n",
              " Text(0.07798773686399008, 0.6931818181818182, 'gini = 0.0\\nsamples = 38\\nvalue = [38, 0]'),\n",
              " Text(0.0784101484380672, 0.7159090909090909, 'gini = 0.0\\nsamples = 1\\nvalue = [0, 1]'),\n",
              " Text(0.0796773831602986, 0.7386363636363636, 'x[19] <= 34217.5\\ngini = 0.375\\nsamples = 4\\nvalue = [1, 3]'),\n",
              " Text(0.07925497158622147, 0.7159090909090909, 'gini = 0.0\\nsamples = 3\\nvalue = [0, 3]'),\n",
              " Text(0.08009979473437573, 0.7159090909090909, 'gini = 0.0\\nsamples = 1\\nvalue = [1, 0]'),\n",
              " Text(0.08908924104520465, 0.8068181818181818, 'x[0] <= 15487.0\\ngini = 0.495\\nsamples = 202\\nvalue = [111, 91]'),\n",
              " Text(0.08458791770894522, 0.7840909090909091, 'x[22] <= 1415.0\\ngini = 0.499\\nsamples = 116\\nvalue = [55, 61]'),\n",
              " Text(0.08342628588023313, 0.7613636363636364, 'x[11] <= -1.5\\ngini = 0.492\\nsamples = 103\\nvalue = [45, 58]'),\n",
              " Text(0.083003874306156, 0.7386363636363636, 'x[19] <= 2.0\\ngini = 0.499\\nsamples = 95\\nvalue = [45, 50]'),\n",
              " Text(0.08194784537096317, 0.7159090909090909, 'x[0] <= 13224.5\\ngini = 0.492\\nsamples = 87\\nvalue = [38, 49]'),\n",
              " Text(0.08110302222280891, 0.6931818181818182, 'x[0] <= 11317.5\\ngini = 0.498\\nsamples = 79\\nvalue = [37, 42]'),\n",
              " Text(0.08068061064873178, 0.6704545454545454, 'x[5] <= 27.5\\ngini = 0.489\\nsamples = 73\\nvalue = [31, 42]'),\n",
              " Text(0.08025819907465465, 0.6477272727272727, 'gini = 0.0\\nsamples = 3\\nvalue = [3, 0]'),\n",
              " Text(0.08110302222280891, 0.6477272727272727, 'x[5] <= 52.5\\ngini = 0.48\\nsamples = 70\\nvalue = [28, 42]'),\n",
              " Text(0.08068061064873178, 0.625, 'x[12] <= -3.0\\ngini = 0.472\\nsamples = 68\\nvalue = [26, 42]'),\n",
              " Text(0.0784101484380672, 0.6022727272727273, 'x[2] <= 1.5\\ngini = 0.444\\nsamples = 6\\nvalue = [4, 2]'),\n",
              " Text(0.07798773686399008, 0.5795454545454546, 'gini = 0.0\\nsamples = 3\\nvalue = [3, 0]'),\n",
              " Text(0.07883256001214434, 0.5795454545454546, 'x[23] <= 77.0\\ngini = 0.444\\nsamples = 3\\nvalue = [1, 2]'),\n",
              " Text(0.0784101484380672, 0.5568181818181818, 'gini = 0.0\\nsamples = 2\\nvalue = [0, 2]'),\n",
              " Text(0.07925497158622147, 0.5568181818181818, 'gini = 0.0\\nsamples = 1\\nvalue = [1, 0]'),\n",
              " Text(0.08295107285939635, 0.6022727272727273, 'x[5] <= 32.5\\ngini = 0.458\\nsamples = 62\\nvalue = [22, 40]'),\n",
              " Text(0.08094461788252998, 0.5795454545454546, 'x[3] <= 1.5\\ngini = 0.5\\nsamples = 20\\nvalue = [10, 10]'),\n",
              " Text(0.08009979473437573, 0.5568181818181818, 'x[0] <= 6147.5\\ngini = 0.444\\nsamples = 12\\nvalue = [8, 4]'),\n",
              " Text(0.0796773831602986, 0.5340909090909091, 'gini = 0.0\\nsamples = 5\\nvalue = [5, 0]'),\n",
              " Text(0.08052220630845285, 0.5340909090909091, 'x[5] <= 30.5\\ngini = 0.49\\nsamples = 7\\nvalue = [3, 4]'),\n",
              " Text(0.08009979473437573, 0.5113636363636364, 'x[6] <= -0.5\\ngini = 0.375\\nsamples = 4\\nvalue = [3, 1]'),\n",
              " Text(0.0796773831602986, 0.48863636363636365, 'gini = 0.0\\nsamples = 1\\nvalue = [0, 1]'),\n",
              " Text(0.08052220630845285, 0.48863636363636365, 'gini = 0.0\\nsamples = 3\\nvalue = [3, 0]'),\n",
              " Text(0.08094461788252998, 0.5113636363636364, 'gini = 0.0\\nsamples = 3\\nvalue = [0, 3]'),\n",
              " Text(0.08178944103068424, 0.5568181818181818, 'x[0] <= 8096.5\\ngini = 0.375\\nsamples = 8\\nvalue = [2, 6]'),\n",
              " Text(0.0813670294566071, 0.5340909090909091, 'gini = 0.0\\nsamples = 6\\nvalue = [0, 6]'),\n",
              " Text(0.08221185260476137, 0.5340909090909091, 'gini = 0.0\\nsamples = 2\\nvalue = [2, 0]'),\n",
              " Text(0.08495752783626272, 0.5795454545454546, 'x[5] <= 46.5\\ngini = 0.408\\nsamples = 42\\nvalue = [12, 30]'),\n",
              " Text(0.08347908732699276, 0.5568181818181818, 'x[5] <= 35.5\\ngini = 0.342\\nsamples = 32\\nvalue = [7, 25]'),\n",
              " Text(0.08305667575291563, 0.5340909090909091, 'gini = 0.0\\nsamples = 5\\nvalue = [0, 5]'),\n",
              " Text(0.08390149890106989, 0.5340909090909091, 'x[5] <= 42.5\\ngini = 0.384\\nsamples = 27\\nvalue = [7, 20]'),\n",
              " Text(0.08347908732699276, 0.5113636363636364, 'x[0] <= 6103.5\\ngini = 0.423\\nsamples = 23\\nvalue = [7, 16]'),\n",
              " Text(0.0826342641788385, 0.48863636363636365, 'x[0] <= 2232.0\\ngini = 0.278\\nsamples = 12\\nvalue = [2, 10]'),\n",
              " Text(0.08221185260476137, 0.4659090909090909, 'x[2] <= 1.5\\ngini = 0.444\\nsamples = 6\\nvalue = [2, 4]'),\n",
              " Text(0.08178944103068424, 0.4431818181818182, 'x[1] <= 355000.0\\ngini = 0.32\\nsamples = 5\\nvalue = [1, 4]'),\n",
              " Text(0.0813670294566071, 0.42045454545454547, 'gini = 0.0\\nsamples = 1\\nvalue = [1, 0]'),\n",
              " Text(0.08221185260476137, 0.42045454545454547, 'gini = 0.0\\nsamples = 4\\nvalue = [0, 4]'),\n",
              " Text(0.0826342641788385, 0.4431818181818182, 'gini = 0.0\\nsamples = 1\\nvalue = [1, 0]'),\n",
              " Text(0.08305667575291563, 0.4659090909090909, 'gini = 0.0\\nsamples = 6\\nvalue = [0, 6]'),\n",
              " Text(0.08432391047514702, 0.48863636363636365, 'x[0] <= 10324.0\\ngini = 0.496\\nsamples = 11\\nvalue = [5, 6]'),\n",
              " Text(0.08390149890106989, 0.4659090909090909, 'x[3] <= 2.5\\ngini = 0.494\\nsamples = 9\\nvalue = [5, 4]'),\n",
              " Text(0.08347908732699276, 0.4431818181818182, 'x[13] <= 390.0\\ngini = 0.469\\nsamples = 8\\nvalue = [5, 3]'),\n",
              " Text(0.08305667575291563, 0.42045454545454547, 'x[1] <= 425000.0\\ngini = 0.408\\nsamples = 7\\nvalue = [5, 2]'),\n",
              " Text(0.0826342641788385, 0.3977272727272727, 'gini = 0.0\\nsamples = 3\\nvalue = [3, 0]'),\n",
              " Text(0.08347908732699276, 0.3977272727272727, 'x[5] <= 37.5\\ngini = 0.5\\nsamples = 4\\nvalue = [2, 2]'),\n",
              " Text(0.08305667575291563, 0.375, 'gini = 0.0\\nsamples = 1\\nvalue = [0, 1]'),\n",
              " Text(0.08390149890106989, 0.375, 'x[5] <= 41.0\\ngini = 0.444\\nsamples = 3\\nvalue = [2, 1]'),\n",
              " Text(0.08347908732699276, 0.3522727272727273, 'gini = 0.0\\nsamples = 2\\nvalue = [2, 0]'),\n",
              " Text(0.08432391047514702, 0.3522727272727273, 'gini = 0.0\\nsamples = 1\\nvalue = [0, 1]'),\n",
              " Text(0.08390149890106989, 0.42045454545454547, 'gini = 0.0\\nsamples = 1\\nvalue = [0, 1]'),\n",
              " Text(0.08432391047514702, 0.4431818181818182, 'gini = 0.0\\nsamples = 1\\nvalue = [0, 1]'),\n",
              " Text(0.08474632204922415, 0.4659090909090909, 'gini = 0.0\\nsamples = 2\\nvalue = [0, 2]'),\n",
              " Text(0.08432391047514702, 0.5113636363636364, 'gini = 0.0\\nsamples = 4\\nvalue = [0, 4]'),\n",
              " Text(0.08643596834553267, 0.5568181818181818, 'x[0] <= 10254.5\\ngini = 0.5\\nsamples = 10\\nvalue = [5, 5]'),\n",
              " Text(0.08601355677145554, 0.5340909090909091, 'x[1] <= 605000.0\\ngini = 0.469\\nsamples = 8\\nvalue = [3, 5]'),\n",
              " Text(0.08559114519737841, 0.5113636363636364, 'x[0] <= 235.0\\ngini = 0.408\\nsamples = 7\\nvalue = [2, 5]'),\n",
              " Text(0.08516873362330128, 0.48863636363636365, 'gini = 0.0\\nsamples = 1\\nvalue = [1, 0]'),\n",
              " Text(0.08601355677145554, 0.48863636363636365, 'x[5] <= 51.5\\ngini = 0.278\\nsamples = 6\\nvalue = [1, 5]'),\n",
              " Text(0.08559114519737841, 0.4659090909090909, 'gini = 0.0\\nsamples = 4\\nvalue = [0, 4]'),\n",
              " Text(0.08643596834553267, 0.4659090909090909, 'x[6] <= -0.5\\ngini = 0.5\\nsamples = 2\\nvalue = [1, 1]'),\n",
              " Text(0.08601355677145554, 0.4431818181818182, 'gini = 0.0\\nsamples = 1\\nvalue = [0, 1]'),\n",
              " Text(0.08685837991960979, 0.4431818181818182, 'gini = 0.0\\nsamples = 1\\nvalue = [1, 0]'),\n",
              " Text(0.08643596834553267, 0.5113636363636364, 'gini = 0.0\\nsamples = 1\\nvalue = [1, 0]'),\n",
              " Text(0.08685837991960979, 0.5340909090909091, 'gini = 0.0\\nsamples = 2\\nvalue = [2, 0]'),\n",
              " Text(0.08152543379688604, 0.625, 'gini = 0.0\\nsamples = 2\\nvalue = [2, 0]'),\n",
              " Text(0.08152543379688604, 0.6704545454545454, 'gini = 0.0\\nsamples = 6\\nvalue = [6, 0]'),\n",
              " Text(0.08279266851911743, 0.6931818181818182, 'x[3] <= 1.5\\ngini = 0.219\\nsamples = 8\\nvalue = [1, 7]'),\n",
              " Text(0.0823702569450403, 0.6704545454545454, 'gini = 0.0\\nsamples = 6\\nvalue = [0, 6]'),\n",
              " Text(0.08321508009319456, 0.6704545454545454, 'x[0] <= 14111.0\\ngini = 0.5\\nsamples = 2\\nvalue = [1, 1]'),\n",
              " Text(0.08279266851911743, 0.6477272727272727, 'gini = 0.0\\nsamples = 1\\nvalue = [0, 1]'),\n",
              " Text(0.08363749166727168, 0.6477272727272727, 'gini = 0.0\\nsamples = 1\\nvalue = [1, 0]'),\n",
              " Text(0.08405990324134881, 0.7159090909090909, 'x[5] <= 46.0\\ngini = 0.219\\nsamples = 8\\nvalue = [7, 1]'),\n",
              " Text(0.08363749166727168, 0.6931818181818182, 'gini = 0.0\\nsamples = 7\\nvalue = [7, 0]'),\n",
              " Text(0.08448231481542594, 0.6931818181818182, 'gini = 0.0\\nsamples = 1\\nvalue = [0, 1]'),\n",
              " Text(0.08384869745431024, 0.7386363636363636, 'gini = 0.0\\nsamples = 8\\nvalue = [0, 8]'),\n",
              " Text(0.08574954953765733, 0.7613636363636364, 'x[5] <= 52.5\\ngini = 0.355\\nsamples = 13\\nvalue = [10, 3]'),\n",
              " Text(0.0853271379635802, 0.7386363636363636, 'x[15] <= -11.5\\ngini = 0.165\\nsamples = 11\\nvalue = [10, 1]'),\n",
              " Text(0.08490472638950307, 0.7159090909090909, 'gini = 0.0\\nsamples = 1\\nvalue = [0, 1]'),\n",
              " Text(0.08574954953765733, 0.7159090909090909, 'gini = 0.0\\nsamples = 10\\nvalue = [10, 0]'),\n",
              " Text(0.08617196111173446, 0.7386363636363636, 'gini = 0.0\\nsamples = 2\\nvalue = [0, 2]'),\n",
              " Text(0.09359056438146406, 0.7840909090909091, 'x[23] <= 0.5\\ngini = 0.454\\nsamples = 86\\nvalue = [56, 30]'),\n",
              " Text(0.09316815280738693, 0.7613636363636364, 'x[18] <= 519.0\\ngini = 0.444\\nsamples = 84\\nvalue = [56, 28]'),\n",
              " Text(0.09124090000066001, 0.7386363636363636, 'x[6] <= -1.5\\ngini = 0.471\\nsamples = 71\\nvalue = [44, 27]'),\n",
              " Text(0.08928724647055329, 0.7159090909090909, 'x[0] <= 27563.5\\ngini = 0.499\\nsamples = 42\\nvalue = [22, 20]'),\n",
              " Text(0.08812561464184118, 0.6931818181818182, 'x[1] <= 425000.0\\ngini = 0.493\\nsamples = 34\\nvalue = [15, 19]'),\n",
              " Text(0.08706958570664836, 0.6704545454545454, 'x[5] <= 30.5\\ngini = 0.459\\nsamples = 28\\nvalue = [10, 18]'),\n",
              " Text(0.08622476255849411, 0.6477272727272727, 'x[2] <= 1.5\\ngini = 0.469\\nsamples = 8\\nvalue = [5, 3]'),\n",
              " Text(0.08580235098441698, 0.625, 'gini = 0.0\\nsamples = 3\\nvalue = [3, 0]'),\n",
              " Text(0.08664717413257124, 0.625, 'x[19] <= 234.0\\ngini = 0.48\\nsamples = 5\\nvalue = [2, 3]'),\n",
              " Text(0.08622476255849411, 0.6022727272727273, 'x[5] <= 29.5\\ngini = 0.375\\nsamples = 4\\nvalue = [1, 3]'),\n",
              " Text(0.08580235098441698, 0.5795454545454546, 'gini = 0.0\\nsamples = 3\\nvalue = [0, 3]'),\n",
              " Text(0.08664717413257124, 0.5795454545454546, 'gini = 0.0\\nsamples = 1\\nvalue = [1, 0]'),\n",
              " Text(0.08706958570664836, 0.6022727272727273, 'gini = 0.0\\nsamples = 1\\nvalue = [1, 0]'),\n",
              " Text(0.08791440885480262, 0.6477272727272727, 'x[16] <= -2.5\\ngini = 0.375\\nsamples = 20\\nvalue = [5, 15]'),\n",
              " Text(0.08749199728072549, 0.625, 'gini = 0.0\\nsamples = 2\\nvalue = [2, 0]'),\n",
              " Text(0.08833682042887975, 0.625, 'x[3] <= 1.5\\ngini = 0.278\\nsamples = 18\\nvalue = [3, 15]'),\n",
              " Text(0.08791440885480262, 0.6022727272727273, 'gini = 0.0\\nsamples = 9\\nvalue = [0, 9]'),\n",
              " Text(0.08875923200295688, 0.6022727272727273, 'x[4] <= 1.5\\ngini = 0.444\\nsamples = 9\\nvalue = [3, 6]'),\n",
              " Text(0.08833682042887975, 0.5795454545454546, 'x[0] <= 25508.0\\ngini = 0.5\\nsamples = 6\\nvalue = [3, 3]'),\n",
              " Text(0.08791440885480262, 0.5568181818181818, 'gini = 0.0\\nsamples = 3\\nvalue = [3, 0]'),\n",
              " Text(0.08875923200295688, 0.5568181818181818, 'gini = 0.0\\nsamples = 3\\nvalue = [0, 3]'),\n",
              " Text(0.08918164357703401, 0.5795454545454546, 'gini = 0.0\\nsamples = 3\\nvalue = [0, 3]'),\n",
              " Text(0.08918164357703401, 0.6704545454545454, 'x[5] <= 51.0\\ngini = 0.278\\nsamples = 6\\nvalue = [5, 1]'),\n",
              " Text(0.08875923200295688, 0.6477272727272727, 'gini = 0.0\\nsamples = 5\\nvalue = [5, 0]'),\n",
              " Text(0.08960405515111114, 0.6477272727272727, 'gini = 0.0\\nsamples = 1\\nvalue = [0, 1]'),\n",
              " Text(0.0904488782992654, 0.6931818181818182, 'x[5] <= 66.0\\ngini = 0.219\\nsamples = 8\\nvalue = [7, 1]'),\n",
              " Text(0.09002646672518827, 0.6704545454545454, 'gini = 0.0\\nsamples = 7\\nvalue = [7, 0]'),\n",
              " Text(0.09087128987334253, 0.6704545454545454, 'gini = 0.0\\nsamples = 1\\nvalue = [0, 1]'),\n",
              " Text(0.09319455353076675, 0.7159090909090909, 'x[1] <= 345000.0\\ngini = 0.366\\nsamples = 29\\nvalue = [22, 7]'),\n",
              " Text(0.09213852459557392, 0.6931818181818182, 'x[5] <= 42.5\\ngini = 0.375\\nsamples = 4\\nvalue = [1, 3]'),\n",
              " Text(0.09171611302149679, 0.6704545454545454, 'gini = 0.0\\nsamples = 3\\nvalue = [0, 3]'),\n",
              " Text(0.09256093616965105, 0.6704545454545454, 'gini = 0.0\\nsamples = 1\\nvalue = [1, 0]'),\n",
              " Text(0.09425058246595956, 0.6931818181818182, 'x[5] <= 46.5\\ngini = 0.269\\nsamples = 25\\nvalue = [21, 4]'),\n",
              " Text(0.09340575931780531, 0.6704545454545454, 'x[11] <= -0.5\\ngini = 0.165\\nsamples = 22\\nvalue = [20, 2]'),\n",
              " Text(0.09298334774372818, 0.6477272727272727, 'x[0] <= 28863.0\\ngini = 0.091\\nsamples = 21\\nvalue = [20, 1]'),\n",
              " Text(0.09256093616965105, 0.625, 'gini = 0.0\\nsamples = 19\\nvalue = [19, 0]'),\n",
              " Text(0.09340575931780531, 0.625, 'x[4] <= 1.5\\ngini = 0.5\\nsamples = 2\\nvalue = [1, 1]'),\n",
              " Text(0.09298334774372818, 0.6022727272727273, 'gini = 0.0\\nsamples = 1\\nvalue = [1, 0]'),\n",
              " Text(0.09382817089188243, 0.6022727272727273, 'gini = 0.0\\nsamples = 1\\nvalue = [0, 1]'),\n",
              " Text(0.09382817089188243, 0.6477272727272727, 'gini = 0.0\\nsamples = 1\\nvalue = [0, 1]'),\n",
              " Text(0.09509540561411382, 0.6704545454545454, 'x[0] <= 21195.0\\ngini = 0.444\\nsamples = 3\\nvalue = [1, 2]'),\n",
              " Text(0.09467299404003669, 0.6477272727272727, 'gini = 0.0\\nsamples = 1\\nvalue = [1, 0]'),\n",
              " Text(0.09551781718819095, 0.6477272727272727, 'gini = 0.0\\nsamples = 2\\nvalue = [0, 2]'),\n",
              " Text(0.09509540561411382, 0.7386363636363636, 'x[0] <= 26541.0\\ngini = 0.142\\nsamples = 13\\nvalue = [12, 1]'),\n",
              " Text(0.09467299404003669, 0.7159090909090909, 'gini = 0.0\\nsamples = 11\\nvalue = [11, 0]'),\n",
              " Text(0.09551781718819095, 0.7159090909090909, 'x[18] <= 7926.0\\ngini = 0.5\\nsamples = 2\\nvalue = [1, 1]'),\n",
              " Text(0.09509540561411382, 0.6931818181818182, 'gini = 0.0\\nsamples = 1\\nvalue = [1, 0]'),\n",
              " Text(0.09594022876226808, 0.6931818181818182, 'gini = 0.0\\nsamples = 1\\nvalue = [0, 1]'),\n",
              " Text(0.09401297595554119, 0.7613636363636364, 'gini = 0.0\\nsamples = 2\\nvalue = [0, 2]'),\n",
              " Text(0.10200579495878187, 0.8295454545454546, 'x[12] <= 350.5\\ngini = 0.304\\nsamples = 300\\nvalue = [244, 56]'),\n",
              " Text(0.09988713690755127, 0.8068181818181818, 'x[23] <= 7398.5\\ngini = 0.269\\nsamples = 268\\nvalue = [225, 43]'),\n",
              " Text(0.09902911339770709, 0.7840909090909091, 'x[5] <= 59.0\\ngini = 0.307\\nsamples = 222\\nvalue = [180, 42]'),\n",
              " Text(0.09860670182362996, 0.7613636363636364, 'x[13] <= -694.0\\ngini = 0.298\\nsamples = 220\\nvalue = [180, 40]'),\n",
              " Text(0.09731306637801876, 0.7386363636363636, 'x[16] <= 3352.0\\ngini = 0.375\\nsamples = 4\\nvalue = [1, 3]'),\n",
              " Text(0.09689065480394163, 0.7159090909090909, 'gini = 0.0\\nsamples = 3\\nvalue = [0, 3]'),\n",
              " Text(0.09773547795209589, 0.7159090909090909, 'gini = 0.0\\nsamples = 1\\nvalue = [1, 0]'),\n",
              " Text(0.09990033726924118, 0.7386363636363636, 'x[16] <= 50028.5\\ngini = 0.284\\nsamples = 216\\nvalue = [179, 37]'),\n",
              " Text(0.09858030110025015, 0.7159090909090909, 'x[21] <= 705.0\\ngini = 0.27\\nsamples = 211\\nvalue = [177, 34]'),\n",
              " Text(0.09720746348449948, 0.6931818181818182, 'x[21] <= 688.0\\ngini = 0.336\\nsamples = 145\\nvalue = [114, 31]'),\n",
              " Text(0.09678505191042235, 0.6704545454545454, 'x[12] <= 73.0\\ngini = 0.323\\nsamples = 143\\nvalue = [114, 29]'),\n",
              " Text(0.09636264033634521, 0.6477272727272727, 'x[12] <= 6.0\\ngini = 0.354\\nsamples = 126\\nvalue = [97, 29]'),\n",
              " Text(0.09594022876226808, 0.625, 'x[12] <= -2.0\\ngini = 0.341\\nsamples = 124\\nvalue = [97, 27]'),\n",
              " Text(0.09551781718819095, 0.6022727272727273, 'gini = 0.0\\nsamples = 14\\nvalue = [14, 0]'),\n",
              " Text(0.09636264033634521, 0.6022727272727273, 'x[1] <= 370000.0\\ngini = 0.37\\nsamples = 110\\nvalue = [83, 27]'),\n",
              " Text(0.09594022876226808, 0.5795454545454546, 'x[1] <= 70000.0\\ngini = 0.397\\nsamples = 99\\nvalue = [72, 27]'),\n",
              " Text(0.09509540561411382, 0.5568181818181818, 'x[23] <= 4175.5\\ngini = 0.124\\nsamples = 15\\nvalue = [14, 1]'),\n",
              " Text(0.09467299404003669, 0.5340909090909091, 'gini = 0.0\\nsamples = 14\\nvalue = [14, 0]'),\n",
              " Text(0.09551781718819095, 0.5340909090909091, 'gini = 0.0\\nsamples = 1\\nvalue = [0, 1]'),\n",
              " Text(0.09678505191042235, 0.5568181818181818, 'x[15] <= 367.0\\ngini = 0.427\\nsamples = 84\\nvalue = [58, 26]'),\n",
              " Text(0.09636264033634521, 0.5340909090909091, 'x[23] <= 6595.5\\ngini = 0.421\\nsamples = 83\\nvalue = [58, 25]'),\n",
              " Text(0.09594022876226808, 0.5113636363636364, 'x[22] <= 1135.0\\ngini = 0.414\\nsamples = 82\\nvalue = [58, 24]'),\n",
              " Text(0.09388097233864208, 0.48863636363636365, 'x[22] <= 180.0\\ngini = 0.444\\nsamples = 69\\nvalue = [46, 23]'),\n",
              " Text(0.09102969421362145, 0.4659090909090909, 'x[4] <= 1.5\\ngini = 0.393\\nsamples = 52\\nvalue = [38, 14]'),\n",
              " Text(0.08912884213027437, 0.4431818181818182, 'x[5] <= 40.5\\ngini = 0.466\\nsamples = 27\\nvalue = [17, 10]'),\n",
              " Text(0.08786160740804298, 0.42045454545454547, 'x[1] <= 225000.0\\ngini = 0.5\\nsamples = 16\\nvalue = [8, 8]'),\n",
              " Text(0.08743919583396585, 0.3977272727272727, 'x[0] <= 17931.0\\ngini = 0.473\\nsamples = 13\\nvalue = [8, 5]'),\n",
              " Text(0.08617196111173446, 0.375, 'x[5] <= 37.5\\ngini = 0.245\\nsamples = 7\\nvalue = [6, 1]'),\n",
              " Text(0.08574954953765733, 0.3522727272727273, 'gini = 0.0\\nsamples = 5\\nvalue = [5, 0]'),\n",
              " Text(0.08659437268581159, 0.3522727272727273, 'x[11] <= -1.5\\ngini = 0.5\\nsamples = 2\\nvalue = [1, 1]'),\n",
              " Text(0.08617196111173446, 0.32954545454545453, 'gini = 0.0\\nsamples = 1\\nvalue = [1, 0]'),\n",
              " Text(0.08701678425988872, 0.32954545454545453, 'gini = 0.0\\nsamples = 1\\nvalue = [0, 1]'),\n",
              " Text(0.08870643055619724, 0.375, 'x[1] <= 175000.0\\ngini = 0.444\\nsamples = 6\\nvalue = [2, 4]'),\n",
              " Text(0.08828401898212011, 0.3522727272727273, 'x[5] <= 34.0\\ngini = 0.444\\nsamples = 3\\nvalue = [2, 1]'),\n",
              " Text(0.08786160740804298, 0.32954545454545453, 'gini = 0.0\\nsamples = 2\\nvalue = [2, 0]'),\n",
              " Text(0.08870643055619724, 0.32954545454545453, 'gini = 0.0\\nsamples = 1\\nvalue = [0, 1]'),\n",
              " Text(0.08912884213027437, 0.3522727272727273, 'gini = 0.0\\nsamples = 3\\nvalue = [0, 3]'),\n",
              " Text(0.08828401898212011, 0.3977272727272727, 'gini = 0.0\\nsamples = 3\\nvalue = [0, 3]'),\n",
              " Text(0.09039607685250575, 0.42045454545454547, 'x[6] <= -0.5\\ngini = 0.298\\nsamples = 11\\nvalue = [9, 2]'),\n",
              " Text(0.08997366527842864, 0.3977272727272727, 'x[18] <= 440.0\\ngini = 0.444\\nsamples = 3\\nvalue = [1, 2]'),\n",
              " Text(0.0895512537043515, 0.375, 'gini = 0.0\\nsamples = 2\\nvalue = [0, 2]'),\n",
              " Text(0.09039607685250575, 0.375, 'gini = 0.0\\nsamples = 1\\nvalue = [1, 0]'),\n",
              " Text(0.09081848842658288, 0.3977272727272727, 'gini = 0.0\\nsamples = 8\\nvalue = [8, 0]'),\n",
              " Text(0.09293054629696854, 0.4431818181818182, 'x[1] <= 125000.0\\ngini = 0.269\\nsamples = 25\\nvalue = [21, 4]'),\n",
              " Text(0.09208572314881427, 0.42045454545454547, 'x[3] <= 1.5\\ngini = 0.5\\nsamples = 4\\nvalue = [2, 2]'),\n",
              " Text(0.09166331157473714, 0.3977272727272727, 'gini = 0.0\\nsamples = 2\\nvalue = [2, 0]'),\n",
              " Text(0.0925081347228914, 0.3977272727272727, 'gini = 0.0\\nsamples = 2\\nvalue = [0, 2]'),\n",
              " Text(0.0937753694451228, 0.42045454545454547, 'x[0] <= 22365.5\\ngini = 0.172\\nsamples = 21\\nvalue = [19, 2]'),\n",
              " Text(0.09335295787104567, 0.3977272727272727, 'gini = 0.0\\nsamples = 14\\nvalue = [14, 0]'),\n",
              " Text(0.09419778101919993, 0.3977272727272727, 'x[5] <= 30.5\\ngini = 0.408\\nsamples = 7\\nvalue = [5, 2]'),\n",
              " Text(0.0937753694451228, 0.375, 'gini = 0.0\\nsamples = 2\\nvalue = [0, 2]'),\n",
              " Text(0.09462019259327706, 0.375, 'gini = 0.0\\nsamples = 5\\nvalue = [5, 0]'),\n",
              " Text(0.09673225046366271, 0.4659090909090909, 'x[1] <= 165000.0\\ngini = 0.498\\nsamples = 17\\nvalue = [8, 9]'),\n",
              " Text(0.09588742731550845, 0.4431818181818182, 'x[4] <= 1.5\\ngini = 0.375\\nsamples = 8\\nvalue = [6, 2]'),\n",
              " Text(0.09546501574143132, 0.42045454545454547, 'x[23] <= 497.5\\ngini = 0.444\\nsamples = 3\\nvalue = [1, 2]'),\n",
              " Text(0.09504260416735419, 0.3977272727272727, 'gini = 0.0\\nsamples = 1\\nvalue = [1, 0]'),\n",
              " Text(0.09588742731550845, 0.3977272727272727, 'gini = 0.0\\nsamples = 2\\nvalue = [0, 2]'),\n",
              " Text(0.09630983888958558, 0.42045454545454547, 'gini = 0.0\\nsamples = 5\\nvalue = [5, 0]'),\n",
              " Text(0.09757707361181696, 0.4431818181818182, 'x[22] <= 547.0\\ngini = 0.346\\nsamples = 9\\nvalue = [2, 7]'),\n",
              " Text(0.09715466203773983, 0.42045454545454547, 'gini = 0.0\\nsamples = 6\\nvalue = [0, 6]'),\n",
              " Text(0.09799948518589409, 0.42045454545454547, 'x[11] <= -0.5\\ngini = 0.444\\nsamples = 3\\nvalue = [2, 1]'),\n",
              " Text(0.09757707361181696, 0.3977272727272727, 'gini = 0.0\\nsamples = 2\\nvalue = [2, 0]'),\n",
              " Text(0.09842189675997122, 0.3977272727272727, 'gini = 0.0\\nsamples = 1\\nvalue = [0, 1]'),\n",
              " Text(0.09799948518589409, 0.48863636363636365, 'x[9] <= -0.5\\ngini = 0.142\\nsamples = 13\\nvalue = [12, 1]'),\n",
              " Text(0.09757707361181696, 0.4659090909090909, 'gini = 0.0\\nsamples = 12\\nvalue = [12, 0]'),\n",
              " Text(0.09842189675997122, 0.4659090909090909, 'gini = 0.0\\nsamples = 1\\nvalue = [0, 1]'),\n",
              " Text(0.09678505191042235, 0.5113636363636364, 'gini = 0.0\\nsamples = 1\\nvalue = [0, 1]'),\n",
              " Text(0.09720746348449948, 0.5340909090909091, 'gini = 0.0\\nsamples = 1\\nvalue = [0, 1]'),\n",
              " Text(0.09678505191042235, 0.5795454545454546, 'gini = 0.0\\nsamples = 11\\nvalue = [11, 0]'),\n",
              " Text(0.09678505191042235, 0.625, 'gini = 0.0\\nsamples = 2\\nvalue = [0, 2]'),\n",
              " Text(0.09720746348449948, 0.6477272727272727, 'gini = 0.0\\nsamples = 17\\nvalue = [17, 0]'),\n",
              " Text(0.0976298750585766, 0.6704545454545454, 'gini = 0.0\\nsamples = 2\\nvalue = [0, 2]'),\n",
              " Text(0.09995313871600083, 0.6931818181818182, 'x[19] <= 6664.5\\ngini = 0.087\\nsamples = 66\\nvalue = [63, 3]'),\n",
              " Text(0.098897109780808, 0.6704545454545454, 'x[5] <= 25.5\\ngini = 0.061\\nsamples = 64\\nvalue = [62, 2]'),\n",
              " Text(0.09805228663265374, 0.6477272727272727, 'x[23] <= 613.5\\ngini = 0.32\\nsamples = 5\\nvalue = [4, 1]'),\n",
              " Text(0.0976298750585766, 0.625, 'gini = 0.0\\nsamples = 1\\nvalue = [0, 1]'),\n",
              " Text(0.09847469820673087, 0.625, 'gini = 0.0\\nsamples = 4\\nvalue = [4, 0]'),\n",
              " Text(0.09974193292896226, 0.6477272727272727, 'x[22] <= 3635.0\\ngini = 0.033\\nsamples = 59\\nvalue = [58, 1]'),\n",
              " Text(0.09931952135488513, 0.625, 'gini = 0.0\\nsamples = 46\\nvalue = [46, 0]'),\n",
              " Text(0.10016434450303938, 0.625, 'x[22] <= 4190.0\\ngini = 0.142\\nsamples = 13\\nvalue = [12, 1]'),\n",
              " Text(0.09974193292896226, 0.6022727272727273, 'gini = 0.0\\nsamples = 1\\nvalue = [0, 1]'),\n",
              " Text(0.10058675607711651, 0.6022727272727273, 'gini = 0.0\\nsamples = 12\\nvalue = [12, 0]'),\n",
              " Text(0.10100916765119364, 0.6704545454545454, 'x[3] <= 1.5\\ngini = 0.5\\nsamples = 2\\nvalue = [1, 1]'),\n",
              " Text(0.10058675607711651, 0.6477272727272727, 'gini = 0.0\\nsamples = 1\\nvalue = [1, 0]'),\n",
              " Text(0.10143157922527077, 0.6477272727272727, 'gini = 0.0\\nsamples = 1\\nvalue = [0, 1]'),\n",
              " Text(0.1012203734382322, 0.7159090909090909, 'x[4] <= 1.5\\ngini = 0.48\\nsamples = 5\\nvalue = [2, 3]'),\n",
              " Text(0.10079796186415507, 0.6931818181818182, 'gini = 0.0\\nsamples = 3\\nvalue = [0, 3]'),\n",
              " Text(0.10164278501230933, 0.6931818181818182, 'gini = 0.0\\nsamples = 2\\nvalue = [2, 0]'),\n",
              " Text(0.09945152497178422, 0.7613636363636364, 'gini = 0.0\\nsamples = 2\\nvalue = [0, 2]'),\n",
              " Text(0.10074516041739544, 0.7840909090909091, 'x[1] <= 490000.0\\ngini = 0.043\\nsamples = 46\\nvalue = [45, 1]'),\n",
              " Text(0.10032274884331831, 0.7613636363636364, 'gini = 0.0\\nsamples = 39\\nvalue = [39, 0]'),\n",
              " Text(0.10116757199147257, 0.7613636363636364, 'x[0] <= 5746.5\\ngini = 0.245\\nsamples = 7\\nvalue = [6, 1]'),\n",
              " Text(0.10074516041739544, 0.7386363636363636, 'gini = 0.0\\nsamples = 1\\nvalue = [0, 1]'),\n",
              " Text(0.1015899835655497, 0.7386363636363636, 'gini = 0.0\\nsamples = 6\\nvalue = [6, 0]'),\n",
              " Text(0.10412445301001247, 0.8068181818181818, 'x[5] <= 37.5\\ngini = 0.482\\nsamples = 32\\nvalue = [19, 13]'),\n",
              " Text(0.10327962986185822, 0.7840909090909091, 'x[14] <= 1830.0\\ngini = 0.475\\nsamples = 18\\nvalue = [7, 11]'),\n",
              " Text(0.10285721828778109, 0.7613636363636364, 'x[23] <= 375.0\\ngini = 0.337\\nsamples = 14\\nvalue = [3, 11]'),\n",
              " Text(0.10243480671370396, 0.7386363636363636, 'gini = 0.0\\nsamples = 2\\nvalue = [2, 0]'),\n",
              " Text(0.10327962986185822, 0.7386363636363636, 'x[12] <= 446.5\\ngini = 0.153\\nsamples = 12\\nvalue = [1, 11]'),\n",
              " Text(0.10285721828778109, 0.7159090909090909, 'gini = 0.0\\nsamples = 9\\nvalue = [0, 9]'),\n",
              " Text(0.10370204143593534, 0.7159090909090909, 'x[17] <= 1349.5\\ngini = 0.444\\nsamples = 3\\nvalue = [1, 2]'),\n",
              " Text(0.10327962986185822, 0.6931818181818182, 'gini = 0.0\\nsamples = 1\\nvalue = [1, 0]'),\n",
              " Text(0.10412445301001247, 0.6931818181818182, 'gini = 0.0\\nsamples = 2\\nvalue = [0, 2]'),\n",
              " Text(0.10370204143593534, 0.7613636363636364, 'gini = 0.0\\nsamples = 4\\nvalue = [4, 0]'),\n",
              " Text(0.10496927615816673, 0.7840909090909091, 'x[0] <= 4399.0\\ngini = 0.245\\nsamples = 14\\nvalue = [12, 2]'),\n",
              " Text(0.1045468645840896, 0.7613636363636364, 'x[18] <= 190.5\\ngini = 0.444\\nsamples = 3\\nvalue = [1, 2]'),\n",
              " Text(0.10412445301001247, 0.7386363636363636, 'gini = 0.0\\nsamples = 1\\nvalue = [1, 0]'),\n",
              " Text(0.10496927615816673, 0.7386363636363636, 'gini = 0.0\\nsamples = 2\\nvalue = [0, 2]'),\n",
              " Text(0.10539168773224386, 0.7613636363636364, 'gini = 0.0\\nsamples = 11\\nvalue = [11, 0]'),\n",
              " Text(0.11098864108876583, 0.8522727272727273, 'x[1] <= 320000.0\\ngini = 0.5\\nsamples = 92\\nvalue = [47, 45]'),\n",
              " Text(0.1105662295146887, 0.8295454545454546, 'x[1] <= 145000.0\\ngini = 0.496\\nsamples = 86\\nvalue = [47, 39]'),\n",
              " Text(0.10792615717670664, 0.8068181818181818, 'x[13] <= 324.0\\ngini = 0.487\\nsamples = 43\\nvalue = [18, 25]'),\n",
              " Text(0.10665892245447525, 0.7840909090909091, 'x[17] <= 52850.5\\ngini = 0.26\\nsamples = 13\\nvalue = [2, 11]'),\n",
              " Text(0.10623651088039812, 0.7613636363636364, 'x[0] <= 2789.5\\ngini = 0.153\\nsamples = 12\\nvalue = [1, 11]'),\n",
              " Text(0.10581409930632099, 0.7386363636363636, 'x[1] <= 115000.0\\ngini = 0.5\\nsamples = 2\\nvalue = [1, 1]'),\n",
              " Text(0.10539168773224386, 0.7159090909090909, 'gini = 0.0\\nsamples = 1\\nvalue = [0, 1]'),\n",
              " Text(0.10623651088039812, 0.7159090909090909, 'gini = 0.0\\nsamples = 1\\nvalue = [1, 0]'),\n",
              " Text(0.10665892245447525, 0.7386363636363636, 'gini = 0.0\\nsamples = 10\\nvalue = [0, 10]'),\n",
              " Text(0.10708133402855238, 0.7613636363636364, 'gini = 0.0\\nsamples = 1\\nvalue = [1, 0]'),\n",
              " Text(0.10919339189893804, 0.7840909090909091, 'x[19] <= 3650.0\\ngini = 0.498\\nsamples = 30\\nvalue = [16, 14]'),\n",
              " Text(0.1087709803248609, 0.7613636363636364, 'x[19] <= 1600.5\\ngini = 0.486\\nsamples = 24\\nvalue = [10, 14]'),\n",
              " Text(0.10834856875078377, 0.7386363636363636, 'x[18] <= 982.0\\ngini = 0.499\\nsamples = 19\\nvalue = [10, 9]'),\n",
              " Text(0.10708133402855238, 0.7159090909090909, 'x[2] <= 1.5\\ngini = 0.346\\nsamples = 9\\nvalue = [7, 2]'),\n",
              " Text(0.10665892245447525, 0.6931818181818182, 'gini = 0.0\\nsamples = 6\\nvalue = [6, 0]'),\n",
              " Text(0.10750374560262951, 0.6931818181818182, 'x[23] <= 195.0\\ngini = 0.444\\nsamples = 3\\nvalue = [1, 2]'),\n",
              " Text(0.10708133402855238, 0.6704545454545454, 'gini = 0.0\\nsamples = 1\\nvalue = [1, 0]'),\n",
              " Text(0.10792615717670664, 0.6704545454545454, 'gini = 0.0\\nsamples = 2\\nvalue = [0, 2]'),\n",
              " Text(0.10961580347301517, 0.7159090909090909, 'x[19] <= 1066.5\\ngini = 0.42\\nsamples = 10\\nvalue = [3, 7]'),\n",
              " Text(0.10919339189893804, 0.6931818181818182, 'x[18] <= 44738.0\\ngini = 0.219\\nsamples = 8\\nvalue = [1, 7]'),\n",
              " Text(0.1087709803248609, 0.6704545454545454, 'gini = 0.0\\nsamples = 7\\nvalue = [0, 7]'),\n",
              " Text(0.10961580347301517, 0.6704545454545454, 'gini = 0.0\\nsamples = 1\\nvalue = [1, 0]'),\n",
              " Text(0.1100382150470923, 0.6931818181818182, 'gini = 0.0\\nsamples = 2\\nvalue = [2, 0]'),\n",
              " Text(0.10919339189893804, 0.7386363636363636, 'gini = 0.0\\nsamples = 5\\nvalue = [0, 5]'),\n",
              " Text(0.10961580347301517, 0.7613636363636364, 'gini = 0.0\\nsamples = 6\\nvalue = [6, 0]'),\n",
              " Text(0.11320630185267076, 0.8068181818181818, 'x[14] <= 5398.0\\ngini = 0.439\\nsamples = 43\\nvalue = [29, 14]'),\n",
              " Text(0.1123614787045165, 0.7840909090909091, 'x[14] <= 4196.0\\ngini = 0.495\\nsamples = 29\\nvalue = [16, 13]'),\n",
              " Text(0.11193906713043937, 0.7613636363636364, 'x[15] <= 775.0\\ngini = 0.461\\nsamples = 25\\nvalue = [16, 9]'),\n",
              " Text(0.11088303819524654, 0.7386363636363636, 'x[0] <= 14715.5\\ngini = 0.444\\nsamples = 6\\nvalue = [2, 4]'),\n",
              " Text(0.11046062662116941, 0.7159090909090909, 'gini = 0.0\\nsamples = 4\\nvalue = [0, 4]'),\n",
              " Text(0.11130544976932367, 0.7159090909090909, 'gini = 0.0\\nsamples = 2\\nvalue = [2, 0]'),\n",
              " Text(0.1129950960656322, 0.7386363636363636, 'x[7] <= -1.5\\ngini = 0.388\\nsamples = 19\\nvalue = [14, 5]'),\n",
              " Text(0.11215027291747794, 0.7159090909090909, 'x[19] <= 3560.5\\ngini = 0.444\\nsamples = 6\\nvalue = [2, 4]'),\n",
              " Text(0.1117278613434008, 0.6931818181818182, 'gini = 0.0\\nsamples = 4\\nvalue = [0, 4]'),\n",
              " Text(0.11257268449155507, 0.6931818181818182, 'gini = 0.0\\nsamples = 2\\nvalue = [2, 0]'),\n",
              " Text(0.11383991921378646, 0.7159090909090909, 'x[22] <= 1830.5\\ngini = 0.142\\nsamples = 13\\nvalue = [12, 1]'),\n",
              " Text(0.11341750763970933, 0.6931818181818182, 'gini = 0.0\\nsamples = 12\\nvalue = [12, 0]'),\n",
              " Text(0.11426233078786359, 0.6931818181818182, 'gini = 0.0\\nsamples = 1\\nvalue = [0, 1]'),\n",
              " Text(0.11278389027859363, 0.7613636363636364, 'gini = 0.0\\nsamples = 4\\nvalue = [0, 4]'),\n",
              " Text(0.11405112500082502, 0.7840909090909091, 'x[0] <= 931.0\\ngini = 0.133\\nsamples = 14\\nvalue = [13, 1]'),\n",
              " Text(0.1136287134267479, 0.7613636363636364, 'gini = 0.0\\nsamples = 1\\nvalue = [0, 1]'),\n",
              " Text(0.11447353657490215, 0.7613636363636364, 'gini = 0.0\\nsamples = 13\\nvalue = [13, 0]'),\n",
              " Text(0.11141105266284296, 0.8295454545454546, 'gini = 0.0\\nsamples = 6\\nvalue = [0, 6]'),\n",
              " Text(0.1296110513428068, 0.875, 'x[1] <= 115000.0\\ngini = 0.326\\nsamples = 555\\nvalue = [441, 114]'),\n",
              " Text(0.12070410729253982, 0.8522727272727273, 'x[19] <= 398.0\\ngini = 0.441\\nsamples = 143\\nvalue = [96, 47]'),\n",
              " Text(0.11806403495455775, 0.8295454545454546, 'x[14] <= 39.0\\ngini = 0.487\\nsamples = 100\\nvalue = [58, 42]'),\n",
              " Text(0.11616318287121068, 0.8068181818181818, 'x[0] <= 26832.0\\ngini = 0.337\\nsamples = 28\\nvalue = [22, 6]'),\n",
              " Text(0.11574077129713355, 0.7840909090909091, 'x[20] <= 41.5\\ngini = 0.26\\nsamples = 26\\nvalue = [22, 4]'),\n",
              " Text(0.11531835972305642, 0.7613636363636364, 'gini = 0.0\\nsamples = 1\\nvalue = [0, 1]'),\n",
              " Text(0.11616318287121068, 0.7613636363636364, 'x[0] <= 1999.0\\ngini = 0.211\\nsamples = 25\\nvalue = [22, 3]'),\n",
              " Text(0.11574077129713355, 0.7386363636363636, 'gini = 0.0\\nsamples = 1\\nvalue = [0, 1]'),\n",
              " Text(0.11658559444528781, 0.7386363636363636, 'x[22] <= 1867.0\\ngini = 0.153\\nsamples = 24\\nvalue = [22, 2]'),\n",
              " Text(0.11574077129713355, 0.7159090909090909, 'x[5] <= 26.5\\ngini = 0.087\\nsamples = 22\\nvalue = [21, 1]'),\n",
              " Text(0.11531835972305642, 0.6931818181818182, 'x[15] <= 762.5\\ngini = 0.245\\nsamples = 7\\nvalue = [6, 1]'),\n",
              " Text(0.11489594814897928, 0.6704545454545454, 'gini = 0.0\\nsamples = 5\\nvalue = [5, 0]'),\n",
              " Text(0.11574077129713355, 0.6704545454545454, 'x[5] <= 24.0\\ngini = 0.5\\nsamples = 2\\nvalue = [1, 1]'),\n",
              " Text(0.11531835972305642, 0.6477272727272727, 'gini = 0.0\\nsamples = 1\\nvalue = [1, 0]'),\n",
              " Text(0.11616318287121068, 0.6477272727272727, 'gini = 0.0\\nsamples = 1\\nvalue = [0, 1]'),\n",
              " Text(0.11616318287121068, 0.6931818181818182, 'gini = 0.0\\nsamples = 15\\nvalue = [15, 0]'),\n",
              " Text(0.11743041759344205, 0.7159090909090909, 'x[5] <= 24.5\\ngini = 0.5\\nsamples = 2\\nvalue = [1, 1]'),\n",
              " Text(0.11700800601936492, 0.6931818181818182, 'gini = 0.0\\nsamples = 1\\nvalue = [0, 1]'),\n",
              " Text(0.11785282916751919, 0.6931818181818182, 'gini = 0.0\\nsamples = 1\\nvalue = [1, 0]'),\n",
              " Text(0.11658559444528781, 0.7840909090909091, 'gini = 0.0\\nsamples = 2\\nvalue = [0, 2]'),\n",
              " Text(0.11996488703790484, 0.8068181818181818, 'x[14] <= 329.5\\ngini = 0.5\\nsamples = 72\\nvalue = [36, 36]'),\n",
              " Text(0.11869765231567345, 0.7840909090909091, 'x[12] <= 303.5\\ngini = 0.42\\nsamples = 20\\nvalue = [6, 14]'),\n",
              " Text(0.11827524074159632, 0.7613636363636364, 'x[21] <= 140.0\\ngini = 0.496\\nsamples = 11\\nvalue = [6, 5]'),\n",
              " Text(0.11785282916751919, 0.7386363636363636, 'gini = 0.0\\nsamples = 4\\nvalue = [0, 4]'),\n",
              " Text(0.11869765231567345, 0.7386363636363636, 'x[23] <= 72.0\\ngini = 0.245\\nsamples = 7\\nvalue = [6, 1]'),\n",
              " Text(0.11827524074159632, 0.7159090909090909, 'gini = 0.0\\nsamples = 1\\nvalue = [0, 1]'),\n",
              " Text(0.11912006388975058, 0.7159090909090909, 'gini = 0.0\\nsamples = 6\\nvalue = [6, 0]'),\n",
              " Text(0.11912006388975058, 0.7613636363636364, 'gini = 0.0\\nsamples = 9\\nvalue = [0, 9]'),\n",
              " Text(0.12123212176013623, 0.7840909090909091, 'x[13] <= 1427.0\\ngini = 0.488\\nsamples = 52\\nvalue = [30, 22]'),\n",
              " Text(0.1208097101860591, 0.7613636363636364, 'x[14] <= 393.0\\ngini = 0.499\\nsamples = 46\\nvalue = [24, 22]'),\n",
              " Text(0.12038729861198197, 0.7386363636363636, 'x[21] <= 990.0\\ngini = 0.49\\nsamples = 42\\nvalue = [24, 18]'),\n",
              " Text(0.11996488703790484, 0.7159090909090909, 'x[0] <= 27205.5\\ngini = 0.499\\nsamples = 38\\nvalue = [20, 18]'),\n",
              " Text(0.11954247546382771, 0.6931818181818182, 'x[5] <= 45.5\\ngini = 0.484\\nsamples = 34\\nvalue = [20, 14]'),\n",
              " Text(0.11848644652863488, 0.6704545454545454, 'x[0] <= 17747.5\\ngini = 0.413\\nsamples = 24\\nvalue = [17, 7]'),\n",
              " Text(0.11806403495455775, 0.6477272727272727, 'x[5] <= 24.5\\ngini = 0.498\\nsamples = 15\\nvalue = [8, 7]'),\n",
              " Text(0.11721921180640349, 0.625, 'x[19] <= 195.0\\ngini = 0.278\\nsamples = 6\\nvalue = [5, 1]'),\n",
              " Text(0.11679680023232637, 0.6022727272727273, 'gini = 0.0\\nsamples = 1\\nvalue = [0, 1]'),\n",
              " Text(0.11764162338048062, 0.6022727272727273, 'gini = 0.0\\nsamples = 5\\nvalue = [5, 0]'),\n",
              " Text(0.11890885810271201, 0.625, 'x[5] <= 41.0\\ngini = 0.444\\nsamples = 9\\nvalue = [3, 6]'),\n",
              " Text(0.11848644652863488, 0.6022727272727273, 'x[21] <= 660.0\\ngini = 0.245\\nsamples = 7\\nvalue = [1, 6]'),\n",
              " Text(0.11806403495455775, 0.5795454545454546, 'gini = 0.0\\nsamples = 6\\nvalue = [0, 6]'),\n",
              " Text(0.11890885810271201, 0.5795454545454546, 'gini = 0.0\\nsamples = 1\\nvalue = [1, 0]'),\n",
              " Text(0.11933126967678914, 0.6022727272727273, 'gini = 0.0\\nsamples = 2\\nvalue = [2, 0]'),\n",
              " Text(0.11890885810271201, 0.6477272727272727, 'gini = 0.0\\nsamples = 9\\nvalue = [9, 0]'),\n",
              " Text(0.12059850439902053, 0.6704545454545454, 'x[1] <= 55000.0\\ngini = 0.42\\nsamples = 10\\nvalue = [3, 7]'),\n",
              " Text(0.1201760928249434, 0.6477272727272727, 'x[0] <= 8767.0\\ngini = 0.375\\nsamples = 4\\nvalue = [3, 1]'),\n",
              " Text(0.11975368125086627, 0.625, 'gini = 0.0\\nsamples = 1\\nvalue = [0, 1]'),\n",
              " Text(0.12059850439902053, 0.625, 'gini = 0.0\\nsamples = 3\\nvalue = [3, 0]'),\n",
              " Text(0.12102091597309766, 0.6477272727272727, 'gini = 0.0\\nsamples = 6\\nvalue = [0, 6]'),\n",
              " Text(0.12038729861198197, 0.6931818181818182, 'gini = 0.0\\nsamples = 4\\nvalue = [0, 4]'),\n",
              " Text(0.1208097101860591, 0.7159090909090909, 'gini = 0.0\\nsamples = 4\\nvalue = [4, 0]'),\n",
              " Text(0.12123212176013623, 0.7386363636363636, 'gini = 0.0\\nsamples = 4\\nvalue = [0, 4]'),\n",
              " Text(0.12165453333421336, 0.7613636363636364, 'gini = 0.0\\nsamples = 6\\nvalue = [6, 0]'),\n",
              " Text(0.12334417963052188, 0.8295454545454546, 'x[0] <= 3339.5\\ngini = 0.206\\nsamples = 43\\nvalue = [38, 5]'),\n",
              " Text(0.12249935648236762, 0.8068181818181818, 'x[23] <= 0.5\\ngini = 0.48\\nsamples = 5\\nvalue = [2, 3]'),\n",
              " Text(0.12207694490829049, 0.7840909090909091, 'gini = 0.0\\nsamples = 3\\nvalue = [0, 3]'),\n",
              " Text(0.12292176805644475, 0.7840909090909091, 'gini = 0.0\\nsamples = 2\\nvalue = [2, 0]'),\n",
              " Text(0.12418900277867613, 0.8068181818181818, 'x[13] <= -3132.0\\ngini = 0.1\\nsamples = 38\\nvalue = [36, 2]'),\n",
              " Text(0.123766591204599, 0.7840909090909091, 'gini = 0.0\\nsamples = 1\\nvalue = [0, 1]'),\n",
              " Text(0.12461141435275326, 0.7840909090909091, 'x[12] <= 505.0\\ngini = 0.053\\nsamples = 37\\nvalue = [36, 1]'),\n",
              " Text(0.12418900277867613, 0.7613636363636364, 'gini = 0.0\\nsamples = 36\\nvalue = [36, 0]'),\n",
              " Text(0.1250338259268304, 0.7613636363636364, 'gini = 0.0\\nsamples = 1\\nvalue = [0, 1]'),\n",
              " Text(0.13851799539307377, 0.8522727272727273, 'x[5] <= 46.5\\ngini = 0.272\\nsamples = 412\\nvalue = [345, 67]'),\n",
              " Text(0.13383846717400058, 0.8295454545454546, 'x[23] <= 1198.5\\ngini = 0.245\\nsamples = 350\\nvalue = [300, 50]'),\n",
              " Text(0.12933714383774114, 0.8068181818181818, 'x[22] <= 111.0\\ngini = 0.273\\nsamples = 288\\nvalue = [241, 47]'),\n",
              " Text(0.1263010606490618, 0.7840909090909091, 'x[13] <= 1.5\\ngini = 0.12\\nsamples = 78\\nvalue = [73, 5]'),\n",
              " Text(0.12587864907498467, 0.7613636363636364, 'x[20] <= 487.0\\ngini = 0.33\\nsamples = 24\\nvalue = [19, 5]'),\n",
              " Text(0.1250338259268304, 0.7386363636363636, 'x[1] <= 145000.0\\ngini = 0.198\\nsamples = 18\\nvalue = [16, 2]'),\n",
              " Text(0.12461141435275326, 0.7159090909090909, 'x[7] <= -1.5\\ngini = 0.444\\nsamples = 3\\nvalue = [1, 2]'),\n",
              " Text(0.12418900277867613, 0.6931818181818182, 'gini = 0.0\\nsamples = 2\\nvalue = [0, 2]'),\n",
              " Text(0.1250338259268304, 0.6931818181818182, 'gini = 0.0\\nsamples = 1\\nvalue = [1, 0]'),\n",
              " Text(0.12545623750090754, 0.7159090909090909, 'gini = 0.0\\nsamples = 15\\nvalue = [15, 0]'),\n",
              " Text(0.12672347222313893, 0.7386363636363636, 'x[1] <= 260000.0\\ngini = 0.5\\nsamples = 6\\nvalue = [3, 3]'),\n",
              " Text(0.1263010606490618, 0.7159090909090909, 'gini = 0.0\\nsamples = 3\\nvalue = [3, 0]'),\n",
              " Text(0.12714588379721603, 0.7159090909090909, 'gini = 0.0\\nsamples = 3\\nvalue = [0, 3]'),\n",
              " Text(0.12672347222313893, 0.7613636363636364, 'gini = 0.0\\nsamples = 54\\nvalue = [54, 0]'),\n",
              " Text(0.13237322702642051, 0.7840909090909091, 'x[19] <= 493.0\\ngini = 0.32\\nsamples = 210\\nvalue = [168, 42]'),\n",
              " Text(0.12957475034815955, 0.7613636363636364, 'x[9] <= -1.5\\ngini = 0.245\\nsamples = 161\\nvalue = [138, 23]'),\n",
              " Text(0.12915233877408241, 0.7386363636363636, 'gini = 0.0\\nsamples = 36\\nvalue = [36, 0]'),\n",
              " Text(0.12999716192223668, 0.7386363636363636, 'x[23] <= 332.5\\ngini = 0.3\\nsamples = 125\\nvalue = [102, 23]'),\n",
              " Text(0.1279907069453703, 0.7159090909090909, 'x[16] <= 195.5\\ngini = 0.382\\nsamples = 66\\nvalue = [49, 17]'),\n",
              " Text(0.12756829537129316, 0.6931818181818182, 'gini = 0.0\\nsamples = 16\\nvalue = [16, 0]'),\n",
              " Text(0.12841311851944742, 0.6931818181818182, 'x[20] <= 492.5\\ngini = 0.449\\nsamples = 50\\nvalue = [33, 17]'),\n",
              " Text(0.12756829537129316, 0.6704545454545454, 'x[12] <= 403.0\\ngini = 0.397\\nsamples = 44\\nvalue = [32, 12]'),\n",
              " Text(0.12714588379721603, 0.6477272727272727, 'x[10] <= 1.0\\ngini = 0.363\\nsamples = 42\\nvalue = [32, 10]'),\n",
              " Text(0.12672347222313893, 0.625, 'x[17] <= 487.5\\ngini = 0.343\\nsamples = 41\\nvalue = [32, 9]'),\n",
              " Text(0.1263010606490618, 0.6022727272727273, 'x[14] <= 241.0\\ngini = 0.412\\nsamples = 31\\nvalue = [22, 9]'),\n",
              " Text(0.12587864907498467, 0.5795454545454546, 'gini = 0.0\\nsamples = 2\\nvalue = [0, 2]'),\n",
              " Text(0.12672347222313893, 0.5795454545454546, 'x[1] <= 215000.0\\ngini = 0.366\\nsamples = 29\\nvalue = [22, 7]'),\n",
              " Text(0.1256674432879461, 0.5568181818181818, 'x[0] <= 26603.0\\ngini = 0.48\\nsamples = 15\\nvalue = [9, 6]'),\n",
              " Text(0.12524503171386897, 0.5340909090909091, 'x[0] <= 15315.5\\ngini = 0.5\\nsamples = 12\\nvalue = [6, 6]'),\n",
              " Text(0.1244002085657147, 0.5113636363636364, 'x[21] <= 458.5\\ngini = 0.408\\nsamples = 7\\nvalue = [5, 2]'),\n",
              " Text(0.12397779699163756, 0.48863636363636365, 'x[3] <= 1.5\\ngini = 0.278\\nsamples = 6\\nvalue = [5, 1]'),\n",
              " Text(0.12355538541756043, 0.4659090909090909, 'gini = 0.0\\nsamples = 4\\nvalue = [4, 0]'),\n",
              " Text(0.1244002085657147, 0.4659090909090909, 'x[23] <= 321.0\\ngini = 0.5\\nsamples = 2\\nvalue = [1, 1]'),\n",
              " Text(0.12397779699163756, 0.4431818181818182, 'gini = 0.0\\nsamples = 1\\nvalue = [1, 0]'),\n",
              " Text(0.12482262013979183, 0.4431818181818182, 'gini = 0.0\\nsamples = 1\\nvalue = [0, 1]'),\n",
              " Text(0.12482262013979183, 0.48863636363636365, 'gini = 0.0\\nsamples = 1\\nvalue = [0, 1]'),\n",
              " Text(0.12608985486202323, 0.5113636363636364, 'x[2] <= 1.5\\ngini = 0.32\\nsamples = 5\\nvalue = [1, 4]'),\n",
              " Text(0.1256674432879461, 0.48863636363636365, 'gini = 0.0\\nsamples = 3\\nvalue = [0, 3]'),\n",
              " Text(0.12651226643610036, 0.48863636363636365, 'x[23] <= 321.0\\ngini = 0.5\\nsamples = 2\\nvalue = [1, 1]'),\n",
              " Text(0.12608985486202323, 0.4659090909090909, 'gini = 0.0\\nsamples = 1\\nvalue = [0, 1]'),\n",
              " Text(0.12693467801017747, 0.4659090909090909, 'gini = 0.0\\nsamples = 1\\nvalue = [1, 0]'),\n",
              " Text(0.12608985486202323, 0.5340909090909091, 'gini = 0.0\\nsamples = 3\\nvalue = [3, 0]'),\n",
              " Text(0.12777950115833173, 0.5568181818181818, 'x[0] <= 1271.0\\ngini = 0.133\\nsamples = 14\\nvalue = [13, 1]'),\n",
              " Text(0.1273570895842546, 0.5340909090909091, 'x[1] <= 270000.0\\ngini = 0.5\\nsamples = 2\\nvalue = [1, 1]'),\n",
              " Text(0.12693467801017747, 0.5113636363636364, 'gini = 0.0\\nsamples = 1\\nvalue = [0, 1]'),\n",
              " Text(0.12777950115833173, 0.5113636363636364, 'gini = 0.0\\nsamples = 1\\nvalue = [1, 0]'),\n",
              " Text(0.12820191273240886, 0.5340909090909091, 'gini = 0.0\\nsamples = 12\\nvalue = [12, 0]'),\n",
              " Text(0.12714588379721603, 0.6022727272727273, 'gini = 0.0\\nsamples = 10\\nvalue = [10, 0]'),\n",
              " Text(0.12756829537129316, 0.625, 'gini = 0.0\\nsamples = 1\\nvalue = [0, 1]'),\n",
              " Text(0.1279907069453703, 0.6477272727272727, 'gini = 0.0\\nsamples = 2\\nvalue = [0, 2]'),\n",
              " Text(0.12925794166760168, 0.6704545454545454, 'x[20] <= 741.0\\ngini = 0.278\\nsamples = 6\\nvalue = [1, 5]'),\n",
              " Text(0.12883553009352455, 0.6477272727272727, 'gini = 0.0\\nsamples = 5\\nvalue = [0, 5]'),\n",
              " Text(0.12968035324167881, 0.6477272727272727, 'gini = 0.0\\nsamples = 1\\nvalue = [1, 0]'),\n",
              " Text(0.13200361689910303, 0.7159090909090909, 'x[5] <= 25.0\\ngini = 0.183\\nsamples = 59\\nvalue = [53, 6]'),\n",
              " Text(0.1315812053250259, 0.6931818181818182, 'gini = 0.0\\nsamples = 1\\nvalue = [0, 1]'),\n",
              " Text(0.13242602847318016, 0.6931818181818182, 'x[12] <= 458.0\\ngini = 0.158\\nsamples = 58\\nvalue = [53, 5]'),\n",
              " Text(0.13136999953798734, 0.6704545454545454, 'x[0] <= 25341.0\\ngini = 0.133\\nsamples = 56\\nvalue = [52, 4]'),\n",
              " Text(0.13052517638983308, 0.6477272727272727, 'x[7] <= -0.5\\ngini = 0.046\\nsamples = 42\\nvalue = [41, 1]'),\n",
              " Text(0.13010276481575594, 0.625, 'gini = 0.0\\nsamples = 41\\nvalue = [41, 0]'),\n",
              " Text(0.1309475879639102, 0.625, 'gini = 0.0\\nsamples = 1\\nvalue = [0, 1]'),\n",
              " Text(0.1322148226861416, 0.6477272727272727, 'x[0] <= 26119.0\\ngini = 0.337\\nsamples = 14\\nvalue = [11, 3]'),\n",
              " Text(0.13179241111206447, 0.625, 'gini = 0.0\\nsamples = 2\\nvalue = [0, 2]'),\n",
              " Text(0.13263723426021873, 0.625, 'x[0] <= 29430.5\\ngini = 0.153\\nsamples = 12\\nvalue = [11, 1]'),\n",
              " Text(0.1322148226861416, 0.6022727272727273, 'gini = 0.0\\nsamples = 10\\nvalue = [10, 0]'),\n",
              " Text(0.13305964583429586, 0.6022727272727273, 'x[1] <= 205000.0\\ngini = 0.5\\nsamples = 2\\nvalue = [1, 1]'),\n",
              " Text(0.13263723426021873, 0.5795454545454546, 'gini = 0.0\\nsamples = 1\\nvalue = [1, 0]'),\n",
              " Text(0.133482057408373, 0.5795454545454546, 'gini = 0.0\\nsamples = 1\\nvalue = [0, 1]'),\n",
              " Text(0.133482057408373, 0.6704545454545454, 'x[12] <= 473.0\\ngini = 0.5\\nsamples = 2\\nvalue = [1, 1]'),\n",
              " Text(0.13305964583429586, 0.6477272727272727, 'gini = 0.0\\nsamples = 1\\nvalue = [0, 1]'),\n",
              " Text(0.13390446898245012, 0.6477272727272727, 'gini = 0.0\\nsamples = 1\\nvalue = [1, 0]'),\n",
              " Text(0.1351717037046815, 0.7613636363636364, 'x[9] <= -1.5\\ngini = 0.475\\nsamples = 49\\nvalue = [30, 19]'),\n",
              " Text(0.13411567476948869, 0.7386363636363636, 'x[12] <= 443.0\\ngini = 0.375\\nsamples = 12\\nvalue = [3, 9]'),\n",
              " Text(0.13369326319541155, 0.7159090909090909, 'x[17] <= -698.5\\ngini = 0.18\\nsamples = 10\\nvalue = [1, 9]'),\n",
              " Text(0.13327085162133442, 0.6931818181818182, 'gini = 0.0\\nsamples = 1\\nvalue = [1, 0]'),\n",
              " Text(0.13411567476948869, 0.6931818181818182, 'gini = 0.0\\nsamples = 9\\nvalue = [0, 9]'),\n",
              " Text(0.13453808634356582, 0.7159090909090909, 'gini = 0.0\\nsamples = 2\\nvalue = [2, 0]'),\n",
              " Text(0.13622773263987434, 0.7386363636363636, 'x[17] <= 499.0\\ngini = 0.394\\nsamples = 37\\nvalue = [27, 10]'),\n",
              " Text(0.13538290949172008, 0.7159090909090909, 'x[14] <= 1672.0\\ngini = 0.497\\nsamples = 13\\nvalue = [6, 7]'),\n",
              " Text(0.13496049791764295, 0.6931818181818182, 'gini = 0.0\\nsamples = 6\\nvalue = [0, 6]'),\n",
              " Text(0.1358053210657972, 0.6931818181818182, 'x[0] <= 17756.5\\ngini = 0.245\\nsamples = 7\\nvalue = [6, 1]'),\n",
              " Text(0.13538290949172008, 0.6704545454545454, 'gini = 0.0\\nsamples = 6\\nvalue = [6, 0]'),\n",
              " Text(0.13622773263987434, 0.6704545454545454, 'gini = 0.0\\nsamples = 1\\nvalue = [0, 1]'),\n",
              " Text(0.1370725557880286, 0.7159090909090909, 'x[16] <= 1747.5\\ngini = 0.219\\nsamples = 24\\nvalue = [21, 3]'),\n",
              " Text(0.13665014421395147, 0.6931818181818182, 'gini = 0.0\\nsamples = 17\\nvalue = [17, 0]'),\n",
              " Text(0.13749496736210573, 0.6931818181818182, 'x[12] <= -325.0\\ngini = 0.49\\nsamples = 7\\nvalue = [4, 3]'),\n",
              " Text(0.1370725557880286, 0.6704545454545454, 'gini = 0.0\\nsamples = 3\\nvalue = [3, 0]'),\n",
              " Text(0.13791737893618286, 0.6704545454545454, 'x[0] <= 25857.0\\ngini = 0.375\\nsamples = 4\\nvalue = [1, 3]'),\n",
              " Text(0.13749496736210573, 0.6477272727272727, 'gini = 0.0\\nsamples = 3\\nvalue = [0, 3]'),\n",
              " Text(0.13833979051026, 0.6477272727272727, 'gini = 0.0\\nsamples = 1\\nvalue = [1, 0]'),\n",
              " Text(0.13833979051026, 0.8068181818181818, 'x[0] <= 5794.0\\ngini = 0.092\\nsamples = 62\\nvalue = [59, 3]'),\n",
              " Text(0.13791737893618286, 0.7840909090909091, 'x[22] <= 330.5\\ngini = 0.337\\nsamples = 14\\nvalue = [11, 3]'),\n",
              " Text(0.13749496736210573, 0.7613636363636364, 'x[5] <= 35.5\\ngini = 0.48\\nsamples = 5\\nvalue = [2, 3]'),\n",
              " Text(0.1370725557880286, 0.7386363636363636, 'gini = 0.0\\nsamples = 3\\nvalue = [0, 3]'),\n",
              " Text(0.13791737893618286, 0.7386363636363636, 'gini = 0.0\\nsamples = 2\\nvalue = [2, 0]'),\n",
              " Text(0.13833979051026, 0.7613636363636364, 'gini = 0.0\\nsamples = 9\\nvalue = [9, 0]'),\n",
              " Text(0.13876220208433712, 0.7840909090909091, 'gini = 0.0\\nsamples = 48\\nvalue = [48, 0]'),\n",
              " Text(0.14319752361214697, 0.8295454545454546, 'x[15] <= 783.0\\ngini = 0.398\\nsamples = 62\\nvalue = [45, 17]'),\n",
              " Text(0.14277511203806983, 0.8068181818181818, 'x[0] <= 17704.5\\ngini = 0.375\\nsamples = 60\\nvalue = [45, 15]'),\n",
              " Text(0.14193028888991557, 0.7840909090909091, 'x[0] <= 16365.5\\ngini = 0.455\\nsamples = 40\\nvalue = [26, 14]'),\n",
              " Text(0.14150787731583844, 0.7613636363636364, 'x[21] <= 113.5\\ngini = 0.432\\nsamples = 38\\nvalue = [26, 12]'),\n",
              " Text(0.1410854657417613, 0.7386363636363636, 'gini = 0.0\\nsamples = 8\\nvalue = [8, 0]'),\n",
              " Text(0.14193028888991557, 0.7386363636363636, 'x[23] <= 1084.0\\ngini = 0.48\\nsamples = 30\\nvalue = [18, 12]'),\n",
              " Text(0.14150787731583844, 0.7159090909090909, 'x[0] <= 9063.5\\ngini = 0.499\\nsamples = 25\\nvalue = [13, 12]'),\n",
              " Text(0.14045184838064562, 0.6931818181818182, 'x[0] <= 5791.0\\ngini = 0.457\\nsamples = 17\\nvalue = [11, 6]'),\n",
              " Text(0.13960702523249138, 0.6704545454545454, 'x[16] <= 353.0\\ngini = 0.494\\nsamples = 9\\nvalue = [4, 5]'),\n",
              " Text(0.13918461365841425, 0.6477272727272727, 'x[7] <= -1.5\\ngini = 0.32\\nsamples = 5\\nvalue = [4, 1]'),\n",
              " Text(0.13876220208433712, 0.625, 'gini = 0.0\\nsamples = 1\\nvalue = [0, 1]'),\n",
              " Text(0.13960702523249138, 0.625, 'gini = 0.0\\nsamples = 4\\nvalue = [4, 0]'),\n",
              " Text(0.1400294368065685, 0.6477272727272727, 'gini = 0.0\\nsamples = 4\\nvalue = [0, 4]'),\n",
              " Text(0.14129667152879988, 0.6704545454545454, 'x[22] <= 472.5\\ngini = 0.219\\nsamples = 8\\nvalue = [7, 1]'),\n",
              " Text(0.14087425995472275, 0.6477272727272727, 'gini = 0.0\\nsamples = 7\\nvalue = [7, 0]'),\n",
              " Text(0.141719083102877, 0.6477272727272727, 'gini = 0.0\\nsamples = 1\\nvalue = [0, 1]'),\n",
              " Text(0.14256390625103127, 0.6931818181818182, 'x[1] <= 225000.0\\ngini = 0.375\\nsamples = 8\\nvalue = [2, 6]'),\n",
              " Text(0.14214149467695414, 0.6704545454545454, 'gini = 0.0\\nsamples = 5\\nvalue = [0, 5]'),\n",
              " Text(0.1429863178251084, 0.6704545454545454, 'x[13] <= 752.5\\ngini = 0.444\\nsamples = 3\\nvalue = [2, 1]'),\n",
              " Text(0.14256390625103127, 0.6477272727272727, 'gini = 0.0\\nsamples = 2\\nvalue = [2, 0]'),\n",
              " Text(0.14340872939918553, 0.6477272727272727, 'gini = 0.0\\nsamples = 1\\nvalue = [0, 1]'),\n",
              " Text(0.1423527004639927, 0.7159090909090909, 'gini = 0.0\\nsamples = 5\\nvalue = [5, 0]'),\n",
              " Text(0.1423527004639927, 0.7613636363636364, 'gini = 0.0\\nsamples = 2\\nvalue = [0, 2]'),\n",
              " Text(0.1436199351862241, 0.7840909090909091, 'x[14] <= -1.5\\ngini = 0.095\\nsamples = 20\\nvalue = [19, 1]'),\n",
              " Text(0.14319752361214697, 0.7613636363636364, 'gini = 0.0\\nsamples = 1\\nvalue = [0, 1]'),\n",
              " Text(0.14404234676030123, 0.7613636363636364, 'gini = 0.0\\nsamples = 19\\nvalue = [19, 0]'),\n",
              " Text(0.1436199351862241, 0.8068181818181818, 'gini = 0.0\\nsamples = 2\\nvalue = [0, 2]'),\n",
              " Text(0.26867577729246966, 0.8977272727272727, 'x[9] <= 1.0\\ngini = 0.283\\nsamples = 3166\\nvalue = [2626, 540]'),\n",
              " Text(0.2418383575233399, 0.875, 'x[19] <= 4189.0\\ngini = 0.257\\nsamples = 2645\\nvalue = [2245, 400]'),\n",
              " Text(0.2206694086464844, 0.8522727272727273, 'x[8] <= 1.5\\ngini = 0.272\\nsamples = 2253\\nvalue = [1887, 366]'),\n",
              " Text(0.1983993607518596, 0.8295454545454546, 'x[12] <= 6681.0\\ngini = 0.265\\nsamples = 2164\\nvalue = [1824, 340]'),\n",
              " Text(0.17245259316980285, 0.8068181818181818, 'x[7] <= -1.5\\ngini = 0.301\\nsamples = 941\\nvalue = [767, 174]'),\n",
              " Text(0.1511705420728528, 0.7840909090909091, 'x[12] <= 6489.5\\ngini = 0.19\\nsamples = 244\\nvalue = [218, 26]'),\n",
              " Text(0.15074813049877567, 0.7613636363636364, 'x[20] <= 835.5\\ngini = 0.179\\nsamples = 242\\nvalue = [218, 24]'),\n",
              " Text(0.1499033073506214, 0.7386363636363636, 'x[3] <= 5.5\\ngini = 0.167\\nsamples = 239\\nvalue = [217, 22]'),\n",
              " Text(0.14948089577654428, 0.7159090909090909, 'x[10] <= 1.0\\ngini = 0.161\\nsamples = 238\\nvalue = [217, 21]'),\n",
              " Text(0.14905848420246715, 0.6931818181818182, 'x[5] <= 47.5\\ngini = 0.155\\nsamples = 237\\nvalue = [217, 20]'),\n",
              " Text(0.14647121331124474, 0.6704545454545454, 'x[1] <= 165000.0\\ngini = 0.125\\nsamples = 209\\nvalue = [195, 14]'),\n",
              " Text(0.1442535525473398, 0.6477272727272727, 'x[20] <= 555.5\\ngini = 0.216\\nsamples = 65\\nvalue = [57, 8]'),\n",
              " Text(0.14319752361214697, 0.625, 'x[23] <= 4337.5\\ngini = 0.135\\nsamples = 55\\nvalue = [51, 4]'),\n",
              " Text(0.1423527004639927, 0.6022727272727273, 'x[12] <= 3737.5\\ngini = 0.078\\nsamples = 49\\nvalue = [47, 2]'),\n",
              " Text(0.14193028888991557, 0.5795454545454546, 'gini = 0.0\\nsamples = 37\\nvalue = [37, 0]'),\n",
              " Text(0.14277511203806983, 0.5795454545454546, 'x[12] <= 3850.5\\ngini = 0.278\\nsamples = 12\\nvalue = [10, 2]'),\n",
              " Text(0.1423527004639927, 0.5568181818181818, 'gini = 0.0\\nsamples = 1\\nvalue = [0, 1]'),\n",
              " Text(0.14319752361214697, 0.5568181818181818, 'x[5] <= 28.0\\ngini = 0.165\\nsamples = 11\\nvalue = [10, 1]'),\n",
              " Text(0.14277511203806983, 0.5340909090909091, 'x[4] <= 1.5\\ngini = 0.5\\nsamples = 2\\nvalue = [1, 1]'),\n",
              " Text(0.1423527004639927, 0.5113636363636364, 'gini = 0.0\\nsamples = 1\\nvalue = [0, 1]'),\n",
              " Text(0.14319752361214697, 0.5113636363636364, 'gini = 0.0\\nsamples = 1\\nvalue = [1, 0]'),\n",
              " Text(0.1436199351862241, 0.5340909090909091, 'gini = 0.0\\nsamples = 9\\nvalue = [9, 0]'),\n",
              " Text(0.14404234676030123, 0.6022727272727273, 'x[16] <= 529.0\\ngini = 0.444\\nsamples = 6\\nvalue = [4, 2]'),\n",
              " Text(0.1436199351862241, 0.5795454545454546, 'gini = 0.0\\nsamples = 2\\nvalue = [0, 2]'),\n",
              " Text(0.14446475833437836, 0.5795454545454546, 'gini = 0.0\\nsamples = 4\\nvalue = [4, 0]'),\n",
              " Text(0.14530958148253262, 0.625, 'x[20] <= 585.0\\ngini = 0.48\\nsamples = 10\\nvalue = [6, 4]'),\n",
              " Text(0.1448871699084555, 0.6022727272727273, 'gini = 0.0\\nsamples = 2\\nvalue = [0, 2]'),\n",
              " Text(0.14573199305660975, 0.6022727272727273, 'x[23] <= 792.5\\ngini = 0.375\\nsamples = 8\\nvalue = [6, 2]'),\n",
              " Text(0.14530958148253262, 0.5795454545454546, 'gini = 0.0\\nsamples = 6\\nvalue = [6, 0]'),\n",
              " Text(0.14615440463068688, 0.5795454545454546, 'gini = 0.0\\nsamples = 2\\nvalue = [0, 2]'),\n",
              " Text(0.14868887407514966, 0.6477272727272727, 'x[8] <= -1.5\\ngini = 0.08\\nsamples = 144\\nvalue = [138, 6]'),\n",
              " Text(0.1478440509269954, 0.625, 'x[18] <= 2.0\\ngini = 0.068\\nsamples = 141\\nvalue = [136, 5]'),\n",
              " Text(0.14742163935291827, 0.6022727272727273, 'x[0] <= 14960.0\\ngini = 0.168\\nsamples = 54\\nvalue = [49, 5]'),\n",
              " Text(0.14699922777884114, 0.5795454545454546, 'gini = 0.0\\nsamples = 25\\nvalue = [25, 0]'),\n",
              " Text(0.1478440509269954, 0.5795454545454546, 'x[0] <= 16368.5\\ngini = 0.285\\nsamples = 29\\nvalue = [24, 5]'),\n",
              " Text(0.14742163935291827, 0.5568181818181818, 'gini = 0.0\\nsamples = 2\\nvalue = [0, 2]'),\n",
              " Text(0.14826646250107253, 0.5568181818181818, 'x[12] <= 4118.0\\ngini = 0.198\\nsamples = 27\\nvalue = [24, 3]'),\n",
              " Text(0.1478440509269954, 0.5340909090909091, 'x[1] <= 305000.0\\ngini = 0.142\\nsamples = 26\\nvalue = [24, 2]'),\n",
              " Text(0.14742163935291827, 0.5113636363636364, 'gini = 0.0\\nsamples = 16\\nvalue = [16, 0]'),\n",
              " Text(0.14826646250107253, 0.5113636363636364, 'x[0] <= 22476.5\\ngini = 0.32\\nsamples = 10\\nvalue = [8, 2]'),\n",
              " Text(0.1478440509269954, 0.48863636363636365, 'gini = 0.0\\nsamples = 6\\nvalue = [6, 0]'),\n",
              " Text(0.14868887407514966, 0.48863636363636365, 'x[0] <= 24423.0\\ngini = 0.5\\nsamples = 4\\nvalue = [2, 2]'),\n",
              " Text(0.14826646250107253, 0.4659090909090909, 'gini = 0.0\\nsamples = 2\\nvalue = [0, 2]'),\n",
              " Text(0.1491112856492268, 0.4659090909090909, 'gini = 0.0\\nsamples = 2\\nvalue = [2, 0]'),\n",
              " Text(0.14868887407514966, 0.5340909090909091, 'gini = 0.0\\nsamples = 1\\nvalue = [0, 1]'),\n",
              " Text(0.14826646250107253, 0.6022727272727273, 'gini = 0.0\\nsamples = 87\\nvalue = [87, 0]'),\n",
              " Text(0.14953369722330392, 0.625, 'x[20] <= 345.5\\ngini = 0.444\\nsamples = 3\\nvalue = [2, 1]'),\n",
              " Text(0.1491112856492268, 0.6022727272727273, 'gini = 0.0\\nsamples = 2\\nvalue = [2, 0]'),\n",
              " Text(0.14995610879738105, 0.6022727272727273, 'gini = 0.0\\nsamples = 1\\nvalue = [0, 1]'),\n",
              " Text(0.15164575509368958, 0.6704545454545454, 'x[1] <= 245000.0\\ngini = 0.337\\nsamples = 28\\nvalue = [22, 6]'),\n",
              " Text(0.15122334351961245, 0.6477272727272727, 'gini = 0.0\\nsamples = 12\\nvalue = [12, 0]'),\n",
              " Text(0.1520681666677667, 0.6477272727272727, 'x[5] <= 50.0\\ngini = 0.469\\nsamples = 16\\nvalue = [10, 6]'),\n",
              " Text(0.15122334351961245, 0.625, 'x[10] <= -1.5\\ngini = 0.278\\nsamples = 6\\nvalue = [1, 5]'),\n",
              " Text(0.15080093194553532, 0.6022727272727273, 'gini = 0.0\\nsamples = 5\\nvalue = [0, 5]'),\n",
              " Text(0.15164575509368958, 0.6022727272727273, 'gini = 0.0\\nsamples = 1\\nvalue = [1, 0]'),\n",
              " Text(0.15291298981592097, 0.625, 'x[0] <= 29117.0\\ngini = 0.18\\nsamples = 10\\nvalue = [9, 1]'),\n",
              " Text(0.15249057824184384, 0.6022727272727273, 'gini = 0.0\\nsamples = 9\\nvalue = [9, 0]'),\n",
              " Text(0.1533354013899981, 0.6022727272727273, 'gini = 0.0\\nsamples = 1\\nvalue = [0, 1]'),\n",
              " Text(0.1499033073506214, 0.6931818181818182, 'gini = 0.0\\nsamples = 1\\nvalue = [0, 1]'),\n",
              " Text(0.15032571892469854, 0.7159090909090909, 'gini = 0.0\\nsamples = 1\\nvalue = [0, 1]'),\n",
              " Text(0.15159295364692993, 0.7386363636363636, 'x[13] <= 1034.0\\ngini = 0.444\\nsamples = 3\\nvalue = [1, 2]'),\n",
              " Text(0.1511705420728528, 0.7159090909090909, 'gini = 0.0\\nsamples = 2\\nvalue = [0, 2]'),\n",
              " Text(0.15201536522100706, 0.7159090909090909, 'gini = 0.0\\nsamples = 1\\nvalue = [1, 0]'),\n",
              " Text(0.15159295364692993, 0.7613636363636364, 'gini = 0.0\\nsamples = 2\\nvalue = [0, 2]'),\n",
              " Text(0.1937346442667529, 0.7840909090909091, 'x[22] <= 5293.5\\ngini = 0.335\\nsamples = 697\\nvalue = [549, 148]'),\n",
              " Text(0.19136471526819834, 0.7613636363636364, 'x[18] <= 17185.5\\ngini = 0.348\\nsamples = 656\\nvalue = [509, 147]'),\n",
              " Text(0.18873691514147486, 0.7386363636363636, 'x[19] <= 4047.0\\ngini = 0.339\\nsamples = 637\\nvalue = [499, 138]'),\n",
              " Text(0.18643819590656785, 0.7159090909090909, 'x[12] <= 6006.5\\ngini = 0.335\\nsamples = 631\\nvalue = [497, 134]'),\n",
              " Text(0.18310799215898516, 0.6931818181818182, 'x[12] <= 4736.5\\ngini = 0.324\\nsamples = 601\\nvalue = [479, 122]'),\n",
              " Text(0.1794044656823597, 0.6704545454545454, 'x[22] <= 5027.0\\ngini = 0.341\\nsamples = 537\\nvalue = [420, 117]'),\n",
              " Text(0.17898205410828258, 0.6477272727272727, 'x[12] <= 4697.0\\ngini = 0.337\\nsamples = 535\\nvalue = [420, 115]'),\n",
              " Text(0.17855964253420545, 0.625, 'x[0] <= 27999.0\\ngini = 0.334\\nsamples = 533\\nvalue = [420, 113]'),\n",
              " Text(0.17453188217357155, 0.6022727272727273, 'x[0] <= 26229.5\\ngini = 0.345\\nsamples = 500\\nvalue = [389, 111]'),\n",
              " Text(0.16858841932268945, 0.5795454545454546, 'x[0] <= 14943.0\\ngini = 0.331\\nsamples = 477\\nvalue = [377, 100]'),\n",
              " Text(0.16050319778761937, 0.5568181818181818, 'x[12] <= 1875.5\\ngini = 0.362\\nsamples = 345\\nvalue = [263, 82]'),\n",
              " Text(0.15486664334602768, 0.5340909090909091, 'x[22] <= 317.0\\ngini = 0.292\\nsamples = 197\\nvalue = [162, 35]'),\n",
              " Text(0.15164575509368958, 0.5113636363636364, 'x[5] <= 45.5\\ngini = 0.174\\nsamples = 83\\nvalue = [75, 8]'),\n",
              " Text(0.15037852037145819, 0.48863636363636365, 'x[19] <= 3567.0\\ngini = 0.083\\nsamples = 69\\nvalue = [66, 3]'),\n",
              " Text(0.14995610879738105, 0.4659090909090909, 'x[18] <= 2045.5\\ngini = 0.057\\nsamples = 68\\nvalue = [66, 2]'),\n",
              " Text(0.14953369722330392, 0.4431818181818182, 'gini = 0.0\\nsamples = 57\\nvalue = [57, 0]'),\n",
              " Text(0.15037852037145819, 0.4431818181818182, 'x[21] <= 461.5\\ngini = 0.298\\nsamples = 11\\nvalue = [9, 2]'),\n",
              " Text(0.14995610879738105, 0.42045454545454547, 'gini = 0.0\\nsamples = 9\\nvalue = [9, 0]'),\n",
              " Text(0.15080093194553532, 0.42045454545454547, 'gini = 0.0\\nsamples = 2\\nvalue = [0, 2]'),\n",
              " Text(0.15080093194553532, 0.4659090909090909, 'gini = 0.0\\nsamples = 1\\nvalue = [0, 1]'),\n",
              " Text(0.15291298981592097, 0.48863636363636365, 'x[14] <= 1075.0\\ngini = 0.459\\nsamples = 14\\nvalue = [9, 5]'),\n",
              " Text(0.15249057824184384, 0.4659090909090909, 'x[5] <= 58.5\\ngini = 0.298\\nsamples = 11\\nvalue = [9, 2]'),\n",
              " Text(0.1520681666677667, 0.4431818181818182, 'x[1] <= 60000.0\\ngini = 0.18\\nsamples = 10\\nvalue = [9, 1]'),\n",
              " Text(0.15164575509368958, 0.42045454545454547, 'gini = 0.0\\nsamples = 1\\nvalue = [0, 1]'),\n",
              " Text(0.15249057824184384, 0.42045454545454547, 'gini = 0.0\\nsamples = 9\\nvalue = [9, 0]'),\n",
              " Text(0.15291298981592097, 0.4431818181818182, 'gini = 0.0\\nsamples = 1\\nvalue = [0, 1]'),\n",
              " Text(0.1533354013899981, 0.4659090909090909, 'gini = 0.0\\nsamples = 3\\nvalue = [0, 3]'),\n",
              " Text(0.1580875315983658, 0.5113636363636364, 'x[0] <= 14856.0\\ngini = 0.361\\nsamples = 114\\nvalue = [87, 27]'),\n",
              " Text(0.15766512002428867, 0.48863636363636365, 'x[17] <= 1400.0\\ngini = 0.347\\nsamples = 112\\nvalue = [87, 25]'),\n",
              " ...]"
            ]
          },
          "metadata": {},
          "execution_count": 91
        },
        {
          "output_type": "display_data",
          "data": {
            "text/plain": [
              "<Figure size 640x480 with 1 Axes>"
            ],
            "image/png": "[encoded data removed]"
          },
          "metadata": {}
        }
      ]
    },
    {
      "cell_type": "code",
      "execution_count": null,
      "metadata": {
        "colab": {
          "base_uri": "https://localhost:8080/"
        },
        "id": "ZKwKsXFajTEa",
        "outputId": "22eccc0c-b007-47f9-ebe4-f8ce47bff90e"
      },
      "outputs": [
        {
          "output_type": "execute_result",
          "data": {
            "text/plain": [
              "0.7182222222222222"
            ]
          },
          "metadata": {},
          "execution_count": 47
        }
      ],
      "source": [
        "pred=d.predict(X_test)\n",
        "d.score(X_test,y_test)"
      ]
    },
    {
      "cell_type": "code",
      "execution_count": null,
      "metadata": {
        "id": "AJmMWCNqjTEa"
      },
      "outputs": [],
      "source": [
        "from sklearn.metrics import accuracy_score,confusion_matrix\n",
        "from sklearn.metrics import classification_report"
      ]
    },
    {
      "cell_type": "code",
      "execution_count": null,
      "metadata": {
        "colab": {
          "base_uri": "https://localhost:8080/"
        },
        "id": "4-j2DlGDjTEa",
        "outputId": "c852ccf9-404e-43b5-cde8-354a0deb998f"
      },
      "outputs": [
        {
          "output_type": "execute_result",
          "data": {
            "text/plain": [
              "0.7182222222222222"
            ]
          },
          "metadata": {},
          "execution_count": 49
        }
      ],
      "source": [
        "accuracy_score(y_test,pred)"
      ]
    },
    {
      "cell_type": "code",
      "execution_count": null,
      "metadata": {
        "colab": {
          "base_uri": "https://localhost:8080/"
        },
        "id": "Dr6Lxy5gjTEa",
        "outputId": "f135e4e3-089f-402a-ebc7-6fe36e2a0ff6"
      },
      "outputs": [
        {
          "output_type": "execute_result",
          "data": {
            "text/plain": [
              "array([[5651, 1349],\n",
              "       [1187,  813]])"
            ]
          },
          "metadata": {},
          "execution_count": 50
        }
      ],
      "source": [
        "confusion_matrix(y_test,pred)"
      ]
    },
    {
      "cell_type": "code",
      "execution_count": null,
      "metadata": {
        "colab": {
          "base_uri": "https://localhost:8080/",
          "height": 70
        },
        "id": "q32OKVc3jTEa",
        "outputId": "b3f357c9-58f1-4ecc-e3e3-59e8077ebe65"
      },
      "outputs": [
        {
          "output_type": "execute_result",
          "data": {
            "text/plain": [
              "'              precision    recall  f1-score   support\\n\\n           0       0.83      0.81      0.82      7000\\n           1       0.38      0.41      0.39      2000\\n\\n    accuracy                           0.72      9000\\n   macro avg       0.60      0.61      0.60      9000\\nweighted avg       0.73      0.72      0.72      9000\\n'"
            ],
            "application/vnd.google.colaboratory.intrinsic+json": {
              "type": "string"
            }
          },
          "metadata": {},
          "execution_count": 51
        }
      ],
      "source": [
        "classification_report(y_test,pred)"
      ]
    },
    {
      "cell_type": "code",
      "execution_count": null,
      "metadata": {
        "colab": {
          "base_uri": "https://localhost:8080/"
        },
        "id": "UQC0bllMjTEa",
        "outputId": "c83c0474-4ad2-41ff-8d14-8964f879778e"
      },
      "outputs": [
        {
          "output_type": "stream",
          "name": "stdout",
          "text": [
            "              precision    recall  f1-score   support\n",
            "\n",
            "           0       0.83      0.81      0.82      7000\n",
            "           1       0.38      0.41      0.39      2000\n",
            "\n",
            "    accuracy                           0.72      9000\n",
            "   macro avg       0.60      0.61      0.60      9000\n",
            "weighted avg       0.73      0.72      0.72      9000\n",
            "\n"
          ]
        }
      ],
      "source": [
        "print(classification_report(y_test,pred))"
      ]
    },
    {
      "cell_type": "code",
      "source": [
        "from sklearn.metrics import confusion_matrix\n",
        "\n",
        "# Your code here\n",
        "\n",
        "# Now you can use confusion_matrix or cnf_matrix here\n",
        "\n",
        "cnf_matrix=confusion_matrix(y_test,pred2)\n",
        "cnf_matrix"
      ],
      "metadata": {
        "colab": {
          "base_uri": "https://localhost:8080/"
        },
        "id": "Y0yrYsVMmzE6",
        "outputId": "844e3519-9abd-42a4-ef24-8232207eb00e"
      },
      "execution_count": null,
      "outputs": [
        {
          "output_type": "execute_result",
          "data": {
            "text/plain": [
              "array([[7000,    0],\n",
              "       [2000,    0]])"
            ]
          },
          "metadata": {},
          "execution_count": 72
        }
      ]
    },
    {
      "cell_type": "code",
      "source": [
        "import seaborn as sns\n",
        "%matplotlib inline\n",
        "\n",
        "class_names=[0,1] # name  of classes\n",
        "fig, ax = plt.subplots()\n",
        "tick_marks = np.arange(len(class_names))\n",
        "plt.xticks(tick_marks, class_names)\n",
        "plt.yticks(tick_marks, class_names)\n",
        "# create heatmap\n",
        "sns.heatmap(pd.DataFrame(cnf_matrix), annot=True, cmap=\"YlGnBu\" ,fmt='g')\n",
        "ax.xaxis.set_label_position(\"top\")\n",
        "plt.tight_layout()\n",
        "plt.title('Confusion matrix', y=1.1)\n",
        "plt.ylabel('Actual label')\n",
        "plt.xlabel('Predicted label')\n"
      ],
      "metadata": {
        "colab": {
          "base_uri": "https://localhost:8080/",
          "height": 562
        },
        "id": "AK-xiqIQm1So",
        "outputId": "6a17c213-e4ea-4882-cd06-c6b62eaf549a"
      },
      "execution_count": null,
      "outputs": [
        {
          "output_type": "execute_result",
          "data": {
            "text/plain": [
              "Text(0.5, 427.9555555555555, 'Predicted label')"
            ]
          },
          "metadata": {},
          "execution_count": 73
        },
        {
          "output_type": "display_data",
          "data": {
            "text/plain": [
              "<Figure size 640x480 with 2 Axes>"
            ],
            "image/png": "[encoded data removed]"
          },
          "metadata": {}
        }
      ]
    },
    {
      "cell_type": "code",
      "execution_count": null,
      "metadata": {
        "id": "o36a7Ik2jTEa"
      },
      "outputs": [],
      "source": [
        "#Import Gaussian Naive Bayes model\n",
        "from sklearn.naive_bayes import GaussianNB\n",
        "\n",
        "#Create a Gaussian Classifier\n",
        "gnb = GaussianNB()"
      ]
    },
    {
      "cell_type": "code",
      "execution_count": null,
      "metadata": {
        "colab": {
          "base_uri": "https://localhost:8080/"
        },
        "id": "yLNuMGRHjTEa",
        "outputId": "e1170785-407a-4ee1-9690-7ce6e7b1f77d"
      },
      "outputs": [
        {
          "output_type": "execute_result",
          "data": {
            "text/plain": [
              "array([1, 1, 0, ..., 1, 1, 1])"
            ]
          },
          "metadata": {},
          "execution_count": 54
        }
      ],
      "source": [
        "#Train the model using the training sets\n",
        "gnb.fit(X_train, y_train)\n",
        "\n",
        "#Predict the response for test dataset\n",
        "gnb.predict(X_test)"
      ]
    },
    {
      "cell_type": "code",
      "execution_count": null,
      "metadata": {
        "colab": {
          "base_uri": "https://localhost:8080/"
        },
        "id": "m2_e92YmjTEa",
        "outputId": "afbc2b0d-0792-4621-9468-a4d7b1f6b8af"
      },
      "outputs": [
        {
          "output_type": "execute_result",
          "data": {
            "text/plain": [
              "0.37744444444444447"
            ]
          },
          "metadata": {},
          "execution_count": 55
        }
      ],
      "source": [
        "gnb.score(X_test,y_test)"
      ]
    },
    {
      "cell_type": "code",
      "source": [
        "from sklearn.metrics import confusion_matrix\n",
        "\n",
        "# Your code here\n",
        "\n",
        "# Now you can use confusion_matrix or cnf_matrix here\n",
        "\n",
        "cnf_matrix=confusion_matrix(y_test,pred2)\n",
        "cnf_matrix"
      ],
      "metadata": {
        "colab": {
          "base_uri": "https://localhost:8080/"
        },
        "id": "7UzkVKO8mg_R",
        "outputId": "089fc240-a561-48ad-f0cc-7c0da4bd73f7"
      },
      "execution_count": null,
      "outputs": [
        {
          "output_type": "execute_result",
          "data": {
            "text/plain": [
              "array([[7000,    0],\n",
              "       [2000,    0]])"
            ]
          },
          "metadata": {},
          "execution_count": 70
        }
      ]
    },
    {
      "cell_type": "code",
      "source": [
        "import seaborn as sns\n",
        "%matplotlib inline\n",
        "\n",
        "class_names=[0,1] # name  of classes\n",
        "fig, ax = plt.subplots()\n",
        "tick_marks = np.arange(len(class_names))\n",
        "plt.xticks(tick_marks, class_names)\n",
        "plt.yticks(tick_marks, class_names)\n",
        "# create heatmap\n",
        "sns.heatmap(pd.DataFrame(cnf_matrix), annot=True, cmap=\"YlGnBu\" ,fmt='g')\n",
        "ax.xaxis.set_label_position(\"top\")\n",
        "plt.tight_layout()\n",
        "plt.title('Confusion matrix', y=1.1)\n",
        "plt.ylabel('Actual label')\n",
        "plt.xlabel('Predicted label')\n"
      ],
      "metadata": {
        "colab": {
          "base_uri": "https://localhost:8080/",
          "height": 562
        },
        "id": "3dhO7g1tmip8",
        "outputId": "48362e58-d304-42af-fa40-98004acc7587"
      },
      "execution_count": null,
      "outputs": [
        {
          "output_type": "execute_result",
          "data": {
            "text/plain": [
              "Text(0.5, 427.9555555555555, 'Predicted label')"
            ]
          },
          "metadata": {},
          "execution_count": 71
        },
        {
          "output_type": "display_data",
          "data": {
            "text/plain": [
              "<Figure size 640x480 with 2 Axes>"
            ],
            "image/png": "[encoded data removed]"
          },
          "metadata": {}
        }
      ]
    },
    {
      "cell_type": "code",
      "execution_count": null,
      "metadata": {
        "id": "Nt_zKBo0jTEa"
      },
      "outputs": [],
      "source": [
        "from sklearn.naive_bayes import BernoulliNB\n",
        "\n",
        "#Create a Gaussian Classifier\n",
        "bnb = BernoulliNB()"
      ]
    },
    {
      "cell_type": "code",
      "execution_count": null,
      "metadata": {
        "colab": {
          "base_uri": "https://localhost:8080/"
        },
        "id": "EfxsE0ZBjTEa",
        "outputId": "71473d4a-d5be-4ce9-be4d-d6b750630059"
      },
      "outputs": [
        {
          "output_type": "execute_result",
          "data": {
            "text/plain": [
              "array([0, 1, 0, ..., 0, 0, 0])"
            ]
          },
          "metadata": {},
          "execution_count": 57
        }
      ],
      "source": [
        "#Train the model using the training sets\n",
        "bnb.fit(X_train, y_train)\n",
        "\n",
        "#Predict the response for test dataset\n",
        "bnb.predict(X_test)"
      ]
    },
    {
      "cell_type": "code",
      "execution_count": null,
      "metadata": {
        "colab": {
          "base_uri": "https://localhost:8080/"
        },
        "id": "IHfZsOV7jTEb",
        "outputId": "029db12d-43e2-4294-f862-7fe99546d466"
      },
      "outputs": [
        {
          "output_type": "execute_result",
          "data": {
            "text/plain": [
              "0.771"
            ]
          },
          "metadata": {},
          "execution_count": 58
        }
      ],
      "source": [
        "bnb.score(X_test,y_test)"
      ]
    },
    {
      "cell_type": "code",
      "source": [
        "from sklearn.metrics import confusion_matrix\n",
        "\n",
        "# Your code here\n",
        "\n",
        "# Now you can use confusion_matrix or cnf_matrix here\n",
        "\n",
        "cnf_matrix=confusion_matrix(y_test,pred2)\n",
        "cnf_matrix"
      ],
      "metadata": {
        "colab": {
          "base_uri": "https://localhost:8080/"
        },
        "id": "p-rIwCj9mMaE",
        "outputId": "7e3b2f3a-43a3-48a9-e9a2-c656fef6ffa3"
      },
      "execution_count": null,
      "outputs": [
        {
          "output_type": "execute_result",
          "data": {
            "text/plain": [
              "array([[7000,    0],\n",
              "       [2000,    0]])"
            ]
          },
          "metadata": {},
          "execution_count": 68
        }
      ]
    },
    {
      "cell_type": "code",
      "source": [
        "import seaborn as sns\n",
        "%matplotlib inline\n",
        "\n",
        "class_names=[0,1] # name  of classes\n",
        "fig, ax = plt.subplots()\n",
        "tick_marks = np.arange(len(class_names))\n",
        "plt.xticks(tick_marks, class_names)\n",
        "plt.yticks(tick_marks, class_names)\n",
        "# create heatmap\n",
        "sns.heatmap(pd.DataFrame(cnf_matrix), annot=True, cmap=\"YlGnBu\" ,fmt='g')\n",
        "ax.xaxis.set_label_position(\"top\")\n",
        "plt.tight_layout()\n",
        "plt.title('Confusion matrix', y=1.1)\n",
        "plt.ylabel('Actual label')\n",
        "plt.xlabel('Predicted label')\n"
      ],
      "metadata": {
        "colab": {
          "base_uri": "https://localhost:8080/",
          "height": 562
        },
        "id": "9TpE1RyhlH22",
        "outputId": "57f36035-9e64-4074-b1db-0bd169511d42"
      },
      "execution_count": null,
      "outputs": [
        {
          "output_type": "execute_result",
          "data": {
            "text/plain": [
              "Text(0.5, 427.9555555555555, 'Predicted label')"
            ]
          },
          "metadata": {},
          "execution_count": 69
        },
        {
          "output_type": "display_data",
          "data": {
            "text/plain": [
              "<Figure size 640x480 with 2 Axes>"
            ],
            "image/png": "[encoded data removed]"
          },
          "metadata": {}
        }
      ]
    },
    {
      "cell_type": "code",
      "source": [
        "import xgboost as xgb\n",
        "from sklearn.metrics import accuracy_score\n",
        "model = xgb.XGBClassifier(objective='binary:logistic', random_state=42)"
      ],
      "metadata": {
        "id": "yIzEFZj6uRGC"
      },
      "execution_count": null,
      "outputs": []
    },
    {
      "cell_type": "code",
      "source": [
        "\n",
        "model.fit(X_train, y_train)\n",
        "y_pred = model.predict(X_test)\n",
        "\n",
        "accuracy = accuracy_score(y_test, y_pred)\n",
        "print(\"Accuracy:\", accuracy)"
      ],
      "metadata": {
        "colab": {
          "base_uri": "https://localhost:8080/"
        },
        "id": "Hl8nGI0Xuy1a",
        "outputId": "1872e374-4f4d-4b93-afe4-4a4333f78557"
      },
      "execution_count": null,
      "outputs": [
        {
          "output_type": "stream",
          "name": "stdout",
          "text": [
            "Accuracy: 0.8145555555555556\n"
          ]
        }
      ]
    },
    {
      "cell_type": "code",
      "source": [
        "#Train Model\n",
        "from sklearn.linear_model import LogisticRegression\n",
        "r=LogisticRegression()\n",
        "r.fit(X_train, y_train)\n",
        "\n",
        "#predict\n",
        "pred=r.predict(X_test)"
      ],
      "metadata": {
        "id": "MotHA3g2vuSY"
      },
      "execution_count": null,
      "outputs": []
    },
    {
      "cell_type": "code",
      "source": [
        "r.score(X_test,y_test)"
      ],
      "metadata": {
        "colab": {
          "base_uri": "https://localhost:8080/"
        },
        "id": "ION06bDGvy6g",
        "outputId": "a261d027-40fd-4572-c40b-1b34be7460ef"
      },
      "execution_count": null,
      "outputs": [
        {
          "output_type": "execute_result",
          "data": {
            "text/plain": [
              "0.7777777777777778"
            ]
          },
          "metadata": {},
          "execution_count": 96
        }
      ]
    },
    {
      "cell_type": "code",
      "source": [
        "from sklearn.ensemble import AdaBoostClassifier\n",
        "model = ada.AdaBoostClassifier(objective='binary:logistic', random_state=42)"
      ],
      "metadata": {
        "colab": {
          "base_uri": "https://localhost:8080/",
          "height": 192
        },
        "id": "x181R7uM0C4a",
        "outputId": "c2814e58-e0e8-44ec-b86f-238b7de0aa9c"
      },
      "execution_count": null,
      "outputs": [
        {
          "output_type": "error",
          "ename": "NameError",
          "evalue": "ignored",
          "traceback": [
            "\u001b[0;31m---------------------------------------------------------------------------\u001b[0m",
            "\u001b[0;31mNameError\u001b[0m                                 Traceback (most recent call last)",
            "\u001b[0;32m<ipython-input-97-aaa337829583>\u001b[0m in \u001b[0;36m<cell line: 2>\u001b[0;34m()\u001b[0m\n\u001b[1;32m      1\u001b[0m \u001b[0;32mfrom\u001b[0m \u001b[0msklearn\u001b[0m\u001b[0;34m.\u001b[0m\u001b[0mensemble\u001b[0m \u001b[0;32mimport\u001b[0m \u001b[0mAdaBoostClassifier\u001b[0m\u001b[0;34m\u001b[0m\u001b[0;34m\u001b[0m\u001b[0m\n\u001b[0;32m----> 2\u001b[0;31m \u001b[0mmodel\u001b[0m \u001b[0;34m=\u001b[0m \u001b[0mada\u001b[0m\u001b[0;34m.\u001b[0m\u001b[0mAdaBoostClassifier\u001b[0m\u001b[0;34m(\u001b[0m\u001b[0mobjective\u001b[0m\u001b[0;34m=\u001b[0m\u001b[0;34m'binary:logistic'\u001b[0m\u001b[0;34m,\u001b[0m \u001b[0mrandom_state\u001b[0m\u001b[0;34m=\u001b[0m\u001b[0;36m42\u001b[0m\u001b[0;34m)\u001b[0m\u001b[0;34m\u001b[0m\u001b[0;34m\u001b[0m\u001b[0m\n\u001b[0m",
            "\u001b[0;31mNameError\u001b[0m: name 'ada' is not defined"
          ]
        }
      ]
    },
    {
      "cell_type": "code",
      "source": [
        "model = xgb.XGBClassifier(objective='binary:logistic', random_state=42)"
      ],
      "metadata": {
        "id": "QBXu8LOd0235"
      },
      "execution_count": null,
      "outputs": []
    },
    {
      "cell_type": "code",
      "source": [
        "# Import the AdaBoost classifier\n",
        "from sklearn.ensemble import AdaBoostClassifier\n",
        "\n",
        "\n",
        "# Create adaboost classifer object\n",
        "abc = AdaBoostClassifier(n_estimators=50, learning_rate=1, random_state=0)\n",
        "\n",
        "# Train Adaboost Classifer\n",
        "model1 = abc.fit(X_train, y_train)\n",
        "\n",
        "\n",
        "#Predict the response for test dataset\n",
        "y_pred = model1.predict(X_test)"
      ],
      "metadata": {
        "id": "crJCsjsU2z5q"
      },
      "execution_count": null,
      "outputs": []
    },
    {
      "cell_type": "code",
      "source": [
        "from sklearn.metrics import accuracy_score\n",
        "\n",
        "\n",
        "# calculate and print model accuracy\n",
        "print(\"AdaBoost Classifier Model Accuracy:\", accuracy_score(y_test, y_pred))"
      ],
      "metadata": {
        "id": "faCejdiF3CyG",
        "outputId": "d3f6bb36-4451-4bef-c87d-ec905d1880fd",
        "colab": {
          "base_uri": "https://localhost:8080/"
        }
      },
      "execution_count": null,
      "outputs": [
        {
          "output_type": "stream",
          "name": "stdout",
          "text": [
            "AdaBoost Classifier Model Accuracy: 0.8124444444444444\n"
          ]
        }
      ]
    }
  ],
  "metadata": {
    "kernelspec": {
      "display_name": "Python",
      "language": "python",
      "name": "conda-env-python-py"
    },
    "language_info": {
      "codemirror_mode": {
        "name": "ipython",
        "version": 3
      },
      "file_extension": ".py",
      "mimetype": "text/x-python",
      "name": "python",
      "nbconvert_exporter": "python",
      "pygments_lexer": "ipython3",
      "version": "3.6.12"
    },
    "colab": {
      "provenance": []
    }
  },
  "nbformat": 4,
  "nbformat_minor": 0
}